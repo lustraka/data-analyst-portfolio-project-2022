{
 "cells": [
  {
   "cell_type": "markdown",
   "metadata": {},
   "source": [
    "# Systematic Literature Review Examples in AI\n",
    "2022-08-18\n",
    "\n",
    "## Abstract\n",
    "tbc\n",
    "\n",
    "## Background\n",
    "The ability to conduct systematic literature reviews is a key component of my business value proposition.\n",
    "\n",
    "### CADIMA Protocol\n",
    "- Literature search\n",
    "  - Criteria list & Keywords\n",
    "  - (Consistency Check)\n",
    "  - Apply Criteria\n",
    "    - Title and abstract\n",
    "    - Fulltext\n",
    "  - Select studies from papers\n",
    "- Data extraction\n",
    "- Critical appraisal\n",
    "- Data synthesis\n",
    "- Presenting data/results\n",
    "\n",
    "## Research Question\n",
    "> What are similarities and differences of recent SLRs in AI?"
   ]
  },
  {
   "cell_type": "markdown",
   "metadata": {},
   "source": [
    "## Methods\n",
    "### Search strategy\n",
    "Aspect|Value\n",
    "-|-\n",
    "Database| [Web of Science](https://www.webofscience.com/)\n",
    "Query| **Computer Science, Artificial Intelligence** (WoS Categories) and **Review** (Document Type) and **2022** (Year Published) and **literature** (Title) refined by **Open Access**\n",
    "Query link | [https://www.webofscience.com/wos/woscc/summary/cd5d3049-c6dd-43a1-9355-e0a8c1858c39-4921ee5e/relevance/1](https://www.webofscience.com/wos/woscc/summary/cd5d3049-c6dd-43a1-9355-e0a8c1858c39-4921ee5e/relevance/1)\n",
    "No. of records | 24\n",
    "Date | 2022-08-18\n",
    "\n",
    "### Inclusion and exclusion criteria\n",
    "All records included\n",
    "\n",
    "### Screening and selection\n",
    "Done by initial narrow search\n",
    "\n",
    "### Data extraction and quality assessment\n",
    "Features:\n",
    "- Authors\n",
    "- Title\n",
    "- Year_published\n",
    "- Question_type\n",
    "- Research_question\n",
    "- Databases\n",
    "- Selection_criteria\n",
    "- Protocol\n",
    "- Screened_selected\n",
    "- Data_extracted\n",
    "- Results\n",
    "- Outlook"
   ]
  },
  {
   "cell_type": "code",
   "execution_count": null,
   "metadata": {},
   "outputs": [],
   "source": []
  },
  {
   "cell_type": "markdown",
   "metadata": {},
   "source": [
    "## Results"
   ]
  },
  {
   "cell_type": "markdown",
   "metadata": {},
   "source": [
    "## Discussion\n",
    "\n",
    "## Conclusion\n",
    "\n",
    "## References"
   ]
  }
 ],
 "metadata": {
  "language_info": {
   "name": "python"
  },
  "orig_nbformat": 4
 },
 "nbformat": 4,
 "nbformat_minor": 2
}

{
 "cells": [
  {
   "cell_type": "markdown",
   "metadata": {},
   "source": [
    "# Collect Data - Concepts, Triples, Discourse"
   ]
  },
  {
   "cell_type": "code",
   "execution_count": 28,
   "metadata": {},
   "outputs": [],
   "source": [
    "# Import Dependencies\n",
    "import pandas as pd\n",
    "import textwrap # ensures more readable text rendering in ipynb, html, as well as pdf\n",
    "import time"
   ]
  },
  {
   "cell_type": "code",
   "execution_count": 29,
   "metadata": {},
   "outputs": [
    {
     "data": {
      "text/plain": [
       "dict_keys(['searches', 'papers', 'authors', 'concepts', 'triples', 'discourse'])"
      ]
     },
     "execution_count": 29,
     "metadata": {},
     "output_type": "execute_result"
    }
   ],
   "source": [
    "# Import CSVs\n",
    "dw_arch = ['searches', 'papers', 'authors', 'concepts', 'triples', 'discourse']\n",
    "dw = {obj:pd.read_csv(f\"{obj}.csv\") for obj in dw_arch}\n",
    "dw.keys()"
   ]
  },
  {
   "cell_type": "code",
   "execution_count": 30,
   "metadata": {},
   "outputs": [
    {
     "data": {
      "text/plain": [
       "{'date': '2022-08-30',\n",
       " 'searches': 1,\n",
       " 'papers': 5,\n",
       " 'authors': 9,\n",
       " 'concepts': 3,\n",
       " 'triples': 5,\n",
       " 'discourse': 0}"
      ]
     },
     "execution_count": 30,
     "metadata": {},
     "output_type": "execute_result"
    }
   ],
   "source": [
    "# Update dataware status\n",
    "{'date':time.strftime('%Y-%m-%d')}|{e:len(dw[e]) for e in dw_arch}"
   ]
  },
  {
   "cell_type": "code",
   "execution_count": 31,
   "metadata": {},
   "outputs": [
    {
     "data": {
      "text/html": [
       "<div>\n",
       "<style scoped>\n",
       "    .dataframe tbody tr th:only-of-type {\n",
       "        vertical-align: middle;\n",
       "    }\n",
       "\n",
       "    .dataframe tbody tr th {\n",
       "        vertical-align: top;\n",
       "    }\n",
       "\n",
       "    .dataframe thead th {\n",
       "        text-align: right;\n",
       "    }\n",
       "</style>\n",
       "<table border=\"1\" class=\"dataframe\">\n",
       "  <thead>\n",
       "    <tr style=\"text-align: right;\">\n",
       "      <th></th>\n",
       "      <th>date</th>\n",
       "      <th>searches</th>\n",
       "      <th>papers</th>\n",
       "      <th>authors</th>\n",
       "      <th>concepts</th>\n",
       "      <th>triples</th>\n",
       "      <th>discourse</th>\n",
       "    </tr>\n",
       "  </thead>\n",
       "  <tbody>\n",
       "    <tr>\n",
       "      <th>0</th>\n",
       "      <td>2022-08-30</td>\n",
       "      <td>1</td>\n",
       "      <td>5</td>\n",
       "      <td>9</td>\n",
       "      <td>3</td>\n",
       "      <td>5</td>\n",
       "      <td>0</td>\n",
       "    </tr>\n",
       "  </tbody>\n",
       "</table>\n",
       "</div>"
      ],
      "text/plain": [
       "         date  searches  papers  authors  concepts  triples  discourse\n",
       "0  2022-08-30         1       5        9         3        5          0"
      ]
     },
     "execution_count": 31,
     "metadata": {},
     "output_type": "execute_result"
    }
   ],
   "source": [
    "status = [\n",
    "    {'date': '2022-08-30', 'searches': 1, 'papers': 5, 'authors': 9, 'concepts': 3, 'triples': 5, 'discourse': 0},\n",
    "    ]\n",
    "pd.DataFrame(status)"
   ]
  },
  {
   "cell_type": "code",
   "execution_count": 32,
   "metadata": {},
   "outputs": [
    {
     "data": {
      "text/html": [
       "<div>\n",
       "<style scoped>\n",
       "    .dataframe tbody tr th:only-of-type {\n",
       "        vertical-align: middle;\n",
       "    }\n",
       "\n",
       "    .dataframe tbody tr th {\n",
       "        vertical-align: top;\n",
       "    }\n",
       "\n",
       "    .dataframe thead th {\n",
       "        text-align: right;\n",
       "    }\n",
       "</style>\n",
       "<table border=\"1\" class=\"dataframe\">\n",
       "  <thead>\n",
       "    <tr style=\"text-align: right;\">\n",
       "      <th></th>\n",
       "      <th>name</th>\n",
       "      <th>definition</th>\n",
       "      <th>source</th>\n",
       "      <th>note</th>\n",
       "    </tr>\n",
       "  </thead>\n",
       "  <tbody>\n",
       "    <tr>\n",
       "      <th>0</th>\n",
       "      <td>systematic literature review (SLR)</td>\n",
       "      <td>A review of an existing body of literature tha...</td>\n",
       "      <td>Kraus, Sascha et al. (2020)|p.1026</td>\n",
       "      <td>note</td>\n",
       "    </tr>\n",
       "    <tr>\n",
       "      <th>1</th>\n",
       "      <td>SL-Reviewer</td>\n",
       "      <td>The system (model) for producing systematic li...</td>\n",
       "      <td>This study</td>\n",
       "      <td>note</td>\n",
       "    </tr>\n",
       "    <tr>\n",
       "      <th>2</th>\n",
       "      <td>SL-Reviewer's States</td>\n",
       "      <td>Ask questions (ASQ)|Collect data (COD)|Explore...</td>\n",
       "      <td>This study</td>\n",
       "      <td>note</td>\n",
       "    </tr>\n",
       "  </tbody>\n",
       "</table>\n",
       "</div>"
      ],
      "text/plain": [
       "                                 name  \\\n",
       "0  systematic literature review (SLR)   \n",
       "1                         SL-Reviewer   \n",
       "2                SL-Reviewer's States   \n",
       "\n",
       "                                          definition  \\\n",
       "0  A review of an existing body of literature tha...   \n",
       "1  The system (model) for producing systematic li...   \n",
       "2  Ask questions (ASQ)|Collect data (COD)|Explore...   \n",
       "\n",
       "                               source  note  \n",
       "0  Kraus, Sascha et al. (2020)|p.1026  note  \n",
       "1                          This study  note  \n",
       "2                          This study  note  "
      ]
     },
     "execution_count": 32,
     "metadata": {},
     "output_type": "execute_result"
    }
   ],
   "source": [
    "# Check concepts\n",
    "dw['concepts']"
   ]
  },
  {
   "cell_type": "code",
   "execution_count": 35,
   "metadata": {},
   "outputs": [
    {
     "name": "stdout",
     "output_type": "stream",
     "text": [
      "name: systematic literature review (SLR)\n",
      "definition:\n",
      "A review of an existing body of literature that follows a transparent and\n",
      "reproducible methodology in searching, assessing its quality and synthesising\n",
      "it, with a high level of objectivity.\n",
      "source: Kraus, Sascha et al. (2020)|p.1026\n",
      "note: no data\n",
      "\n",
      "name: SL-Reviewer\n",
      "definition:\n",
      "The system (model) for producing systematic literature reviews\n",
      "source: This study\n",
      "note: no data\n",
      "\n",
      "name: SL-Reviewer's States\n",
      "definition:\n",
      "Ask questions (ASQ)|Collect data (COD)|Explore data (EXD)|Synthesise knowledge\n",
      "(SYK)|Write the review (WRV)\n",
      "source: This study\n",
      "note: no data\n",
      "\n"
     ]
    }
   ],
   "source": [
    "concepts = dw['concepts']\n",
    "\n",
    "def wrap_lines(rec, column, inline=False):\n",
    "    '''Print the content of the column from the record wrapped.'''\n",
    "\n",
    "    if rec[column] == column:\n",
    "        print(column+': no data')\n",
    "    elif inline:\n",
    "        for line in textwrap.wrap(column+': '+rec[column], width=80):\n",
    "            print(line)\n",
    "    else: \n",
    "        print(column+':')\n",
    "        for line in textwrap.wrap(rec[column], width=80):\n",
    "            print(line)\n",
    "\n",
    "    return\n",
    "\n",
    "\n",
    "def print_concepts(concepts):\n",
    "    '''Print the records of the dataframe of concepts.'''\n",
    "\n",
    "    for idx,rec in concepts.iterrows():\n",
    "        wrap_lines(rec, 'name', inline=True)\n",
    "        wrap_lines(rec, 'definition', inline=False)\n",
    "        wrap_lines(rec, 'source', inline=True)\n",
    "        wrap_lines(rec, 'note', inline=True)\n",
    "        print()\n",
    "    \n",
    "    return\n",
    "\n",
    "print_concepts(concepts)"
   ]
  },
  {
   "cell_type": "code",
   "execution_count": 37,
   "metadata": {},
   "outputs": [
    {
     "data": {
      "text/plain": [
       "'Ask questions (ASQ)|Collect data (COD)|Explore data (EXD)|Synthesise knowledge (SYK)|Write the review (WRV)'"
      ]
     },
     "execution_count": 37,
     "metadata": {},
     "output_type": "execute_result"
    }
   ],
   "source": [
    "# Generate template for state-driven requirement\n",
    "dw['concepts'].loc[dw['concepts'].name == \"SL-Reviewer's States\",'definition'].values[0]\n"
   ]
  },
  {
   "cell_type": "markdown",
   "metadata": {},
   "source": [
    "```\n",
    "\"ASQ-\",\"WHILE asking questions, the SL-Reviewer shall\",\"source\",\"note\"\n",
    "\"COD-\",\"WHILE collecting data, the SL-Reviewer shall\",\"source\",\"note\"\n",
    "\"EXD-\",\"WHILE exploring data, the SL-Reviewer shall\",\"source\",\"note\"\n",
    "\"SYK-\",\"WHILE synthesising knowledge, the SL-Reviewer shall\",\"source\",\"note\"\n",
    "\"WRV-\",\"WHILE writing the review, the SL-Reviewer shall\",\"source\",\"note\"\n",
    "```"
   ]
  },
  {
   "cell_type": "code",
   "execution_count": null,
   "metadata": {},
   "outputs": [],
   "source": []
  }
 ],
 "metadata": {
  "kernelspec": {
   "display_name": "Python 3.9.7 ('base')",
   "language": "python",
   "name": "python3"
  },
  "language_info": {
   "codemirror_mode": {
    "name": "ipython",
    "version": 3
   },
   "file_extension": ".py",
   "mimetype": "text/x-python",
   "name": "python",
   "nbconvert_exporter": "python",
   "pygments_lexer": "ipython3",
   "version": "3.9.7"
  },
  "orig_nbformat": 4,
  "vscode": {
   "interpreter": {
    "hash": "6bbdfe987c89318d21a8f3e326c3948afb67cac6467b680734e6b94581969df5"
   }
  }
 },
 "nbformat": 4,
 "nbformat_minor": 2
}

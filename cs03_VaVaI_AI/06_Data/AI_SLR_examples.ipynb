{
 "cells": [
  {
   "cell_type": "markdown",
   "metadata": {},
   "source": [
    "# Systematic Literature Review Examples in AI\n",
    "2022-08-18\n",
    "\n",
    "## Abstract\n",
    "tbc\n",
    "\n",
    "## Background\n",
    "The ability to conduct systematic literature reviews is a key component of my business value proposition.\n",
    "\n",
    "### CADIMA Protocol\n",
    "- Literature search\n",
    "  - Criteria list & Keywords\n",
    "  - (Consistency Check)\n",
    "  - Apply Criteria\n",
    "    - Title and abstract\n",
    "    - Fulltext\n",
    "  - Select studies from papers\n",
    "- Data extraction\n",
    "  - Define critical appraisal criteria\n",
    "  - Define data extraction columns\n",
    "  - Perform data extraction\n",
    "- Critical appraisal\n",
    "- Data synthesis\n",
    "- Presenting data/results\n"
   ]
  },
  {
   "cell_type": "markdown",
   "metadata": {},
   "source": [
    "## Research Question\n",
    "> What are similarities and differences of recent SLRs in AI?"
   ]
  },
  {
   "cell_type": "markdown",
   "metadata": {},
   "source": [
    "## Methods\n",
    "### Search strategy\n",
    "Aspect|Value\n",
    "-|-\n",
    "Database| [Web of Science](https://www.webofscience.com/)\n",
    "Query| **Computer Science, Artificial Intelligence** (WoS Categories) and **Review** (Document Type) and **2022** (Year Published) and **literature** (Title) refined by **Open Access**\n",
    "Query link | [https://www.webofscience.com/wos/woscc/summary/cd5d3049-c6dd-43a1-9355-e0a8c1858c39-4921ee5e/relevance/1](https://www.webofscience.com/wos/woscc/summary/cd5d3049-c6dd-43a1-9355-e0a8c1858c39-4921ee5e/relevance/1)\n",
    "No. of records | Screened: 24<br>Selected: 13\n",
    "Date | 2022-08-18\n",
    "\n",
    "### Inclusion and exclusion criteria\n",
    "In CADIMA > Study selection: Include studies in Artificial Intelligence domain.\n",
    "\n",
    "### Screening and selection\n",
    "24 searched and screened -> 13 selected = 8 in training set + 5 in validation set\n",
    "- In CADIMA > Study slection > Select studies from papers: Download included PDFs.\n",
    "- Upload included PDFs on OneDrive into the folder [2022-cs3-VaVaI-AI](https://1drv.ms/u/s!AikiH0T16G7Y9Hs9vSbeY_KOuUXu?e=D5zFWI).\n",
    "\n",
    "**Links to Studies**\n",
    "\n",
    "```\n",
    "for idx,row in des.iterrows():\n",
    "    print(f\"{idx+1}. {row['your comment'][0].upper()} {row['article id']:2} - [{row['title']}]({row['data location']})\")\n",
    "```\n",
    "\n",
    "1. T  1 - [An automated essay scoring systems: a systematic literature review\n",
    "](https://1drv.ms/b/s!AikiH0T16G7Y9H9SqDwJ-izS7pLB?e=Rxeihh)\n",
    "2. T  2 - [Multi-object tracking in traffic environments: A systematic literature review\n",
    "](https://1drv.ms/b/s!AikiH0T16G7Y9QEkeniZk7KFqqXZ?e=5pipEj)\n",
    "3. T  3 - [Applications of deep learning for mobile malware detection: A systematic literature review\n",
    "](https://1drv.ms/b/s!AikiH0T16G7Y9QKO6yKn04ve_eL8?e=MgHcV7)\n",
    "4. T  4 - [A systematic literature review on state-of-the-art deep learning methods for process prediction\n",
    "](https://1drv.ms/b/s!AikiH0T16G7Y9QMFm5F2ORmKLkB2?e=vWrCcf)\n",
    "5. T  6 - [Machine learning techniques applied to mechanical fault diagnosis and fault prognosis in the context of real industrial manufacturing use-cases: a systematic literature review\n",
    "](https://1drv.ms/b/s!AikiH0T16G7Y9QQGIplBwOkk2qjv?e=4ZxJKp)\n",
    "6. T 12 - [Software security management in critical infrastructures: a systematic literature review\n",
    "](https://1drv.ms/b/s!AikiH0T16G7Y9QVhBddkP1K-HUtS?e=iGtWjM)\n",
    "7. T 14 - [A systematic literature review on spam content detection and classification\n",
    "](https://1drv.ms/b/s!AikiH0T16G7Y9QYJYmH0z1BV1DTn?e=huE0pN)\n",
    "8. T 17 - [Current approaches for executing big data science projects-a systematic literature review\n",
    "](https://1drv.ms/b/s!AikiH0T16G7Y9Qgujas_umJ86c3G?e=rHte7d)\n",
    "9. V 19 - [Artificial intelligence in disease diagnosis: a systematic literature review, synthesizing framework and future research agenda\n",
    "](https://1drv.ms/b/s!AikiH0T16G7Y9H5yv7eaeH1AyyDm?e=7OdXl8)\n",
    "10. V 20 - [Exploration of the usability quality attributes of mobile government services: a literature review\n",
    "](https://1drv.ms/b/s!AikiH0T16G7Y9H3T15PzK812MhyA?e=alewDf)\n",
    "11. V 21 - [Data privacy during pandemics: a systematic literature review of COVID-19 smartphone applications\n",
    "](https://1drv.ms/b/s!AikiH0T16G7Y9QcNoPfQitW3wPAj?e=BKMmsv)\n",
    "12. V 23 - [Machine learning techniques and data for stock market forecasting: A literature review\n",
    "](https://1drv.ms/b/s!AikiH0T16G7Y9QCFMvy8CBEA99Yd?e=a6KATb)\n",
    "13. V 24 - [Reinforcement learning in urban network traffic signal control: A systematic literature review\n",
    "](https://1drv.ms/b/s!AikiH0T16G7Y9Qlt6dWDCSUG55v9?e=ZJcHsV)"
   ]
  },
  {
   "cell_type": "markdown",
   "metadata": {},
   "source": [
    "### Data extraction and quality assessment\n",
    "- In CADIMA > Data extraction: **Define data extraction columns**:\n",
    "    - Predefined\n",
    "        - comments\n",
    "        - article id\n",
    "        - study id\n",
    "        - author\n",
    "        - publication year\n",
    "        - title\n",
    "        - data location\n",
    "        - study name\n",
    "    - question_type\n",
    "    - research_question\n",
    "    - databases\n",
    "    - selection_criteria\n",
    "    - critical_appraisal_criteria\n",
    "    - protocol\n",
    "    - screened_selected\n",
    "    - data_extracted\n",
    "    - results\n",
    "    - outlook\n",
    "- In CADIMA > Data extraction > Perform data extraction: **Download excel sheet**\n",
    "    - Copy data extraction sheet template to the \"06_Data\" folder.\n",
    "    - To work with downloaded data extraction sheet template, unlock it by using the password `CADIMA`.\n",
    "    - Copy paths to PDFs on OneDrive to the 'data location' column.\n",
    "    - Generate markdown links to PDFs to easily access the selected papers.\n"
   ]
  },
  {
   "cell_type": "code",
   "execution_count": 28,
   "metadata": {},
   "outputs": [],
   "source": [
    "# Import dependencies\n",
    "import pandas as pd\n",
    "from pprint import pprint"
   ]
  },
  {
   "cell_type": "code",
   "execution_count": 16,
   "metadata": {},
   "outputs": [
    {
     "data": {
      "text/plain": [
       "Index(['your comment', 'comments', 'article id', 'study id', 'author',\n",
       "       'publication year', 'title', 'data location', 'study_name',\n",
       "       'question_type', 'research_question', 'databases', 'search_string',\n",
       "       'selection_criteria', 'critical_appraisal_criteria', 'protocol',\n",
       "       'screened_selected', 'data_extracted', 'results', 'outlook'],\n",
       "      dtype='object')"
      ]
     },
     "execution_count": 16,
     "metadata": {},
     "output_type": "execute_result"
    }
   ],
   "source": [
    "# Load data extraction sheet `des``\n",
    "des = pd.read_excel('data_extraction_sheet.xlsx')\n",
    "des.columns"
   ]
  },
  {
   "cell_type": "markdown",
   "metadata": {},
   "source": [
    "## Results"
   ]
  },
  {
   "cell_type": "code",
   "execution_count": 30,
   "metadata": {},
   "outputs": [
    {
     "name": "stdout",
     "output_type": "stream",
     "text": [
      "\n",
      " 1 Automated essay scoring\n",
      "--------------------------------------------------------------------------------\n",
      "RQ1 What are the datasets available for research on automated essay grading?\n",
      "RQ2 What are the features extracted for the assessment of essays?\n",
      "RQ3 Which  are  the  evaluation  metrics  available  for  measuring  the  accuracy  of  algorithms?\n",
      "RQ4 What are the Machine Learning techniques used for automatic essay grading, and how are they implemented?\n",
      "RQ5 What are the challenges/limitations in the current research?\n",
      "\n",
      " 2 Multi-object tracking in traffic environments\n",
      "--------------------------------------------------------------------------------\n",
      "RQ1 Which are the main techniques for Multi-Object Tracing in traffic environments?\n",
      "RQ2 Which are the devices used for Multi-Object Tracing in traffic environments?\n",
      "RQ3 Which are the main datasets for Multi-Object Tracing in traffic environments?\n",
      "RQ4 Which are the evaluation metrics for Multi-Object Tracing in traffic environments?\n",
      "RQ5 What are the main open lines of research or issues in this domain?\n",
      "\n",
      " 3 Deep learning for mobile malware detection\n",
      "--------------------------------------------------------------------------------\n",
      "RQ1 Which machine learning categories (supervised/unsupervised/semi-supervised/reinforcement learning) have been prefered in deep learning-based mobile malware detection?\n",
      "RQ2 What data sources/features (e.g., API calls and system calls) have been used for the development of the malware detection models?\n",
      "RQ3 What kind of deep learning algorithms (e.g., CNN and LSTM) have been applied?\n",
      "RQ4 What kind of evaluation parameters (e.g., accuracy) and evaluation approaches (e.g., cross-validation) has been used?\n",
      "RQ5 Which deep learning algorithm works best for mobile malware detection?\n",
      "RQ6 What kind of feature selection techniques have been used?\n",
      "RQ7 Which public datasets have been analyzed during the development of the model?\n",
      "RQ8 Which deep learning platforms have been used for the implementation of the models??\n",
      "RQ9 what are the challenges and research gaps in mobile malware detection?\n",
      "\n",
      " 4 Deep learning for process prediction\n",
      "--------------------------------------------------------------------------------\n",
      "RQ1 Which kind of neural network is used for prediction?\n",
      "RQ2 Which pre-processing steps are carried out?\n",
      "RQ3 How it the data being encoded?\n",
      "RQ4 What is the prediction target?\n",
      "RQ5 Are there dominant approaches or does every approach come with its own advantages?\n",
      "RQ6 Are the proposed approaches combinable?\n",
      "\n",
      " 5 Machine learning in mechanical fault diagnosis and prognosis\n",
      "--------------------------------------------------------------------------------\n",
      "RQ1 In which publication venues are studies about the use of machine learning for mechanical fault detection and fault prognosis in manufacturing equipment published?\n",
      "RQ2 In which scientific fields has the use of machine learning for mechanical fault detection and fault prognosis in manufacturing equipment been researched?\n",
      "RQ3 What machine learning algorithms and methods are currently employed for mechanical fault detection and fault prognosis in manufacturing equipment?\n",
      "RQ4 What limitations and advantages do those algorithms and methods present?\n",
      "RQ5 Which of those algorithms and methods are used for data stream learning?\n",
      "\n",
      " 6 Software security management in critical infrastructures\n",
      "--------------------------------------------------------------------------------\n",
      "RQ1 What are the identified software security threats in CIs?\n",
      "RQ2 What are the proposed solution for coping with the software security threats in CIs?\n",
      "RQ3 Which CI domains have been identified related to software security?\n",
      "RQ4 What are the adopted evaluation approaches of CIs with respect to software security?\n",
      "\n",
      " 7 Spam content detection and classification\n",
      "--------------------------------------------------------------------------------\n",
      "nan\n",
      "\n",
      " 8 Current approaches for executing big data science projects\n",
      "--------------------------------------------------------------------------------\n",
      "RQ1 Has research in this domain increased recently?\n",
      "RQ2 What are the most common approaches regarding how data science projects are organized, managed and coordinated?\n",
      "RQ3: What are the phases or activities in a data science project life cycle?\n"
     ]
    }
   ],
   "source": [
    "def parse_print_string(s, delimiter='|'):\n",
    "    '''Parses a text and prints it.'''\n",
    "\n",
    "    if str(s) == 'nan':\n",
    "        print('nan')\n",
    "    else:\n",
    "        lines = s.split(delimiter)\n",
    "        for line in lines:\n",
    "            print(line)\n",
    "\n",
    "\n",
    "\n",
    "des_train = des.loc[des['your comment'] == 'train']\n",
    "for idx,rec in des_train.iterrows():\n",
    "    print('\\n',idx+1, rec['study_name'])\n",
    "    print('-'*80)\n",
    "    parse_print_string(rec['research_question'])"
   ]
  },
  {
   "cell_type": "code",
   "execution_count": null,
   "metadata": {},
   "outputs": [],
   "source": []
  },
  {
   "cell_type": "markdown",
   "metadata": {},
   "source": [
    "## Discussion\n",
    "\n",
    "## Conclusion\n",
    "\n",
    "## References\n",
    "- [Wohlin, Claes (2014) Guidelines for snowballing in systematic literature studies and a replication in software engineering](https://dl.acm.org/doi/pdf/10.1145/2601248.2601268?casa_token=IjI3cw0YbisAAAAA:v5ZVLdeyAQDHKRSazyAqy34OnCfrjcsD4WW2oR79VCm1Fw7gP2nEEU_Fs4sooobDVLJgDuK9jlTE)"
   ]
  }
 ],
 "metadata": {
  "kernelspec": {
   "display_name": "Python 3.9.7 ('base')",
   "language": "python",
   "name": "python3"
  },
  "language_info": {
   "codemirror_mode": {
    "name": "ipython",
    "version": 3
   },
   "file_extension": ".py",
   "mimetype": "text/x-python",
   "name": "python",
   "nbconvert_exporter": "python",
   "pygments_lexer": "ipython3",
   "version": "3.9.7"
  },
  "orig_nbformat": 4,
  "vscode": {
   "interpreter": {
    "hash": "6bbdfe987c89318d21a8f3e326c3948afb67cac6467b680734e6b94581969df5"
   }
  }
 },
 "nbformat": 4,
 "nbformat_minor": 2
}

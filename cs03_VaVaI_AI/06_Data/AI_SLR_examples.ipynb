{
 "cells": [
  {
   "cell_type": "markdown",
   "metadata": {},
   "source": [
    "# Systematic Literature Review Examples in AI\n",
    "2022-08-18\n",
    "\n",
    "## Abstract\n",
    "tbc\n",
    "\n",
    "## Background\n",
    "The ability to conduct systematic literature reviews is a key component of my business value proposition.\n",
    "\n",
    "### CADIMA Protocol\n",
    "- Literature search\n",
    "  - Criteria list & Keywords\n",
    "  - (Consistency Check)\n",
    "  - Apply Criteria\n",
    "    - Title and abstract\n",
    "    - Fulltext\n",
    "  - Select studies from papers\n",
    "- Data extraction\n",
    "  - Define critical appraisal criteria\n",
    "  - Define data extraction columns\n",
    "  - Perform data extraction\n",
    "- Critical appraisal\n",
    "- Data synthesis\n",
    "- Presenting data/results\n"
   ]
  },
  {
   "cell_type": "markdown",
   "metadata": {},
   "source": [
    "## Research Question\n",
    "> What are similarities and differences of recent SLRs in AI?"
   ]
  },
  {
   "cell_type": "markdown",
   "metadata": {},
   "source": [
    "## Methods\n",
    "### Search strategy\n",
    "Aspect|Value\n",
    "-|-\n",
    "Database| [Web of Science](https://www.webofscience.com/)\n",
    "Query| **Computer Science, Artificial Intelligence** (WoS Categories) and **Review** (Document Type) and **2022** (Year Published) and **literature** (Title) refined by **Open Access**\n",
    "Query link | [https://www.webofscience.com/wos/woscc/summary/cd5d3049-c6dd-43a1-9355-e0a8c1858c39-4921ee5e/relevance/1](https://www.webofscience.com/wos/woscc/summary/cd5d3049-c6dd-43a1-9355-e0a8c1858c39-4921ee5e/relevance/1)\n",
    "No. of records | Screened: 24<br>Selected: 13\n",
    "Date | 2022-08-18\n",
    "\n",
    "### Inclusion and exclusion criteria\n",
    "All records included\n",
    "\n",
    "### Screening and selection\n",
    "Done by initial narrow search\n",
    "\n",
    "### Data extraction and quality assessment\n",
    "Features:\n",
    "- Predefined\n",
    "  - comments\n",
    "  - article id\n",
    "  - study id\n",
    "  - author\n",
    "  - publication year\n",
    "  - title\n",
    "  - data location\n",
    "  - study name\n",
    "- question_type\n",
    "- research_question\n",
    "- databases\n",
    "- selection_criteria\n",
    "- critical_appraisal_criteria\n",
    "- protocol\n",
    "- screened_selected\n",
    "- data_extracted\n",
    "- results\n",
    "- outlook\n",
    "\n",
    "Included PDFs are on OneDrive in the folder [2022-cs3-VaVaI-AI](https://1drv.ms/u/s!AikiH0T16G7Y9Hs9vSbeY_KOuUXu?e=D5zFWI).\n"
   ]
  },
  {
   "cell_type": "code",
   "execution_count": null,
   "metadata": {},
   "outputs": [],
   "source": []
  },
  {
   "cell_type": "markdown",
   "metadata": {},
   "source": [
    "## Results"
   ]
  },
  {
   "cell_type": "markdown",
   "metadata": {},
   "source": [
    "## Discussion\n",
    "\n",
    "## Conclusion\n",
    "\n",
    "## References\n",
    "- [Wohlin, Claes (2014) Guidelines for snowballing in systematic literature studies and a replication in software engineering](https://dl.acm.org/doi/pdf/10.1145/2601248.2601268?casa_token=IjI3cw0YbisAAAAA:v5ZVLdeyAQDHKRSazyAqy34OnCfrjcsD4WW2oR79VCm1Fw7gP2nEEU_Fs4sooobDVLJgDuK9jlTE)"
   ]
  }
 ],
 "metadata": {
  "language_info": {
   "name": "python"
  },
  "orig_nbformat": 4
 },
 "nbformat": 4,
 "nbformat_minor": 2
}

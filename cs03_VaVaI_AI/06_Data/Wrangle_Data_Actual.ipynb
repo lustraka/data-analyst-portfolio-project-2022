{
 "cells": [
  {
   "cell_type": "markdown",
   "metadata": {},
   "source": [
    "# Wrangle Data"
   ]
  },
  {
   "cell_type": "markdown",
   "metadata": {},
   "source": [
    "## Systematic Literature Review(er and Sensemaker)\n",
    "**2022-08-28**. What is the state-of-the-art of systematic literature reviews? Do they relate to sensemaking (both organization and information science)? To learn about sensemaking, read [CulmseeP-2013](https://workflowy.com/#/81653a4589d6) or check [Wikipedia](https://en.wikipedia.org/wiki/Sensemaking), [a conversation with Paul Culmsee](https://eight2late.wordpress.com/2014/06/18/making-sense-of-sensemaking-a-conversation-with-paul-culmsee/), or [CogNexus Institue](http://cognexus.org/id41.htm)."
   ]
  },
  {
   "cell_type": "code",
   "execution_count": 20,
   "metadata": {},
   "outputs": [],
   "source": [
    "# Import Dependencies\n",
    "import pandas as pd\n",
    "import textwrap # ensures more readable text rendering in ipynb, html, as well as pdf"
   ]
  },
  {
   "cell_type": "code",
   "execution_count": 34,
   "metadata": {},
   "outputs": [
    {
     "data": {
      "text/plain": [
       "dict_keys(['searches', 'papers', 'authors', 'concepts', 'triples', 'discourse'])"
      ]
     },
     "execution_count": 34,
     "metadata": {},
     "output_type": "execute_result"
    }
   ],
   "source": [
    "# Import CSVs\n",
    "dw_arch = ['searches', 'papers', 'authors', 'concepts', 'triples', 'discourse']\n",
    "dw = {obj:pd.read_csv(f\"{obj}.csv\") for obj in dw_arch}\n",
    "dw.keys()"
   ]
  },
  {
   "cell_type": "code",
   "execution_count": 16,
   "metadata": {},
   "outputs": [
    {
     "data": {
      "text/html": [
       "<div>\n",
       "<style scoped>\n",
       "    .dataframe tbody tr th:only-of-type {\n",
       "        vertical-align: middle;\n",
       "    }\n",
       "\n",
       "    .dataframe tbody tr th {\n",
       "        vertical-align: top;\n",
       "    }\n",
       "\n",
       "    .dataframe thead th {\n",
       "        text-align: right;\n",
       "    }\n",
       "</style>\n",
       "<table border=\"1\" class=\"dataframe\">\n",
       "  <thead>\n",
       "    <tr style=\"text-align: right;\">\n",
       "      <th></th>\n",
       "      <th>id</th>\n",
       "      <th>expr</th>\n",
       "      <th>database</th>\n",
       "      <th>results</th>\n",
       "      <th>note</th>\n",
       "    </tr>\n",
       "  </thead>\n",
       "  <tbody>\n",
       "    <tr>\n",
       "      <th>0</th>\n",
       "      <td>20220828-01</td>\n",
       "      <td>systematic literature review and sense maker</td>\n",
       "      <td>www.google.com/search</td>\n",
       "      <td>50500000</td>\n",
       "      <td>note</td>\n",
       "    </tr>\n",
       "  </tbody>\n",
       "</table>\n",
       "</div>"
      ],
      "text/plain": [
       "            id                                          expr  \\\n",
       "0  20220828-01  systematic literature review and sense maker   \n",
       "\n",
       "                database   results  note  \n",
       "0  www.google.com/search  50500000  note  "
      ]
     },
     "execution_count": 16,
     "metadata": {},
     "output_type": "execute_result"
    }
   ],
   "source": [
    "dw['searches']"
   ]
  },
  {
   "cell_type": "code",
   "execution_count": 17,
   "metadata": {},
   "outputs": [
    {
     "data": {
      "text/html": [
       "<div>\n",
       "<style scoped>\n",
       "    .dataframe tbody tr th:only-of-type {\n",
       "        vertical-align: middle;\n",
       "    }\n",
       "\n",
       "    .dataframe tbody tr th {\n",
       "        vertical-align: top;\n",
       "    }\n",
       "\n",
       "    .dataframe thead th {\n",
       "        text-align: right;\n",
       "    }\n",
       "</style>\n",
       "<table border=\"1\" class=\"dataframe\">\n",
       "  <thead>\n",
       "    <tr style=\"text-align: right;\">\n",
       "      <th></th>\n",
       "      <th>eleA</th>\n",
       "      <th>rel</th>\n",
       "      <th>eleB</th>\n",
       "      <th>source</th>\n",
       "    </tr>\n",
       "  </thead>\n",
       "  <tbody>\n",
       "    <tr>\n",
       "      <th>0</th>\n",
       "      <td>20220828-01</td>\n",
       "      <td>retrieves</td>\n",
       "      <td>Kraus, Sascha et al. (2020)</td>\n",
       "      <td>searches</td>\n",
       "    </tr>\n",
       "    <tr>\n",
       "      <th>1</th>\n",
       "      <td>20220828-01</td>\n",
       "      <td>retrieves</td>\n",
       "      <td>Lame, Guillaume (2019)</td>\n",
       "      <td>searches</td>\n",
       "    </tr>\n",
       "    <tr>\n",
       "      <th>2</th>\n",
       "      <td>20220828-01</td>\n",
       "      <td>retrieves</td>\n",
       "      <td>Chong, S.W. et al (2022)</td>\n",
       "      <td>searches</td>\n",
       "    </tr>\n",
       "    <tr>\n",
       "      <th>3</th>\n",
       "      <td>20220828-01</td>\n",
       "      <td>retrieves</td>\n",
       "      <td>Okoli, Chitu &amp; Schabram, Kira (2010)</td>\n",
       "      <td>searches</td>\n",
       "    </tr>\n",
       "    <tr>\n",
       "      <th>4</th>\n",
       "      <td>20220828-01</td>\n",
       "      <td>retrieves</td>\n",
       "      <td>Oosterwyk, Grant et al (2019)</td>\n",
       "      <td>searches</td>\n",
       "    </tr>\n",
       "  </tbody>\n",
       "</table>\n",
       "</div>"
      ],
      "text/plain": [
       "          eleA        rel                                  eleB    source\n",
       "0  20220828-01  retrieves           Kraus, Sascha et al. (2020)  searches\n",
       "1  20220828-01  retrieves                Lame, Guillaume (2019)  searches\n",
       "2  20220828-01  retrieves              Chong, S.W. et al (2022)  searches\n",
       "3  20220828-01  retrieves  Okoli, Chitu & Schabram, Kira (2010)  searches\n",
       "4  20220828-01  retrieves         Oosterwyk, Grant et al (2019)  searches"
      ]
     },
     "execution_count": 17,
     "metadata": {},
     "output_type": "execute_result"
    }
   ],
   "source": [
    "dw['triples']"
   ]
  },
  {
   "cell_type": "code",
   "execution_count": 18,
   "metadata": {},
   "outputs": [
    {
     "name": "stdout",
     "output_type": "stream",
     "text": [
      "- Kraus, Sascha et al. (2020): [ \"The art of crafting a systematic literature review in entrepreneurship research\"](https://link.springer.com/article/10.1007/s11365-020-00635-4)\n",
      "- Lame, Guillaume (2019): [Systematic Literature Reviews: An Introduction](https://hal.archives-ouvertes.fr/hal-02196760/document)\n",
      "- Chong, S.W. et al (2022): [A methodological review of systematic literature reviews in higher education: Heterogeneity and homogeneity. Educational Research Review.](https://osf.io/jn84b/download)\n",
      "- Okoli, Chitu & Schabram, Kira (2010): [A Guide to Conducting a Systematic Literature Review of Information Systems Research](https://edisciplinas.usp.br/pluginfile.php/4126343/mod_resource/content/1/systematic%20literature%20reviews%20Okoli%2C%20Schabram%202010%20Sprouts.pdf)\n",
      "- Oosterwyk, Grant et al (2019): [A Synthesis of Literature Review Guidelines from Information Systems Journals](https://easychair.org/publications/open/2h3r)\n"
     ]
    }
   ],
   "source": [
    "for idx,row in dw['papers'].iterrows():\n",
    "    print(f\"- {row['id']}: [{row['title']}]({row['url']})\")"
   ]
  },
  {
   "cell_type": "markdown",
   "metadata": {},
   "source": [
    "- Kraus, Sascha et al. (2020): [ \"The art of crafting a systematic literature review in entrepreneurship research\"](https://link.springer.com/article/10.1007/s11365-020-00635-4)\n",
    "- Lame, Guillaume (2019): [Systematic Literature Reviews: An Introduction](https://hal.archives-ouvertes.fr/hal-02196760/document)\n",
    "- Chong, S.W. et al (2022): [A methodological review of systematic literature reviews in higher education: Heterogeneity and homogeneity. Educational Research Review.](https://osf.io/jn84b/download)\n",
    "- Okoli, Chitu & Schabram, Kira (2010): [A Guide to Conducting a Systematic Literature Review of Information Systems Research](https://edisciplinas.usp.br/pluginfile.php/4126343/mod_resource/content/1/systematic%20literature%20reviews%20Okoli%2C%20Schabram%202010%20Sprouts.pdf)\n",
    "- Oosterwyk, Grant et al (2019): [A Synthesis of Literature Review Guidelines from Information Systems Journals](https://easychair.org/publications/open/2h3r)"
   ]
  },
  {
   "cell_type": "code",
   "execution_count": 71,
   "metadata": {},
   "outputs": [
    {
     "name": "stdout",
     "output_type": "stream",
     "text": [
      "Kraus, Sascha et al. (2020)\n",
      "Authors: Kraus, Sascha | Breier, Matthias | Dasí-Rodríguez, Sonia\n",
      "Title: The art of crafting a systematic literature review in entrepreneurship\n",
      "research\n",
      "Abstract:\n",
      "Systematic literature reviews are an increasingly used review methodology to\n",
      "synthesize the existing body of literature in a field. However, editors complain\n",
      "about a high number of desk rejections because of a lack in quality. Poorly\n",
      "developed review articles are not published because of a perceived lack of\n",
      "contribution to the field. Our article supports authors of standalone papers and\n",
      "graduate students in the Entrepreneurship domain to write contribution-focused\n",
      "systematic reviews e.g. by providing a concrete guideline. Our article analyzes\n",
      "the strengths and weaknesses of a systematic literature review and how they can\n",
      "be overcome. Furthermore, we provide a combined list of highly ranked journals\n",
      "in the Entrepreneurship domain as a basis for quality appraisal. Finally, this\n",
      "article builds a scenario for the future of the systematic literature review\n",
      "methodology and shows how technological improvements have changed this\n",
      "methodology and what can be achieved in the future.\n",
      "Keywords:\n",
      "no data\n",
      "================================================================================ \n",
      "\n",
      "Lame, Guillaume (2019)\n",
      "Authors: Lame, Guillaume\n",
      "Title: Systematic Literature Reviews: An Introduction\n",
      "Abstract:\n",
      "Systematic literature reviews (SRs) are a way of synthesising scientific\n",
      "evidence to answer a particular research question in a way that is transparent\n",
      "and reproducible, while seeking to include all published evidence on the topic\n",
      "and appraising the quality of this evidence. SRs have become a major methodology\n",
      "in disciplines such as public policy research and health sciences. Some have\n",
      "advocated that design research should adopt the method. However, little guidance\n",
      "is available. This paper provides an overview of the SR method, based on the\n",
      "literature in health sciences. Then, the rationale for SRs in design research is\n",
      "explored, and four recent examples of SRs in design research are analysed to\n",
      "illustrate current practice. Foreseen challenges in taking forward the SR method\n",
      "in design research are highlighted, and directions for developing a SR method\n",
      "for design research are proposed. It is concluded that SRs hold potential for\n",
      "design research and could help us in addressing some important issues, but work\n",
      "is needed to define what review methods are appropriate for each type of\n",
      "research question in design research, and to adapt guidance to our own needs and\n",
      "specificities.\n",
      "Keywords:\n",
      "research methodologies and methods|evaluation|design methodology|systematic\n",
      "reviews|design research\n",
      "================================================================================ \n",
      "\n",
      "Chong, S.W. et al (2022)\n",
      "Authors: Chong, S. W.| Jun T. J.| Chen, Y.\n",
      "Title: A methodological review of systematic literature reviews in higher\n",
      "education: Heterogeneity and homogeneity. Educational Research Review.\n",
      "Abstract:\n",
      "The field of higher education research has bourgeoned in the past decades,\n",
      "addressing a wide range of topics. Being in a rapidly expanding and\n",
      "interdisciplinary field of research, higher education scholars have demonstrated\n",
      "exigency for aggregating research findings to map the research landscape,\n",
      "identify future research directions, and bridge the research-practice divide. In\n",
      "this connection, systematic literature reviews have been carried out to\n",
      "consolidate research findings. With a proliferation of systematic literature\n",
      "reviews in higher education, the aim of this meta, methodological review is to\n",
      "provide a state-of-the-art systematic literature review methodologies in the\n",
      "field of higher education. Adhering to the exploratory nature of this study,\n",
      "this review analyses systematic literature reviews published in 16 toptiered\n",
      "international journals in higher education (n=160). Through qualitative\n",
      "researchsynthesis using thematic analysis and informed by grounded theory, a\n",
      "methodological framework comprising six stages and 20 steps is developed, which\n",
      "might help to instigate methodological dialogue between researchers when it\n",
      "comes to conducting systematic literature reviews. A handy checklist for\n",
      "conducting and evaluating systematic literature reviews in higher education is\n",
      "created.\n",
      "Keywords:\n",
      "systematic review|scoping review|research synthesis|methodology|higher education\n",
      "================================================================================ \n",
      "\n",
      "Okoli, Chitu & Schabram, Kira (2010)\n",
      "Authors: Okoli, Chitu| Schabram, Kira\n",
      "Title: A Guide to Conducting a Systematic Literature Review of Information\n",
      "Systems Research\n",
      "Abstract:\n",
      "Levy and Ellis (2006) and Webster and Watson (2002) lament the fact that\n",
      "information systems (IS) scholars tend to be unaware of the need for structure\n",
      "in literature reviews. Even today, the rigorous, standardized methodology for\n",
      "conducting a systematic literature review (SLR) that has developed from the\n",
      "health sciences and other fields is virtually unknown in IS research. In this\n",
      "paper, we adapt Fink's (2005, p. 3) definition of a research literature review\n",
      "as our operative definition of a systematic literature review: 'a systematic,\n",
      "explicit, [comprehensive, (p. 17)] and reproducible method for identifying,\n",
      "evaluating, and synthesizing the existing body of completed and recorded work\n",
      "produced by researchers, scholars, and practitioners.' Although there exists an\n",
      "abundance of guides to conducting such reviews in other research fields, none\n",
      "entirely meet the unique needs of IS researchers. In response to this shortage\n",
      "of guides, we present here the features and value of a systematic literature\n",
      "review, and adapt the methodology to the particular context of IS research.\n",
      "Keywords:\n",
      "systematic literature reviews|literature reviews|information systems\n",
      "research|research methodology|doctoral studies\n",
      "================================================================================ \n",
      "\n",
      "Oosterwyk, Grant et al (2019)\n",
      "Authors: Oosterwyk, Grant | Brown, Irwin| Geeling, Sharon\n",
      "Title: A Synthesis of Literature Review Guidelines from Information Systems\n",
      "Journals\n",
      "Abstract:\n",
      "There has recently been a plethora of guidelines published in Information\n",
      "Systems (IS) journals on how to conduct literature reviews for publication,\n",
      "often referred to as “systematic” literature reviews. The purpose of this paper\n",
      "is to make sense of these guidelines by synthesising them into a coherent whole.\n",
      "The synthesis results in the identification of five major stages for conducting\n",
      "literature reviews for publication, i.e. (1) Define the protocol, (2) Search the\n",
      "literature, (3) Select the papers, (4) Analyse, synthesise and interpret the\n",
      "data, (5) Write the review. The synthesis reveals that there are different types\n",
      "of literature review, but that the five broad stages are generally valid for all\n",
      "types. Differences in conducting literature review across type arise at a lower\n",
      "level of detail, when considering the specific activities to be performed at\n",
      "each stage. The greatest variation between types occurs at Stage 4, when\n",
      "analysing, synthesising and interpreting data.\n",
      "Keywords:\n",
      "no data\n",
      "================================================================================ \n",
      "\n"
     ]
    }
   ],
   "source": [
    "def print_paper_info(df, paper):\n",
    "    \"\"\"Print authors, year, title, abstract, and keywords of a paper.\"\"\"\n",
    "    \n",
    "    rec = df.loc[df.id == paper].copy()\n",
    "    if len(rec) < 1:\n",
    "        print('No paper with id = ', paper)\n",
    "        return \n",
    "    elif len(rec) > 1:\n",
    "        print('Duplicated records for id = ',paper)\n",
    "        return \n",
    "    else:\n",
    "        print(rec.id.values[0])\n",
    "        print(f\"Authors: {rec.authors.values[0]}\")\n",
    "        for line in textwrap.wrap(\"Title: \"+rec.title.values[0], width=80):\n",
    "            print(line)\n",
    "        print('Abstract:')\n",
    "        for line in textwrap.wrap(rec.abstract.values[0], width=80):\n",
    "            print(line)\n",
    "        print('Keywords:')\n",
    "        if rec.kws.values[0] == 'kws':\n",
    "            print('no data')\n",
    "        else:\n",
    "            for line in textwrap.wrap(rec.kws.values[0], width=80):\n",
    "                print(line)\n",
    "    print('='*80, '\\n')\n",
    "\n",
    "    return\n",
    "\n",
    "for paper in dw['papers'].id.values:\n",
    "    print_paper_info(dw['papers'], paper)\n",
    "    "
   ]
  },
  {
   "cell_type": "code",
   "execution_count": null,
   "metadata": {},
   "outputs": [],
   "source": []
  }
 ],
 "metadata": {
  "kernelspec": {
   "display_name": "Python 3.9.7 ('base')",
   "language": "python",
   "name": "python3"
  },
  "language_info": {
   "codemirror_mode": {
    "name": "ipython",
    "version": 3
   },
   "file_extension": ".py",
   "mimetype": "text/x-python",
   "name": "python",
   "nbconvert_exporter": "python",
   "pygments_lexer": "ipython3",
   "version": "3.9.7"
  },
  "orig_nbformat": 4,
  "vscode": {
   "interpreter": {
    "hash": "6bbdfe987c89318d21a8f3e326c3948afb67cac6467b680734e6b94581969df5"
   }
  }
 },
 "nbformat": 4,
 "nbformat_minor": 2
}

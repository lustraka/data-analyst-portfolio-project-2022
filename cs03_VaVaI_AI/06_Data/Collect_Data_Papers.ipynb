{
 "cells": [
  {
   "cell_type": "markdown",
   "metadata": {},
   "source": [
    "# Collect Data - Searches, Papers, Authors"
   ]
  },
  {
   "cell_type": "code",
   "execution_count": 1,
   "metadata": {},
   "outputs": [],
   "source": [
    "# Import Dependencies\n",
    "import pandas as pd\n",
    "import textwrap # ensures more readable text rendering in ipynb, html, as well as pdf\n",
    "import slr"
   ]
  },
  {
   "cell_type": "code",
   "execution_count": 2,
   "metadata": {},
   "outputs": [
    {
     "data": {
      "text/plain": [
       "dict_keys(['searches', 'papers', 'authors', 'concepts', 'triples', 'discourse'])"
      ]
     },
     "execution_count": 2,
     "metadata": {},
     "output_type": "execute_result"
    }
   ],
   "source": [
    "# Import CSVs\n",
    "dw_arch = ['searches', 'papers', 'authors', 'concepts', 'triples', 'discourse']\n",
    "dw = {obj:pd.read_csv(f\"{obj}.csv\") for obj in dw_arch}\n",
    "dw.keys()"
   ]
  },
  {
   "cell_type": "code",
   "execution_count": 3,
   "metadata": {},
   "outputs": [
    {
     "data": {
      "text/html": [
       "<div>\n",
       "<style scoped>\n",
       "    .dataframe tbody tr th:only-of-type {\n",
       "        vertical-align: middle;\n",
       "    }\n",
       "\n",
       "    .dataframe tbody tr th {\n",
       "        vertical-align: top;\n",
       "    }\n",
       "\n",
       "    .dataframe thead th {\n",
       "        text-align: right;\n",
       "    }\n",
       "</style>\n",
       "<table border=\"1\" class=\"dataframe\">\n",
       "  <thead>\n",
       "    <tr style=\"text-align: right;\">\n",
       "      <th></th>\n",
       "      <th>id</th>\n",
       "      <th>expr</th>\n",
       "      <th>database</th>\n",
       "      <th>results</th>\n",
       "      <th>note</th>\n",
       "    </tr>\n",
       "  </thead>\n",
       "  <tbody>\n",
       "    <tr>\n",
       "      <th>0</th>\n",
       "      <td>20220828-01</td>\n",
       "      <td>systematic literature review and sense maker</td>\n",
       "      <td>www.google.com/search</td>\n",
       "      <td>50500000</td>\n",
       "      <td>note</td>\n",
       "    </tr>\n",
       "  </tbody>\n",
       "</table>\n",
       "</div>"
      ],
      "text/plain": [
       "            id                                          expr  \\\n",
       "0  20220828-01  systematic literature review and sense maker   \n",
       "\n",
       "                database   results  note  \n",
       "0  www.google.com/search  50500000  note  "
      ]
     },
     "execution_count": 3,
     "metadata": {},
     "output_type": "execute_result"
    }
   ],
   "source": [
    "dw['searches']"
   ]
  },
  {
   "cell_type": "code",
   "execution_count": 4,
   "metadata": {},
   "outputs": [
    {
     "data": {
      "text/html": [
       "<div>\n",
       "<style scoped>\n",
       "    .dataframe tbody tr th:only-of-type {\n",
       "        vertical-align: middle;\n",
       "    }\n",
       "\n",
       "    .dataframe tbody tr th {\n",
       "        vertical-align: top;\n",
       "    }\n",
       "\n",
       "    .dataframe thead th {\n",
       "        text-align: right;\n",
       "    }\n",
       "</style>\n",
       "<table border=\"1\" class=\"dataframe\">\n",
       "  <thead>\n",
       "    <tr style=\"text-align: right;\">\n",
       "      <th></th>\n",
       "      <th>eleA</th>\n",
       "      <th>rel</th>\n",
       "      <th>eleB</th>\n",
       "      <th>source</th>\n",
       "      <th>note</th>\n",
       "    </tr>\n",
       "  </thead>\n",
       "  <tbody>\n",
       "    <tr>\n",
       "      <th>0</th>\n",
       "      <td>20220828-01</td>\n",
       "      <td>retrieves</td>\n",
       "      <td>Kraus, Sascha et al. (2020)</td>\n",
       "      <td>searches</td>\n",
       "      <td>note</td>\n",
       "    </tr>\n",
       "    <tr>\n",
       "      <th>1</th>\n",
       "      <td>20220828-01</td>\n",
       "      <td>retrieves</td>\n",
       "      <td>Lame, Guillaume (2019)</td>\n",
       "      <td>searches</td>\n",
       "      <td>note</td>\n",
       "    </tr>\n",
       "    <tr>\n",
       "      <th>2</th>\n",
       "      <td>20220828-01</td>\n",
       "      <td>retrieves</td>\n",
       "      <td>Chong, S.W. et al (2022)</td>\n",
       "      <td>searches</td>\n",
       "      <td>note</td>\n",
       "    </tr>\n",
       "    <tr>\n",
       "      <th>3</th>\n",
       "      <td>20220828-01</td>\n",
       "      <td>retrieves</td>\n",
       "      <td>Okoli, Chitu &amp; Schabram, Kira (2010)</td>\n",
       "      <td>searches</td>\n",
       "      <td>note</td>\n",
       "    </tr>\n",
       "    <tr>\n",
       "      <th>4</th>\n",
       "      <td>20220828-01</td>\n",
       "      <td>retrieves</td>\n",
       "      <td>Oosterwyk, Grant et al (2019)</td>\n",
       "      <td>searches</td>\n",
       "      <td>note</td>\n",
       "    </tr>\n",
       "  </tbody>\n",
       "</table>\n",
       "</div>"
      ],
      "text/plain": [
       "          eleA        rel                                  eleB    source  \\\n",
       "0  20220828-01  retrieves           Kraus, Sascha et al. (2020)  searches   \n",
       "1  20220828-01  retrieves                Lame, Guillaume (2019)  searches   \n",
       "2  20220828-01  retrieves              Chong, S.W. et al (2022)  searches   \n",
       "3  20220828-01  retrieves  Okoli, Chitu & Schabram, Kira (2010)  searches   \n",
       "4  20220828-01  retrieves         Oosterwyk, Grant et al (2019)  searches   \n",
       "\n",
       "   note  \n",
       "0  note  \n",
       "1  note  \n",
       "2  note  \n",
       "3  note  \n",
       "4  note  "
      ]
     },
     "execution_count": 4,
     "metadata": {},
     "output_type": "execute_result"
    }
   ],
   "source": [
    "dw['triples']"
   ]
  },
  {
   "cell_type": "code",
   "execution_count": null,
   "metadata": {},
   "outputs": [],
   "source": [
    "slr.export_papers_to_md_table(dw['papers'])"
   ]
  },
  {
   "cell_type": "markdown",
   "metadata": {},
   "source": [
    "\n",
    "1\n",
    "aspect|value\n",
    "-|-\n",
    "id|**Kraus, Sascha et al. (2020)** [Kraus_Sascha_et_al_2020]\n",
    "authors|Kraus, Sascha ; Breier, Matthias ; Dasí-Rodríguez, Sonia\n",
    "title|[The art of crafting a systematic literature review in entrepreneurship research](https://link.springer.com/article/10.1007/s11365-020-00635-4)\n",
    "abstract|Systematic literature reviews are an increasingly used review methodology to synthesize the existing body of literature in a field. However, editors complain about a high number of desk rejections because of a lack in quality. Poorly developed review articles are not published because of a perceived lack of contribution to the field. Our article supports authors of standalone papers and graduate students in the Entrepreneurship domain to write contribution-focused systematic reviews e.g. by providing a concrete guideline. Our article analyzes the strengths and weaknesses of a systematic literature review and how they can be overcome. Furthermore, we provide a combined list of highly ranked journals in the Entrepreneurship domain as a basis for quality appraisal. Finally, this article builds a scenario for the future of the systematic literature review methodology and shows how technological improvements have changed this methodology and what can be achieved in the future.\n",
    "kws|kws\n",
    "doi|https://doi.org/10.1007/s11365-020-00635-4\n",
    "pub_details|Int Entrep Manag J 16, 1023–1042\n",
    "note|note\n",
    "\n",
    "2\n",
    "aspect|value\n",
    "-|-\n",
    "id|**Lame, Guillaume (2019)** [Lame_Guillaume_2019]\n",
    "authors|Lame, Guillaume\n",
    "title|[Systematic Literature Reviews: An Introduction](https://hal.archives-ouvertes.fr/hal-02196760/document)\n",
    "abstract|Systematic literature reviews (SRs) are a way of synthesising scientific evidence to answer a particular research question in a way that is transparent and reproducible, while seeking to include all published evidence on the topic and appraising the quality of this evidence. SRs have become a major methodology in disciplines such as public policy research and health sciences. Some have advocated that design research should adopt the method. However, little guidance is available. This paper provides an overview of the SR method, based on the literature in health sciences. Then, the rationale for SRs in design research is explored, and four recent examples of SRs in design research are analysed to illustrate current practice. Foreseen challenges in taking forward the SR method in design research are highlighted, and directions for developing a SR method for design research are proposed. It is concluded that SRs hold potential for design research and could help us in addressing some important issues, but work is needed to define what review methods are appropriate for each type of research question in design research, and to adapt guidance to our own needs and specificities.\n",
    "kws|research methodologies and methods; evaluation; design methodology; systematic reviews; design research\n",
    "doi|doi\n",
    "pub_details|International Conference on Engineering Design 2019, Aug 2019, Delft, Netherlands. pp.1633-1642, ff10.1017/dsi.2019.169\n",
    "note|note\n",
    "\n",
    "3\n",
    "aspect|value\n",
    "-|-\n",
    "id|**Chong, S.W. et al (2022)** [Chong_SW_et_al_2022]\n",
    "authors|Chong, S. W.; Jun T. J.; Chen, Y.\n",
    "title|[A methodological review of systematic literature reviews in higher education: Heterogeneity and homogeneity. Educational Research Review.](https://osf.io/jn84b/download)\n",
    "abstract|The field of higher education research has bourgeoned in the past decades, addressing a wide range of topics. Being in a rapidly expanding and interdisciplinary field of research, higher education scholars have demonstrated exigency for aggregating research findings to map the research landscape, identify future research directions, and bridge the research-practice divide. In this connection, systematic literature reviews have been carried out to consolidate research findings. With a proliferation of systematic literature reviews in higher education, the aim of this meta, methodological review is to provide a state-of-the-art systematic literature review methodologies in the field of higher education. Adhering to the exploratory nature of this study, this review analyses systematic literature reviews published in 16 toptiered international journals in higher education (n=160). Through qualitative researchsynthesis using thematic analysis and informed by grounded theory, a methodological framework comprising six stages and 20 steps is developed, which might help to instigate methodological dialogue between researchers when it comes to conducting systematic literature reviews. A handy checklist for conducting and evaluating systematic literature reviews in higher education is created.\n",
    "kws|systematic review; scoping review; research synthesis; methodology; higher education\n",
    "doi|doi\n",
    "pub_details|Advanced online publication.\n",
    "note|note\n",
    "\n",
    "4\n",
    "aspect|value\n",
    "-|-\n",
    "id|**Okoli, Chitu & Schabram, Kira (2010)** [Okoli_Chitu_Schabram_Kira_2010]\n",
    "authors|Okoli, Chitu; Schabram, Kira\n",
    "title|[A Guide to Conducting a Systematic Literature Review of Information Systems Research](https://edisciplinas.usp.br/pluginfile.php/4126343/mod_resource/content/1/systematic%20literature%20reviews%20Okoli%2C%20Schabram%202010%20Sprouts.pdf)\n",
    "abstract|Levy and Ellis (2006) and Webster and Watson (2002) lament the fact that information systems (IS) scholars tend to be unaware of the need for structure in literature reviews. Even today, the rigorous, standardized methodology for conducting a systematic literature review (SLR) that has developed from the health sciences and other fields is virtually unknown in IS research. In this paper, we adapt Fink's (2005, p. 3) definition of a research literature review as our operative definition of a systematic literature review: 'a systematic, explicit, [comprehensive, (p. 17)] and reproducible method for identifying, evaluating, and synthesizing the existing body of completed and recorded work produced by researchers, scholars, and practitioners.' Although there exists an abundance of guides to conducting such reviews in other research fields, none entirely meet the unique needs of IS researchers. In response to this shortage of guides, we present here the features and value of a systematic literature review, and adapt the methodology to the particular context of IS research.\n",
    "kws|systematic literature reviews; literature reviews; information systems research; research methodology; doctoral studies\n",
    "doi|doi\n",
    "pub_details|Sprouts: Working Papers on Information Systems, 10(26).\n",
    "note|note\n",
    "\n",
    "5\n",
    "aspect|value\n",
    "-|-\n",
    "id|**Oosterwyk, Grant et al (2019)** [Oosterwyk_Grant_et_al_2019]\n",
    "authors|Oosterwyk, Grant ; Brown, Irwin; Geeling, Sharon\n",
    "title|[A Synthesis of Literature Review Guidelines from Information Systems Journals](https://easychair.org/publications/open/2h3r)\n",
    "abstract|There has recently been a plethora of guidelines published in Information Systems (IS) journals on how to conduct literature reviews for publication, often referred to as “systematic” literature reviews. The purpose of this paper is to make sense of these guidelines by synthesising them into a coherent whole. The synthesis results in the identification of five major stages for conducting literature reviews for publication, i.e. (1) Define the protocol, (2) Search the literature, (3) Select the papers, (4) Analyse, synthesise and interpret the data, (5) Write the review. The synthesis reveals that there are different types of literature review, but that the five broad stages are generally valid for all types. Differences in conducting literature review across type arise at a lower level of detail, when considering the specific activities to be performed at each stage. The greatest variation between types occurs at Stage 4, when analysing, synthesising and interpreting data.\n",
    "kws|kws\n",
    "doi|doi\n",
    "pub_details|Kalpa Publications in Computing. Volume 12, 2019, Pages 250–260. Proceedings of 4th International Conference on the Internet, Cyber Security and Information Systems 2019\n",
    "note|note\n"
   ]
  },
  {
   "cell_type": "code",
   "execution_count": null,
   "metadata": {},
   "outputs": [],
   "source": []
  }
 ],
 "metadata": {
  "kernelspec": {
   "display_name": "Python 3.9.7 ('base')",
   "language": "python",
   "name": "python3"
  },
  "language_info": {
   "codemirror_mode": {
    "name": "ipython",
    "version": 3
   },
   "file_extension": ".py",
   "mimetype": "text/x-python",
   "name": "python",
   "nbconvert_exporter": "python",
   "pygments_lexer": "ipython3",
   "version": "3.9.7"
  },
  "orig_nbformat": 4,
  "vscode": {
   "interpreter": {
    "hash": "6bbdfe987c89318d21a8f3e326c3948afb67cac6467b680734e6b94581969df5"
   }
  }
 },
 "nbformat": 4,
 "nbformat_minor": 2
}

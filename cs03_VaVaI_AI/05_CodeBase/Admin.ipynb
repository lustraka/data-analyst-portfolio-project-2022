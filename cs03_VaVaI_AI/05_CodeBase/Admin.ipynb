{
 "cells": [
  {
   "cell_type": "code",
   "execution_count": 1,
   "metadata": {},
   "outputs": [],
   "source": [
    "# Import dependencies\n",
    "from pathlib import Path\n",
    "from collections import Counter\n",
    "import re\n",
    "import ast"
   ]
  },
  {
   "cell_type": "markdown",
   "metadata": {},
   "source": [
    "## Generate complete CMS table"
   ]
  },
  {
   "cell_type": "code",
   "execution_count": 2,
   "metadata": {},
   "outputs": [],
   "source": [
    "dirs = {\n",
    "    '01_Admin': 'GODA(s), PLCM, Journal',\n",
    "    '02_TopicMaps': 'Search, Document',\n",
    "    '03_FullTexts': '.pdf',\n",
    "    '04_DataBase': 'DataModel, .csv, downloads',\n",
    "    '05_CodeBase': 'Jupyter Notebooks',\n",
    "    '06_CRM': 'Dissemination, Exploitation, Communication',\n",
    "}"
   ]
  },
  {
   "cell_type": "code",
   "execution_count": 3,
   "metadata": {},
   "outputs": [
    {
     "name": "stdout",
     "output_type": "stream",
     "text": [
      "Folder|Content|Note\n",
      "-|-|-\n",
      "[01_Admin](./01_Admin)|[Journal_master](./01_Admin/Journal_master.md) * [PLCM_master](./01_Admin/PLCM_master.md)|GODA(s), PLCM, Journal\n",
      "[02_TopicMaps](./02_TopicMaps)|[20220825_KickOff](./02_TopicMaps/20220825_KickOff.md) * [20220828_google_SLR_SM](./02_TopicMaps/20220828_google_SLR_SM.md) * [BolandA-2017](./02_TopicMaps/BolandA-2017.md) * [GusenbauerHaddaway-2019](./02_TopicMaps/GusenbauerHaddaway-2019.md) * [OosterwykG+2019](./02_TopicMaps/OosterwykG+2019.md)|Search, Document\n",
      "[03_FullTexts](./03_FullTexts)||.pdf\n",
      "[04_DataBase](./04_DataBase)|[AI_SLR_examples](./04_DataBase/AI_SLR_examples.ris) * [AI_SLR_examples](./04_DataBase/AI_SLR_examples.xls) * [authors](./04_DataBase/authors.csv) * [concepts](./04_DataBase/concepts.csv) * [DataModel](./04_DataBase/DataModel.md) * [data_extraction_sheet](./04_DataBase/data_extraction_sheet.xlsx) * [discourse](./04_DataBase/discourse.csv) * [papers](./04_DataBase/papers.csv) * [searches](./04_DataBase/searches.csv) * [triples](./04_DataBase/triples.csv) * [WoS-GusenbauerMichael](./04_DataBase/WoS-GusenbauerMichael.ris)|DataModel, .csv, downloads\n",
      "[05_CodeBase](./05_CodeBase)|[20220825-data_extraction_sheet](./05_CodeBase/20220825-data_extraction_sheet.ipynb) * [Admin](./05_CodeBase/Admin.ipynb) * [Collect_Data_Concepts](./05_CodeBase/Collect_Data_Concepts.ipynb) * [Collect_Data_Papers](./05_CodeBase/Collect_Data_Papers.ipynb) * [slr](./05_CodeBase/slr.py)|Jupyter Notebooks\n",
      "[06_CRM](./06_CRM)|[Readme](./06_CRM/Readme.md)|Dissemination, Exploitation, Communication\n"
     ]
    }
   ],
   "source": [
    "print('Folder|Content|Note\\n-|-|-')\n",
    "for k,v in dirs.items():\n",
    "    p = Path('../'+k)\n",
    "    dir = list(p.glob('*.*'))\n",
    "    folder = f\"[{k}](./{k})\"\n",
    "    content = ' * '.join(['[{}](./{}/{})'.format(f.stem, f.parts[1],f.parts[2]) for f in dir])\n",
    "    #print('|'.join(['[{}](./{})'.format(k,k), ' * '.join(['[{}]({})'.format(f.stem, str(f)) for f in dir]), v]).replace(r'..','.'))\n",
    "    print('|'.join([folder, content, v]))"
   ]
  },
  {
   "cell_type": "code",
   "execution_count": 6,
   "metadata": {},
   "outputs": [
    {
     "data": {
      "text/plain": [
       "'ab'"
      ]
     },
     "execution_count": 6,
     "metadata": {},
     "output_type": "execute_result"
    }
   ],
   "source": [
    "'{}{}'.format('a',\"b\")"
   ]
  },
  {
   "cell_type": "code",
   "execution_count": null,
   "metadata": {},
   "outputs": [],
   "source": []
  }
 ],
 "metadata": {
  "kernelspec": {
   "display_name": "Python 3.9.7 ('base')",
   "language": "python",
   "name": "python3"
  },
  "language_info": {
   "codemirror_mode": {
    "name": "ipython",
    "version": 3
   },
   "file_extension": ".py",
   "mimetype": "text/x-python",
   "name": "python",
   "nbconvert_exporter": "python",
   "pygments_lexer": "ipython3",
   "version": "3.9.7"
  },
  "orig_nbformat": 4,
  "vscode": {
   "interpreter": {
    "hash": "6bbdfe987c89318d21a8f3e326c3948afb67cac6467b680734e6b94581969df5"
   }
  }
 },
 "nbformat": 4,
 "nbformat_minor": 2
}

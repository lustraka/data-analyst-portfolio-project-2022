{
 "cells": [
  {
   "cell_type": "markdown",
   "metadata": {},
   "source": [
    "# Collect Data - Concepts, Triples, Discourse"
   ]
  },
  {
   "cell_type": "code",
   "execution_count": 1,
   "metadata": {},
   "outputs": [],
   "source": [
    "# Import Dependencies\n",
    "import pandas as pd\n",
    "import textwrap # ensures more readable text rendering in ipynb, html, as well as pdf\n",
    "import time"
   ]
  },
  {
   "cell_type": "code",
   "execution_count": 2,
   "metadata": {},
   "outputs": [
    {
     "data": {
      "text/plain": [
       "dict_keys(['searches', 'papers', 'authors', 'concepts', 'triples', 'discourse'])"
      ]
     },
     "execution_count": 2,
     "metadata": {},
     "output_type": "execute_result"
    }
   ],
   "source": [
    "# Import CSVs\n",
    "dw_arch = ['searches', 'papers', 'authors', 'concepts', 'triples', 'discourse']\n",
    "dw = {obj:pd.read_csv(f\"{obj}.csv\") for obj in dw_arch}\n",
    "dw.keys()"
   ]
  },
  {
   "cell_type": "code",
   "execution_count": 3,
   "metadata": {},
   "outputs": [
    {
     "data": {
      "text/plain": [
       "{'date': '2022-08-31',\n",
       " 'searches': 1,\n",
       " 'papers': 5,\n",
       " 'authors': 9,\n",
       " 'concepts': 28,\n",
       " 'triples': 5,\n",
       " 'discourse': 3}"
      ]
     },
     "execution_count": 3,
     "metadata": {},
     "output_type": "execute_result"
    }
   ],
   "source": [
    "# Update dataware status\n",
    "{'date':time.strftime('%Y-%m-%d')}|{e:len(dw[e]) for e in dw_arch}"
   ]
  },
  {
   "cell_type": "code",
   "execution_count": 4,
   "metadata": {},
   "outputs": [
    {
     "data": {
      "text/html": [
       "<div>\n",
       "<style scoped>\n",
       "    .dataframe tbody tr th:only-of-type {\n",
       "        vertical-align: middle;\n",
       "    }\n",
       "\n",
       "    .dataframe tbody tr th {\n",
       "        vertical-align: top;\n",
       "    }\n",
       "\n",
       "    .dataframe thead th {\n",
       "        text-align: right;\n",
       "    }\n",
       "</style>\n",
       "<table border=\"1\" class=\"dataframe\">\n",
       "  <thead>\n",
       "    <tr style=\"text-align: right;\">\n",
       "      <th></th>\n",
       "      <th>date</th>\n",
       "      <th>searches</th>\n",
       "      <th>papers</th>\n",
       "      <th>authors</th>\n",
       "      <th>concepts</th>\n",
       "      <th>triples</th>\n",
       "      <th>discourse</th>\n",
       "    </tr>\n",
       "  </thead>\n",
       "  <tbody>\n",
       "    <tr>\n",
       "      <th>0</th>\n",
       "      <td>2022-08-30</td>\n",
       "      <td>1</td>\n",
       "      <td>5</td>\n",
       "      <td>9</td>\n",
       "      <td>3</td>\n",
       "      <td>5</td>\n",
       "      <td>0</td>\n",
       "    </tr>\n",
       "    <tr>\n",
       "      <th>1</th>\n",
       "      <td>2022-08-31</td>\n",
       "      <td>1</td>\n",
       "      <td>5</td>\n",
       "      <td>9</td>\n",
       "      <td>28</td>\n",
       "      <td>5</td>\n",
       "      <td>3</td>\n",
       "    </tr>\n",
       "  </tbody>\n",
       "</table>\n",
       "</div>"
      ],
      "text/plain": [
       "         date  searches  papers  authors  concepts  triples  discourse\n",
       "0  2022-08-30         1       5        9         3        5          0\n",
       "1  2022-08-31         1       5        9        28        5          3"
      ]
     },
     "execution_count": 4,
     "metadata": {},
     "output_type": "execute_result"
    }
   ],
   "source": [
    "status = [\n",
    "    {'date': '2022-08-30', 'searches': 1, 'papers': 5, 'authors': 9, 'concepts': 3, 'triples': 5, 'discourse': 0},\n",
    "    {'date': '2022-08-31', 'searches': 1, 'papers': 5, 'authors': 9, 'concepts': 28, 'triples': 5, 'discourse': 3},\n",
    "    ]\n",
    "pd.DataFrame(status)"
   ]
  },
  {
   "cell_type": "code",
   "execution_count": 5,
   "metadata": {},
   "outputs": [
    {
     "data": {
      "text/html": [
       "<div>\n",
       "<style scoped>\n",
       "    .dataframe tbody tr th:only-of-type {\n",
       "        vertical-align: middle;\n",
       "    }\n",
       "\n",
       "    .dataframe tbody tr th {\n",
       "        vertical-align: top;\n",
       "    }\n",
       "\n",
       "    .dataframe thead th {\n",
       "        text-align: right;\n",
       "    }\n",
       "</style>\n",
       "<table border=\"1\" class=\"dataframe\">\n",
       "  <thead>\n",
       "    <tr style=\"text-align: right;\">\n",
       "      <th></th>\n",
       "      <th>name</th>\n",
       "      <th>definition</th>\n",
       "      <th>source</th>\n",
       "      <th>note</th>\n",
       "    </tr>\n",
       "  </thead>\n",
       "  <tbody>\n",
       "    <tr>\n",
       "      <th>0</th>\n",
       "      <td>systematic literature review (SLR)</td>\n",
       "      <td>A review of an existing body of literature tha...</td>\n",
       "      <td>Kraus, Sascha et al. (2020)|p.1026</td>\n",
       "      <td>note</td>\n",
       "    </tr>\n",
       "    <tr>\n",
       "      <th>1</th>\n",
       "      <td>SL-Reviewer</td>\n",
       "      <td>The system (model) for producing systematic li...</td>\n",
       "      <td>This study</td>\n",
       "      <td>note</td>\n",
       "    </tr>\n",
       "    <tr>\n",
       "      <th>2</th>\n",
       "      <td>SL-Reviewer's States</td>\n",
       "      <td>Ask questions (SAQ)|Collect data (SCD)|Explore...</td>\n",
       "      <td>This study</td>\n",
       "      <td>note</td>\n",
       "    </tr>\n",
       "    <tr>\n",
       "      <th>3</th>\n",
       "      <td>SAQ-|Agree on detailed procedure</td>\n",
       "      <td>WHILE asking questions and WHERE there are sev...</td>\n",
       "      <td>Oosterwyk, Grant et al (2019)</td>\n",
       "      <td>To ensure shared understanding and agreement.</td>\n",
       "    </tr>\n",
       "    <tr>\n",
       "      <th>4</th>\n",
       "      <td>SAQ-|Specify primary goal</td>\n",
       "      <td>WHILE asking questions, the SL-Reviewer shall ...</td>\n",
       "      <td>Oosterwyk, Grant et al (2019)</td>\n",
       "      <td>To justify the need for a standalone review. T...</td>\n",
       "    </tr>\n",
       "  </tbody>\n",
       "</table>\n",
       "</div>"
      ],
      "text/plain": [
       "                                 name  \\\n",
       "0  systematic literature review (SLR)   \n",
       "1                         SL-Reviewer   \n",
       "2                SL-Reviewer's States   \n",
       "3    SAQ-|Agree on detailed procedure   \n",
       "4           SAQ-|Specify primary goal   \n",
       "\n",
       "                                          definition  \\\n",
       "0  A review of an existing body of literature tha...   \n",
       "1  The system (model) for producing systematic li...   \n",
       "2  Ask questions (SAQ)|Collect data (SCD)|Explore...   \n",
       "3  WHILE asking questions and WHERE there are sev...   \n",
       "4  WHILE asking questions, the SL-Reviewer shall ...   \n",
       "\n",
       "                               source  \\\n",
       "0  Kraus, Sascha et al. (2020)|p.1026   \n",
       "1                          This study   \n",
       "2                          This study   \n",
       "3       Oosterwyk, Grant et al (2019)   \n",
       "4       Oosterwyk, Grant et al (2019)   \n",
       "\n",
       "                                                note  \n",
       "0                                               note  \n",
       "1                                               note  \n",
       "2                                               note  \n",
       "3      To ensure shared understanding and agreement.  \n",
       "4  To justify the need for a standalone review. T...  "
      ]
     },
     "execution_count": 5,
     "metadata": {},
     "output_type": "execute_result"
    }
   ],
   "source": [
    "# Check concepts\n",
    "dw['concepts'].head()"
   ]
  },
  {
   "cell_type": "code",
   "execution_count": 6,
   "metadata": {},
   "outputs": [],
   "source": [
    "def wrap_lines(rec, column, inline=False):\n",
    "    '''Print the content of the column from the record wrapped.'''\n",
    "\n",
    "    if rec[column] == column:\n",
    "        print(column+': no data')\n",
    "    elif inline:\n",
    "        for line in textwrap.wrap(column+': '+rec[column], width=140):\n",
    "            print(line)\n",
    "    else: \n",
    "        print(column+':')\n",
    "        for line in textwrap.wrap(rec[column], width=140):\n",
    "            print(line)\n",
    "\n",
    "    return\n",
    "\n",
    "\n",
    "def print_concepts(concepts):\n",
    "    '''Print the records of the concepts' dataframe.'''\n",
    "\n",
    "    for idx,rec in concepts.iterrows():\n",
    "        wrap_lines(rec, 'name', inline=True)\n",
    "        wrap_lines(rec, 'definition', inline=False)\n",
    "        wrap_lines(rec, 'source', inline=True)\n",
    "        wrap_lines(rec, 'note', inline=True)\n",
    "        print()\n",
    "    \n",
    "    return\n",
    "\n",
    "def print_concepts(concepts):\n",
    "    '''Print the records of the concepts' dataframe.'''\n",
    "\n",
    "    for idx,rec in concepts.iterrows():\n",
    "        wrap_lines(rec, 'name', inline=True)\n",
    "        wrap_lines(rec, 'definition', inline=False)\n",
    "        wrap_lines(rec, 'source', inline=True)\n",
    "        wrap_lines(rec, 'note', inline=True)\n",
    "        print()\n",
    "    \n",
    "    return\n",
    "\n",
    "def print_discourse(df):\n",
    "    '''Print the records of the discourse dataframe.'''\n",
    "\n",
    "    for idx,rec in df.iterrows():\n",
    "        wrap_lines(rec, 'idea', inline=False)\n",
    "        wrap_lines(rec, 'source', inline=True)\n",
    "        wrap_lines(rec, 'note', inline=True)\n",
    "        print()\n",
    "    \n",
    "    return\n"
   ]
  },
  {
   "cell_type": "code",
   "execution_count": 7,
   "metadata": {},
   "outputs": [
    {
     "name": "stdout",
     "output_type": "stream",
     "text": [
      "name: systematic literature review (SLR)\n",
      "definition:\n",
      "A review of an existing body of literature that follows a transparent and reproducible methodology in searching, assessing its quality and\n",
      "synthesising it, with a high level of objectivity.\n",
      "source: Kraus, Sascha et al. (2020)|p.1026\n",
      "note: no data\n",
      "\n",
      "name: SL-Reviewer\n",
      "definition:\n",
      "The system (model) for producing systematic literature reviews.\n",
      "source: This study\n",
      "note: no data\n",
      "\n",
      "name: SL-Reviewer's States\n",
      "definition:\n",
      "Ask questions (SAQ)|Collect data (SCD)|Explore data (SED)|Synthesise knowledge (SSK)|Write the review (SWR)\n",
      "source: This study\n",
      "note: no data\n",
      "\n",
      "name: SAQ-|Agree on detailed procedure\n",
      "definition:\n",
      "WHILE asking questions and WHERE there are several researchers involved, the SL-Reviewer shall agree on detailed procedure.\n",
      "source: Oosterwyk, Grant et al (2019)\n",
      "note: To ensure shared understanding and agreement.\n",
      "\n"
     ]
    }
   ],
   "source": [
    "concepts = dw['concepts'].head(4)\n",
    "print_concepts(concepts)"
   ]
  },
  {
   "cell_type": "code",
   "execution_count": 8,
   "metadata": {},
   "outputs": [
    {
     "data": {
      "text/plain": [
       "'Ask questions (SAQ)|Collect data (SCD)|Explore data (SED)|Synthesise knowledge (SSK)|Write the review (SWR)'"
      ]
     },
     "execution_count": 8,
     "metadata": {},
     "output_type": "execute_result"
    }
   ],
   "source": [
    "# Generate template for state-driven requirement\n",
    "dw['concepts'].loc[dw['concepts'].name == \"SL-Reviewer's States\",'definition'].values[0]\n"
   ]
  },
  {
   "cell_type": "code",
   "execution_count": 9,
   "metadata": {},
   "outputs": [
    {
     "data": {
      "text/plain": [
       "name                           SAQ-|Agree on detailed procedure\n",
       "definition    WHILE asking questions and WHERE there are sev...\n",
       "source                            Oosterwyk, Grant et al (2019)\n",
       "note              To ensure shared understanding and agreement.\n",
       "Name: 3, dtype: object"
      ]
     },
     "execution_count": 9,
     "metadata": {},
     "output_type": "execute_result"
    }
   ],
   "source": [
    "# Print current state of requirements\n",
    "dw['concepts'].iloc[3]"
   ]
  },
  {
   "cell_type": "code",
   "execution_count": 10,
   "metadata": {},
   "outputs": [],
   "source": [
    "# print_concepts(dw['concepts'].iloc[3:])"
   ]
  },
  {
   "cell_type": "code",
   "execution_count": null,
   "metadata": {},
   "outputs": [],
   "source": [
    "def export_concepts_to_md_table(df):\n",
    "    \"\"\"Print names and definitions as a MD table. Print sources and notes below the table\"\"\"\n",
    "    src = []\n",
    "    notes_idx, notes = 0, []\n",
    "\n",
    "    print('# List of Concepts\\n\\nname|definition|src|note\\n-|-|-|-')\n",
    "\n",
    "    for idx,row in df.iterrows():\n",
    "        \n",
    "        # Register the source and set the index\n",
    "        if row['source'] not in src:\n",
    "            src.append(row['source'])\n",
    "        src_idx = src.index(row['source'])+1\n",
    "\n",
    "        # Identify note\n",
    "        is_note = False\n",
    "        if row['note'] != 'note':\n",
    "            is_note = True\n",
    "            notes_idx += 1\n",
    "            notes.append(row['note'])\n",
    "        \n",
    "        # print the row of the main table\n",
    "        print(f\"{row['name'].replace('|',' ')}|{row['definition'].replace('|',' ')}|{str(src_idx)}\", end='|')\n",
    "        if is_note:\n",
    "            print(str(notes_idx))\n",
    "        else:\n",
    "            print()\n",
    "    \n",
    "    print('\\n\\nN|source\\n-|-')\n",
    "    for idx,name in enumerate(src):\n",
    "        print(f\"{str(idx+1)}|{name.replace('|',' ; ')}\")\n",
    "\n",
    "\n",
    "    print('\\n\\nN|note\\n-|-')\n",
    "    for idx,note in enumerate(notes):\n",
    "        print(f\"{str(idx+1)}|{note.replace('|',' ')}\")\n",
    "\n",
    "    return\n",
    "\n",
    "export_concepts_to_md_table(dw['concepts'].iloc[0:])\n"
   ]
  },
  {
   "cell_type": "markdown",
   "metadata": {},
   "source": [
    "# List of Concepts\n",
    "\n",
    "name|definition|src|note\n",
    "-|-|-|-\n",
    "systematic literature review (SLR)|A review of an existing body of literature that follows a transparent and reproducible methodology in searching, assessing its quality and synthesising it, with a high level of objectivity.|1|\n",
    "SL-Reviewer|The system (model) for producing systematic literature reviews.|2|\n",
    "SL-Reviewer's States|Ask questions (SAQ) Collect data (SCD) Explore data (SED) Synthesise knowledge (SSK) Write the review (SWR)|2|\n",
    "SAQ- Agree on detailed procedure|WHILE asking questions and WHERE there are several researchers involved, the SL-Reviewer shall agree on detailed procedure.|3|1\n",
    "SAQ- Specify primary goal|WHILE asking questions, the SL-Reviewer shall specify primary goal.|3|2\n",
    "SAQ- Define key concepts|WHILE asking questions, the SL-Reviewer shall define key concept(s) of relevance.|3|3\n",
    "SAQ- Establish boundaries|WHILE asking questions, the SL-Reviewer shall establish the scope and boundaries.|3|4\n",
    "SAQ- Draft the research questions|WHILE asking questions, the SL-Reviewer shall draft the research questions.|3|5\n",
    "SAQ- Specify type of review|WHILE asking questions, the SL-Reviewer shall specify type of review.|3|\n",
    "SAQ- Specify disposition|WHILE asking questions, the SL-Reviewer shall specify sequential or iterative disposition.|3|\n",
    "SAQ- Conduct reviewer training|WHILE asking questions, the SL-Reviewer shall conduct reviewer training in note-taking and reviewing methods.|3|6\n",
    "SCD- Specify where to search|WHILE collecting data, the SL-Reviewer shall specify where to search.|3|7\n",
    "SCD- Identify the main sources|WHILE collecting data, the SL-Reviewer shall identify the main peer refereed journal and conference outlets.|3|8\n",
    "SCD- Specify terms to use|WHILE collecting data, the SL-Reviewer shall specify terms to use (search string).|3|9\n",
    "SCD- Specify dimensions to search|WHILE collecting data, the SL-Reviewer shall specify dimensions (topic, title, keywords, abstract, results etc.) to search.|3|\n",
    "SCD- Specify timespan|WHILE collecting data, the SL-Reviewer shall specify timespan.|3|10\n",
    "SCD- Restrict search|WHILE collecting data, the SL-Reviewer shall restrict search within bounds of research question.|3|\n",
    "SCD- Minimize publication bias|WHILE collecting data, the SL-Reviewer shall minimize publication bias (grey and unpublished data.|3|11\n",
    "SCD- Perform backward and forward search|WHILE collecting data, the SL-Reviewer shall perform backward and forward search.|3|12\n",
    "SCD- Specify inclusion criteria|WHILE collecting data, the SL-Reviewer shall specify inclusion criteria.|3|13\n",
    "SCD- Specify exclusion criteria|WHILE collecting data, the SL-Reviewer shall specify exclusion criteria.|3|14\n",
    "SCD- Review title, abstract, keywords|WHILE collecting data, the SL-Reviewer shall review title, abstract, keywords and apply screen.|3|\n",
    "SCD- Review introduction and conclusion|WHILE collecting data, the SL-Reviewer shall review introduction and conclusion and apply screen.|3|\n",
    "SCD- Review full papers|WHILE collecting data, the SL-Reviewer shall review full papers for relevance, rigour and credibility.|3|\n",
    "SED- Select and apply appropriate method|WHILE exploring data, the SL-Reviewer shall select and apply appropriate method.|3|15\n",
    "SSK- Select and apply appropriate method|WHILE synthesising knowledge, the SL-Reviewer shall select and apply appropriate method.|3|16\n",
    "SWR- Specify structural elements|WHILE writing the review, the SL-Reviewer shall specify structural elements, such as introduction, definitions, methodology, analysis, synthesis and interpretation, outcome, conclusion.|3|\n",
    "SWR- Consider presentation|WHILE writing the review, the SL-Reviewer shall consider presentation, such are diagrams, visuals, illustrations and tables.|3|\n",
    "\n",
    "\n",
    "N|source\n",
    "-|-\n",
    "1|Kraus, Sascha et al. (2020) ; p.1026\n",
    "2|This study\n",
    "3|Oosterwyk, Grant et al (2019)\n",
    "\n",
    "\n",
    "N|note\n",
    "-|-\n",
    "1|To ensure shared understanding and agreement.\n",
    "2|To justify the need for a standalone review. To inform selection of the structure and type of review required.\n",
    "3|IF the review has a strong inductive, theory-building intent, THEN this requirment is less relevant.\n",
    "4|To inform subsequent stages of search and selection.\n",
    "5|To inform selection of type of literature review to be conducted. The research question should be a one-to-two sentence statement that explains the aim and outcome (Okoli, 2015), and perhaps review’s audience (e.g., scholars, practitioners, policy makers, etc.). For inductive studies the research question may be more openended (Bandara et al., 2015).\n",
    "6|To produce a review with a reliable standard.\n",
    "7|In standalone reviews, sources such as the AIS Electronic Library (AISeL), JSTOR, ABI/Inform, IEEE Xplore and ISI Web of Science are frequently used in IS (Bandara et al., 2015, Okoli 2015).\n",
    "8|Bandara et al., (2015) and Levy & Ellis (2006) recommend the use of top ranked peer-refereed journals and conference outlets. In IS, these would include the AIS “basket of eight” (MISQ, EJIS, ISJ, JMIS, ISR, JAIS, JIT, JSIS) and AIS top 4 conferences (ICIS, EICS, PACIS, AMCIS) (Schryen, 2015). Additional top IS journals can be identified through bibliometric studies such as that of Lowry et al., (2013). In addition sources such as the Clarivate Analytics journal citation report (https://jcr.incites.thomsonreuters.com) and Scimago (https://www.scimagojr.com) provide details of high impact journals in a domain of study. Conference ranking systems in IS are rare, but some exist, e.g. the Australian Computing Research and Education site (http://www.core.edu.au/conference-portal), and the IFIP TC8 rankings (http://ifiptc8.dsi.uminho.pt/index.php/events/ranking-of-is-conferences). Some studies limit the search to journals only, or even the AIS top 8 journals. Whatever the decision, it must be documented and justified.\n",
    "9|It is recommended to select keywords from identified papers. Taxonomies suitable for the literature review can be utilised. For example, many of the taxonomies of keywords can be found on the ACM website (http://www.acm.org/about/class/class/2012) provides taxonomies of keywords. These references are only keywords and hence, should be combined to create search strings. Keywords that are linked with logical operators are frequently used in literature databases as search strings (e.g., AND, OR, NOT) (Schryen, 2015).\n",
    "10|Mapping the literature based on a specific timeframe e.g. looking at past studies going back 10 years should be sufficient (Templier & Paré, 2015; vom Brocke et al., 2015).\n",
    "11|Publication bias refers to the “problem that significant (and supporting) results are more likely to be published than non-significant (and non-supporting) results” (Templier & Paré, 2015). Topic-specific dissertations and unpublished research reports could be included as well, where the research protocol suggests inclusion of such sources.\n",
    "12|A backward search refers to the process of identifying articles by searching the reference lists of important papers (Webster & Watson, 2002; vom Brocke et al., 2015). The forward search refers to identifying articles that have cited some important papers. Google Scholar and Web of Science provide the function to forward search (Schryen, 2015; Webster & Watson, 2002).\n",
    "13|Inclusion criteria refer to the criteria used to select papers, based on, for example the research question and scope of study etc. Should several researchers be working on the literature review paper, a standardized inclusion criterion needs to be discussed and agreed upon (Bandara et al., 2015).\n",
    "14|To increase validity of any paper, it is important to state the criteria used to exclude research. This increases the credibility of the paper and ensures other authors can reference the published work confidently (Bandara et al., 2015). An example of excluding research is to not use duplicate studies in different sources or forms such as a conference papers subsequently published as journal articles (Bandara et al., 2015; Schryen 2015).\n",
    "15|The choice of method is determined by its appropriateness to the research question, the type of literature review being conducted, and the corpus of literature.\n",
    "16|The choice of method is determined by its appropriateness to the research question, the type of literature review being conducted, and the corpus of literature.\n"
   ]
  },
  {
   "cell_type": "code",
   "execution_count": 27,
   "metadata": {},
   "outputs": [],
   "source": [
    "def export_discourse_to_md_table(df):\n",
    "    \"\"\"Print ideas as a MD table and sources and notes below the table\"\"\"\n",
    "    src = []\n",
    "    notes_idx, notes = 0, []\n",
    "\n",
    "    print('# Discourse\\n\\nidea|src|note\\n-|-|-')\n",
    "\n",
    "    for idx,row in df.iterrows():\n",
    "        \n",
    "        # Register the source and set the index\n",
    "        if row['source'] not in src:\n",
    "            src.append(row['source'])\n",
    "        src_idx = src.index(row['source'])+1\n",
    "\n",
    "        # Identify note\n",
    "        is_note = False\n",
    "        if row['note'] != 'note':\n",
    "            is_note = True\n",
    "            notes_idx += 1\n",
    "            notes.append(row['note'])\n",
    "        \n",
    "        # print the row of the main table\n",
    "        print(f\"{row['idea'].replace('|',' ')}|{str(src_idx)}\", end='|')\n",
    "        if is_note:\n",
    "            print(str(notes_idx))\n",
    "        else:\n",
    "            print()\n",
    "    \n",
    "    print('\\n\\nN|source\\n-|-')\n",
    "    for idx,name in enumerate(src):\n",
    "        print(f\"{str(idx+1)}|{name.replace('|',' ; ')}\")\n",
    "\n",
    "\n",
    "    print('\\n\\nN|note\\n-|-')\n",
    "    for idx,note in enumerate(notes):\n",
    "        print(f\"{str(idx+1)}|{note.replace('|',' ')}\")\n",
    "\n",
    "    return"
   ]
  },
  {
   "cell_type": "code",
   "execution_count": null,
   "metadata": {},
   "outputs": [],
   "source": [
    "export_discourse_to_md_table(dw['discourse'])"
   ]
  },
  {
   "cell_type": "markdown",
   "metadata": {},
   "source": [
    "# Discourse\n",
    "\n",
    "idea|src|note\n",
    "-|-|-\n",
    "The protocol is subject to change, however protocol changes must be documented, to affirm that the research work is comprehensive, clear, reproducible and is of high quality.|1|1\n",
    "Restrict search within bounds of research question - Templier & Paré (2015) and Okoli (2015) agree that the research question must be the focus of the investigation and that the search strategy must be aligned to the research question(s). On the other hand, Bandara et al., (2015) argue that the research questions should be allowed to emerge as data (literature) is collected and analysed. The later argument holds where a strongly inductive approach is being followed, often within an iterative hermeneutic stance (Boell & Cecez-Kecmanovic, 2014).|2|\n",
    "Select and apply appropriate method - A variety of methods can be used to analyse, synthesise and interpret literature, including soft systems methodology for heterogeneous literature (Sylvester et al., 2013), grounded theory techniques for theory-building literature reviews (Wolfswinkel et al., 2013), critical discourse analysis (Wall et al., 2015), meta-analysis techniques (Templier & Paré, 2015; vom Brocke et al., 2015) and so on. Geeling et al., (2017) show that thematic analysis could be integrated with grounded theory techniques, while mixed studies combine qualitative and quantitative techniques (Bandara et al., 2015). A hermeneutic review emphasizes the importance of integrating literature searches with the analysis and interpretation of text (Boell and Cecez-Kecmanovic, 2014).|2|\n",
    "\n",
    "\n",
    "N|source\n",
    "-|-\n",
    "1|Okoli (2015) ; Oosterwyk, Grant et al (2019)\n",
    "2|Oosterwyk, Grant et al (2019)\n",
    "\n",
    "\n",
    "N|note\n",
    "-|-\n",
    "1|FixMe Update reference to Okoli"
   ]
  },
  {
   "cell_type": "code",
   "execution_count": null,
   "metadata": {},
   "outputs": [],
   "source": []
  }
 ],
 "metadata": {
  "kernelspec": {
   "display_name": "Python 3.9.7 ('base')",
   "language": "python",
   "name": "python3"
  },
  "language_info": {
   "codemirror_mode": {
    "name": "ipython",
    "version": 3
   },
   "file_extension": ".py",
   "mimetype": "text/x-python",
   "name": "python",
   "nbconvert_exporter": "python",
   "pygments_lexer": "ipython3",
   "version": "3.9.7"
  },
  "orig_nbformat": 4,
  "vscode": {
   "interpreter": {
    "hash": "6bbdfe987c89318d21a8f3e326c3948afb67cac6467b680734e6b94581969df5"
   }
  }
 },
 "nbformat": 4,
 "nbformat_minor": 2
}

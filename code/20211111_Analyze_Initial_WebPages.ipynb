{
  "nbformat": 4,
  "nbformat_minor": 5,
  "metadata": {
    "kernelspec": {
      "display_name": "Python 3",
      "language": "python",
      "name": "python3"
    },
    "language_info": {
      "codemirror_mode": {
        "name": "ipython",
        "version": 3
      },
      "file_extension": ".py",
      "mimetype": "text/x-python",
      "name": "python",
      "nbconvert_exporter": "python",
      "pygments_lexer": "ipython3",
      "version": "3.7.11"
    },
    "colab": {
      "name": "20211111_Analyze_Initial_WebPages.ipynb",
      "provenance": [],
      "include_colab_link": true
    }
  },
  "cells": [
    {
      "cell_type": "markdown",
      "metadata": {
        "id": "view-in-github",
        "colab_type": "text"
      },
      "source": [
        "<a href=\"https://colab.research.google.com/github/lustraka/data-analyst-portfolio-project-2022/blob/main/code/20211111_Analyze_Initial_WebPages.ipynb\" target=\"_parent\"><img src=\"https://colab.research.google.com/assets/colab-badge.svg\" alt=\"Open In Colab\"/></a>"
      ]
    },
    {
      "cell_type": "code",
      "metadata": {
        "id": "PaP8cd8rTz0i"
      },
      "source": [
        "# Import dependencies\n",
        "import requests\n",
        "from bs4 import BeautifulSoup\n",
        "import pandas as pd\n",
        "import numpy as np"
      ],
      "id": "PaP8cd8rTz0i",
      "execution_count": 11,
      "outputs": []
    },
    {
      "cell_type": "code",
      "metadata": {
        "id": "oS8jfXUvTe7U",
        "outputId": "d2be1acf-76fe-4bd7-9375-56b2bdf905b1",
        "colab": {
          "base_uri": "https://localhost:8080/"
        }
      },
      "source": [
        "# Store dataframes for further processing\n",
        "from sqlalchemy import create_engine\n",
        "\n",
        "# Upload the database from GitHub\n",
        "url_db = 'https://github.com/lustraka/data-analyst-portfolio-project-2022/blob/main/data/dapp2022.db?raw=true'\n",
        "r = requests.get(url_db)\n",
        "with open('dapp2022.db', 'wb') as file:\n",
        "  file.write(r.content)\n",
        "\n",
        "# Create SQLAlchemy engine and connect to the database\n",
        "engine = create_engine('sqlite:///dapp2022.db')\n",
        "\n",
        "# Read dataframes from SQlite database\n",
        "wp = pd.read_sql('SELECT * FROM wp', engine)\n",
        "wp.info()"
      ],
      "id": "oS8jfXUvTe7U",
      "execution_count": 3,
      "outputs": [
        {
          "output_type": "stream",
          "name": "stdout",
          "text": [
            "<class 'pandas.core.frame.DataFrame'>\n",
            "RangeIndex: 110 entries, 0 to 109\n",
            "Data columns (total 6 columns):\n",
            " #   Column     Non-Null Count  Dtype \n",
            "---  ------     --------------  ----- \n",
            " 0   title      110 non-null    object\n",
            " 1   url        110 non-null    object\n",
            " 2   status     110 non-null    int64 \n",
            " 3   content    110 non-null    object\n",
            " 4   cont_len   110 non-null    int64 \n",
            " 5   cont_date  110 non-null    object\n",
            "dtypes: int64(2), object(4)\n",
            "memory usage: 5.3+ KB\n"
          ]
        }
      ]
    },
    {
      "cell_type": "code",
      "metadata": {
        "id": "_MC1AC-nUWNw"
      },
      "source": [
        "soup = BeautifulSoup(wp.iloc[0].content, 'html.parser')"
      ],
      "id": "_MC1AC-nUWNw",
      "execution_count": 12,
      "outputs": []
    },
    {
      "cell_type": "code",
      "metadata": {
        "id": "szeFuGcwU4Yw",
        "outputId": "2925298f-e0b4-4db4-9082-2f8ae4ff697a",
        "colab": {
          "base_uri": "https://localhost:8080/"
        }
      },
      "source": [
        "'portfolio' in soup.body.text"
      ],
      "id": "szeFuGcwU4Yw",
      "execution_count": 16,
      "outputs": [
        {
          "output_type": "execute_result",
          "data": {
            "text/plain": [
              "True"
            ]
          },
          "metadata": {},
          "execution_count": 16
        }
      ]
    },
    {
      "cell_type": "code",
      "metadata": {
        "id": "IzyQ4T_LVLKJ",
        "outputId": "d5a55ee8-14a2-4208-b34d-064c18fd70bb",
        "colab": {
          "base_uri": "https://localhost:8080/"
        }
      },
      "source": [
        "wp = wp.query('status == 200').copy()\n",
        "wp['text'] = wp.content.apply(lambda c: BeautifulSoup(c, 'html.parser').body.text if BeautifulSoup(c, 'html.parser').body != None else '')\n",
        "wp.info()"
      ],
      "id": "IzyQ4T_LVLKJ",
      "execution_count": 24,
      "outputs": [
        {
          "output_type": "stream",
          "name": "stderr",
          "text": [
            "Some characters could not be decoded, and were replaced with REPLACEMENT CHARACTER.\n"
          ]
        },
        {
          "output_type": "stream",
          "name": "stdout",
          "text": [
            "<class 'pandas.core.frame.DataFrame'>\n",
            "Int64Index: 92 entries, 0 to 108\n",
            "Data columns (total 7 columns):\n",
            " #   Column     Non-Null Count  Dtype \n",
            "---  ------     --------------  ----- \n",
            " 0   title      92 non-null     object\n",
            " 1   url        92 non-null     object\n",
            " 2   status     92 non-null     int64 \n",
            " 3   content    92 non-null     object\n",
            " 4   cont_len   92 non-null     int64 \n",
            " 5   cont_date  92 non-null     object\n",
            " 6   text       92 non-null     object\n",
            "dtypes: int64(2), object(5)\n",
            "memory usage: 5.8+ KB\n"
          ]
        }
      ]
    },
    {
      "cell_type": "code",
      "metadata": {
        "id": "dFri-E4sXQxu",
        "outputId": "9401c2e3-3e02-42d1-d4eb-b605fe8ba32e",
        "colab": {
          "base_uri": "https://localhost:8080/",
          "height": 97
        }
      },
      "source": [
        "wp.query('text == \"\"')"
      ],
      "id": "dFri-E4sXQxu",
      "execution_count": 45,
      "outputs": [
        {
          "output_type": "execute_result",
          "data": {
            "text/html": [
              "<div>\n",
              "<style scoped>\n",
              "    .dataframe tbody tr th:only-of-type {\n",
              "        vertical-align: middle;\n",
              "    }\n",
              "\n",
              "    .dataframe tbody tr th {\n",
              "        vertical-align: top;\n",
              "    }\n",
              "\n",
              "    .dataframe thead th {\n",
              "        text-align: right;\n",
              "    }\n",
              "</style>\n",
              "<table border=\"1\" class=\"dataframe\">\n",
              "  <thead>\n",
              "    <tr style=\"text-align: right;\">\n",
              "      <th></th>\n",
              "      <th>title</th>\n",
              "      <th>url</th>\n",
              "      <th>status</th>\n",
              "      <th>content</th>\n",
              "      <th>cont_len</th>\n",
              "      <th>cont_date</th>\n",
              "      <th>text</th>\n",
              "    </tr>\n",
              "  </thead>\n",
              "  <tbody>\n",
              "    <tr>\n",
              "      <th>52</th>\n",
              "      <td>[PDF] Predictive Project Analytics (PPA) - Del...</td>\n",
              "      <td>https://www2.deloitte.com/content/dam/Deloitte...</td>\n",
              "      <td>200</td>\n",
              "      <td>b'%PDF-1.5\\r%\\xe2\\xe3\\xcf\\xd3\\r\\n599 0 obj\\r&lt;&lt;...</td>\n",
              "      <td>296871</td>\n",
              "      <td>2021-11-10 14:20:34.082045</td>\n",
              "      <td></td>\n",
              "    </tr>\n",
              "  </tbody>\n",
              "</table>\n",
              "</div>"
            ],
            "text/plain": [
              "                                                title  ... text\n",
              "52  [PDF] Predictive Project Analytics (PPA) - Del...  ...     \n",
              "\n",
              "[1 rows x 7 columns]"
            ]
          },
          "metadata": {},
          "execution_count": 45
        }
      ]
    },
    {
      "cell_type": "code",
      "metadata": {
        "id": "wwZNrwhKZ6pW",
        "outputId": "1dbc8406-3700-485c-eb27-6fa9b77c0136",
        "colab": {
          "base_uri": "https://localhost:8080/",
          "height": 97
        }
      },
      "source": [
        "wp.loc[wp.url.apply(lambda u: u[-3:] == \"pdf\")]"
      ],
      "id": "wwZNrwhKZ6pW",
      "execution_count": 49,
      "outputs": [
        {
          "output_type": "execute_result",
          "data": {
            "text/html": [
              "<div>\n",
              "<style scoped>\n",
              "    .dataframe tbody tr th:only-of-type {\n",
              "        vertical-align: middle;\n",
              "    }\n",
              "\n",
              "    .dataframe tbody tr th {\n",
              "        vertical-align: top;\n",
              "    }\n",
              "\n",
              "    .dataframe thead th {\n",
              "        text-align: right;\n",
              "    }\n",
              "</style>\n",
              "<table border=\"1\" class=\"dataframe\">\n",
              "  <thead>\n",
              "    <tr style=\"text-align: right;\">\n",
              "      <th></th>\n",
              "      <th>title</th>\n",
              "      <th>url</th>\n",
              "      <th>status</th>\n",
              "      <th>content</th>\n",
              "      <th>cont_len</th>\n",
              "      <th>cont_date</th>\n",
              "      <th>text</th>\n",
              "    </tr>\n",
              "  </thead>\n",
              "  <tbody>\n",
              "    <tr>\n",
              "      <th>52</th>\n",
              "      <td>[PDF] Predictive Project Analytics (PPA) - Del...</td>\n",
              "      <td>https://www2.deloitte.com/content/dam/Deloitte...</td>\n",
              "      <td>200</td>\n",
              "      <td>b'%PDF-1.5\\r%\\xe2\\xe3\\xcf\\xd3\\r\\n599 0 obj\\r&lt;&lt;...</td>\n",
              "      <td>296871</td>\n",
              "      <td>2021-11-10 14:20:34.082045</td>\n",
              "      <td></td>\n",
              "    </tr>\n",
              "  </tbody>\n",
              "</table>\n",
              "</div>"
            ],
            "text/plain": [
              "                                                title  ... text\n",
              "52  [PDF] Predictive Project Analytics (PPA) - Del...  ...     \n",
              "\n",
              "[1 rows x 7 columns]"
            ]
          },
          "metadata": {},
          "execution_count": 49
        }
      ]
    },
    {
      "cell_type": "code",
      "metadata": {
        "id": "-DpaJBQuXgeH",
        "outputId": "e9446635-0e1a-4f1a-b791-a9276216b0da",
        "colab": {
          "base_uri": "https://localhost:8080/"
        }
      },
      "source": [
        "wp.text.str.contains('portfolio').sum()"
      ],
      "id": "-DpaJBQuXgeH",
      "execution_count": 28,
      "outputs": [
        {
          "output_type": "execute_result",
          "data": {
            "text/plain": [
              "66"
            ]
          },
          "metadata": {},
          "execution_count": 28
        }
      ]
    },
    {
      "cell_type": "code",
      "metadata": {
        "id": "w4MNGuURY8kV",
        "outputId": "2efb7cca-94dc-4aff-c53a-989c84423479",
        "colab": {
          "base_uri": "https://localhost:8080/"
        }
      },
      "source": [
        "wp.loc[wp.text.str.contains('portfolio'), ['title']].to_numpy()"
      ],
      "id": "w4MNGuURY8kV",
      "execution_count": 50,
      "outputs": [
        {
          "output_type": "execute_result",
          "data": {
            "text/plain": [
              "array([['9 Data Analytics Portfolio Examples [2021 Edition] - CareerFoundry'],\n",
              "       ['How To Build A Data Analytics Portfolio [Complete Guide]'],\n",
              "       ['How to Build a Data Analyst Portfolio: Tips for Success | Coursera'],\n",
              "       ['How to Build an Impressive Data Analytics Portfolio | Springboard Blog'],\n",
              "       ['Guide to building a data analyst portfolio - Codecademy'],\n",
              "       ['Data Analytics Project Ideas That Will Get You The Job | StrataScratch'],\n",
              "       ['Data Science Portfolios That Will Get You the Job - Dataquest'],\n",
              "       ['Projects to Include in a Data Science Portfolio - KDnuggets'],\n",
              "       ['5 of my Best Data Science Portfolio Projects | by Natassha Selvaraj'],\n",
              "       ['These data science portfolios will awe and inspire you (mid-2020 ...'],\n",
              "       ['4 R projects to form a core data analyst portfolio | R-bloggers'],\n",
              "       ['4 Types of Projects You Need in Your Data Science Portfolio | Built In'],\n",
              "       ['10 Data Analyst Portfolio ideas - Pinterest'],\n",
              "       ['Best way to create a data analytics portfolio?: datascience - Reddit'],\n",
              "       ['Top 10 Data Analytics Projects - Jigsaw Academy'],\n",
              "       ['How to Build an Awesome Data Science Portfolio - freeCodeCamp'],\n",
              "       ['How to build a Data Scientist / Data Analyst portfolio - Kaggle'],\n",
              "       ['3 must-have projects for your data science portfolio | by Aakash NS'],\n",
              "       ['How to maximize Data and Analytics value with portfolio management'],\n",
              "       ['Business Analytics Portfolio & Project Management - element61'],\n",
              "       ['5 Data Analytics projects for beginners | by Birappa Goudanavar'],\n",
              "       ['How can I build a data science portfolio without job experience?'],\n",
              "       ['How to build a portfolio of data analysis projects | AnalyticalMarketer.io'],\n",
              "       ['How to Choose the Best Projects for Your Data Analytics Portfolio'],\n",
              "       ['Four Data Science Projects to Make a Strong Portfolio - Analytics ...'],\n",
              "       ['How To Choose A Data Science Project For Your Data Science ...'],\n",
              "       ['Creating a Data Analytics Portfolio | R for HR: An Introduction to ...'],\n",
              "       ['How to make an impressive Data Science Portfolio? - Analytics Vidhya'],\n",
              "       ['How to Build a Data Science Portfolio (2021 Guide) | BrainStation®'],\n",
              "       ['Become an Entry-Level Data Analyst - Thinkful'],\n",
              "       ['Top 20 Data Analytics Projects for Students to Practice in 2021'],\n",
              "       ['Guide To Creating Kick-Ass Data Science & ML Portfolio Projects'],\n",
              "       ['Data-Analytics-Portfolio | Thomas Cottrell Business Data Analyst'],\n",
              "       ['3 Steps To Build A Data Science Portfolio - AI Time Journal'],\n",
              "       ['Academics | School of Information | Current Students | DAV Portfolio'],\n",
              "       ['Data and Analytics - World Bank Group'],\n",
              "       ['Data Science: Guide for Independent Projects - UCSD LibGuides'],\n",
              "       ['AppD Analyst, Data & Insights, Analytics Portfolio - Cisco Jobs'],\n",
              "       ['Best 6 Data Science Projects for Beginners to Get Hired in 2021'],\n",
              "       ['Yan Holtz | Data - Science - Viz'],\n",
              "       ['DataScience Portfolio Ideas for Students & Beginners - Journey of ...'],\n",
              "       ['8 Data Science Projects to Build Your Resume - WhatIs.com'],\n",
              "       ['5 Data Analyst Jobs You Can Get With No Experience | Indeed.com'],\n",
              "       ['2 Real-world project ideas for your Data Science portfolio | TechGig'],\n",
              "       ['The data-driven project manager: Using analytics to improve outcomes'],\n",
              "       ['21 Data Science Project Ideas - Intellspot'],\n",
              "       ['4 Building a portfolio - Build a Career in Data Science - liveBook ...'],\n",
              "       ['Using Data-driven Analytics to Improve Project Outcomes | TA'],\n",
              "       ['Top 10 Data Science Projects on Github You Should Get Your ...'],\n",
              "       ['Top-10 Data Science Project Ideas for Beginners | Analytics Steps'],\n",
              "       ['Up the Value of Project Portfolio Management Systems | Point B'],\n",
              "       ['Data Analytics - COOP Careers'],\n",
              "       ['Improve Your UX Portfolio with Google Analytics - Prototypr'],\n",
              "       ['How to Build a Data Science Portfolio That Will Get You Hired'],\n",
              "       ['Building a Data Analytics Portfolio - SlideShare'],\n",
              "       ['Data Science and Data Analytics Bootcamps in Bay Area'],\n",
              "       ['Data Analytics Industry & Portfolio | NYC Career Centers'],\n",
              "       ['Why a data-driven approach to your projects is fundamental to success'],\n",
              "       ['5 Resources to Inspire Your Next Data Science Project - Conor Dewey'],\n",
              "       ['Data Analytics Drive Real-Time Capital Project Management | Protiviti'],\n",
              "       ['Building a data science idea factory: How to prioritize the portfolio of ...'],\n",
              "       ['Data Analytics Bootcamp at UNF'],\n",
              "       ['Project Management for Data Analytics'],\n",
              "       ['Why Have a Data Science Portfolio and What It Shows - Eugene Yan'],\n",
              "       ['Data Science Immersive: Dallas - General Assembly'],\n",
              "       ['Verisk Business/Data Analyst, Portfolio Management | SmartRecruiters']],\n",
              "      dtype=object)"
            ]
          },
          "metadata": {},
          "execution_count": 50
        }
      ]
    },
    {
      "cell_type": "code",
      "metadata": {
        "id": "io5uneQSdbba"
      },
      "source": [
        ""
      ],
      "id": "io5uneQSdbba",
      "execution_count": null,
      "outputs": []
    }
  ]
}
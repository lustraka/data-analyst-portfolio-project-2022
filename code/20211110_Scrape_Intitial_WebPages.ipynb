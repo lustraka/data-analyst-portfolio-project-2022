{
  "nbformat": 4,
  "nbformat_minor": 5,
  "metadata": {
    "kernelspec": {
      "display_name": "Python 3",
      "language": "python",
      "name": "python3"
    },
    "language_info": {
      "codemirror_mode": {
        "name": "ipython",
        "version": 3
      },
      "file_extension": ".py",
      "mimetype": "text/x-python",
      "name": "python",
      "nbconvert_exporter": "python",
      "pygments_lexer": "ipython3",
      "version": "3.7.11"
    },
    "colab": {
      "name": "20211110_Scrape_Intitial_WebPages.ipynb",
      "provenance": [],
      "include_colab_link": true
    }
  },
  "cells": [
    {
      "cell_type": "markdown",
      "metadata": {
        "id": "view-in-github",
        "colab_type": "text"
      },
      "source": [
        "<a href=\"https://colab.research.google.com/github/lustraka/data-analyst-portfolio-project-2022/blob/main/code/20211110_Scrape_Intitial_WebPages.ipynb\" target=\"_parent\"><img src=\"https://colab.research.google.com/assets/colab-badge.svg\" alt=\"Open In Colab\"/></a>"
      ]
    },
    {
      "cell_type": "code",
      "metadata": {
        "id": "gv96nJw7_2lb"
      },
      "source": [
        "# Import dependencies\n",
        "import requests\n",
        "from bs4 import BeautifulSoup\n",
        "import pandas as pd"
      ],
      "id": "gv96nJw7_2lb",
      "execution_count": 1,
      "outputs": []
    },
    {
      "cell_type": "code",
      "metadata": {
        "id": "Alye2neGABR6",
        "outputId": "494093ee-cec2-4501-c1d7-6326d152c1ca",
        "colab": {
          "base_uri": "https://localhost:8080/"
        }
      },
      "source": [
        "csv_path = 'https://raw.githubusercontent.com/lustraka/data-analyst-portfolio-project-2022/main/data/data_analytics_portfolio_projects.csv'\n",
        "df = pd.read_csv(csv_path)\n",
        "df.shape"
      ],
      "id": "Alye2neGABR6",
      "execution_count": 21,
      "outputs": [
        {
          "output_type": "execute_result",
          "data": {
            "text/plain": [
              "(110, 3)"
            ]
          },
          "metadata": {},
          "execution_count": 21
        }
      ]
    },
    {
      "cell_type": "markdown",
      "metadata": {
        "id": "b3pKigC2C0j_"
      },
      "source": [
        "**2021-11-10**: Clean a csv file and add id (non-repetable):\n",
        "```python\n",
        "df = df.iloc[110:]\n",
        "df['id'] = df.id.apply(lambda x: 'WP'+str(int(x+1)))\n",
        "df.to_csv('data_analytics_portfolio_projects.csv', index=False)\n",
        "```"
      ],
      "id": "b3pKigC2C0j_"
    },
    {
      "cell_type": "code",
      "metadata": {
        "id": "PA6aYY_BCsUe",
        "outputId": "10bb707c-a6b5-4ce4-c94e-64bde4f0838a",
        "colab": {
          "base_uri": "https://localhost:8080/",
          "height": 204
        }
      },
      "source": [
        "df.head()"
      ],
      "id": "PA6aYY_BCsUe",
      "execution_count": 22,
      "outputs": [
        {
          "output_type": "execute_result",
          "data": {
            "text/html": [
              "<div>\n",
              "<style scoped>\n",
              "    .dataframe tbody tr th:only-of-type {\n",
              "        vertical-align: middle;\n",
              "    }\n",
              "\n",
              "    .dataframe tbody tr th {\n",
              "        vertical-align: top;\n",
              "    }\n",
              "\n",
              "    .dataframe thead th {\n",
              "        text-align: right;\n",
              "    }\n",
              "</style>\n",
              "<table border=\"1\" class=\"dataframe\">\n",
              "  <thead>\n",
              "    <tr style=\"text-align: right;\">\n",
              "      <th></th>\n",
              "      <th>id</th>\n",
              "      <th>title</th>\n",
              "      <th>url</th>\n",
              "    </tr>\n",
              "  </thead>\n",
              "  <tbody>\n",
              "    <tr>\n",
              "      <th>0</th>\n",
              "      <td>WP1</td>\n",
              "      <td>9 Data Analytics Portfolio Examples [2021 Edit...</td>\n",
              "      <td>https://careerfoundry.com/en/blog/data-analyti...</td>\n",
              "    </tr>\n",
              "    <tr>\n",
              "      <th>1</th>\n",
              "      <td>WP2</td>\n",
              "      <td>How To Build A Data Analytics Portfolio [Compl...</td>\n",
              "      <td>https://careerfoundry.com/en/blog/data-analyti...</td>\n",
              "    </tr>\n",
              "    <tr>\n",
              "      <th>2</th>\n",
              "      <td>WP3</td>\n",
              "      <td>How to Build a Data Analyst Portfolio: Tips fo...</td>\n",
              "      <td>https://www.coursera.org/articles/how-to-build...</td>\n",
              "    </tr>\n",
              "    <tr>\n",
              "      <th>3</th>\n",
              "      <td>WP4</td>\n",
              "      <td>How to Build an Impressive Data Analytics Port...</td>\n",
              "      <td>https://www.springboard.com/blog/data-analytic...</td>\n",
              "    </tr>\n",
              "    <tr>\n",
              "      <th>4</th>\n",
              "      <td>WP5</td>\n",
              "      <td>Data Analyst Portfolio Project | SQL Data Expl...</td>\n",
              "      <td>https://www.youtube.com/watch%3Fv%3DqfyynHBFOsM</td>\n",
              "    </tr>\n",
              "  </tbody>\n",
              "</table>\n",
              "</div>"
            ],
            "text/plain": [
              "    id  ...                                                url\n",
              "0  WP1  ...  https://careerfoundry.com/en/blog/data-analyti...\n",
              "1  WP2  ...  https://careerfoundry.com/en/blog/data-analyti...\n",
              "2  WP3  ...  https://www.coursera.org/articles/how-to-build...\n",
              "3  WP4  ...  https://www.springboard.com/blog/data-analytic...\n",
              "4  WP5  ...    https://www.youtube.com/watch%3Fv%3DqfyynHBFOsM\n",
              "\n",
              "[5 rows x 3 columns]"
            ]
          },
          "metadata": {},
          "execution_count": 22
        }
      ]
    },
    {
      "cell_type": "code",
      "metadata": {
        "id": "rAnke24SD3cP",
        "outputId": "52624fd6-17cd-483e-c9b8-081e4f6cb1c2",
        "colab": {
          "base_uri": "https://localhost:8080/"
        }
      },
      "source": [
        "df.info()"
      ],
      "id": "rAnke24SD3cP",
      "execution_count": 52,
      "outputs": [
        {
          "output_type": "stream",
          "name": "stdout",
          "text": [
            "<class 'pandas.core.frame.DataFrame'>\n",
            "RangeIndex: 110 entries, 0 to 109\n",
            "Data columns (total 3 columns):\n",
            " #   Column  Non-Null Count  Dtype \n",
            "---  ------  --------------  ----- \n",
            " 0   id      110 non-null    object\n",
            " 1   title   110 non-null    object\n",
            " 2   url     110 non-null    object\n",
            "dtypes: object(3)\n",
            "memory usage: 2.7+ KB\n"
          ]
        }
      ]
    },
    {
      "cell_type": "code",
      "metadata": {
        "id": "yfyOeoujEVUe",
        "outputId": "bb271fbd-6593-42fa-fcae-40a9439641d8",
        "colab": {
          "base_uri": "https://localhost:8080/"
        }
      },
      "source": [
        "html = []\n",
        "for row in df.itertuples():\n",
        "  print(row[1], row[3])\n",
        "  page = requests.get(row[3])\n",
        "  if page.status_code == 200:\n",
        "    html.append([row[1], page.status_code, page.content])\n",
        "  else:\n",
        "    html.append([row[1], page.status_code, ''])\n",
        "\n",
        "html[-1]"
      ],
      "id": "yfyOeoujEVUe",
      "execution_count": 47,
      "outputs": [
        {
          "output_type": "stream",
          "name": "stdout",
          "text": [
            "WP1 https://careerfoundry.com/en/blog/data-analytics/data-analytics-portfolio-examples/\n",
            "WP2 https://careerfoundry.com/en/blog/data-analytics/data-analyst-portfolio/\n",
            "WP3 https://www.coursera.org/articles/how-to-build-a-data-analyst-portfolio\n",
            "WP4 https://www.springboard.com/blog/data-analytics/data-analyst-portfolio/\n",
            "WP5 https://www.youtube.com/watch%3Fv%3DqfyynHBFOsM\n",
            "WP6 https://www.youtube.com/watch%3Fv%3DtW89_4psTWg\n",
            "WP7 https://www.codecademy.com/resources/blog/data-analyst-portfolio/\n",
            "WP8 https://www.stratascratch.com/blog/data-analytics-project-ideas-that-will-get-you-the-job/\n",
            "WP9 https://www.dataquest.io/blog/build-a-data-science-portfolio/\n",
            "WP10 https://www.kdnuggets.com/2019/04/projects-include-data-science-portfolio.html\n",
            "WP11 https://www.udacity.com/blog/2016/02/how-to-build-a-data-analysis-portfolio-that-will-get-you-hired.html\n",
            "WP12 https://towardsdatascience.com/5-of-my-best-data-science-portfolio-projects-8cd7f81f1b1\n",
            "WP13 https://towardsdatascience.com/these-data-science-portfolios-will-awe-and-inspire-you-mid-2020-edition-728e1021f60\n",
            "WP14 https://www.r-bloggers.com/2020/11/4-r-projects-to-form-a-core-data-analyst-portfolio/\n",
            "WP15 https://builtin.com/data-science/data-science-portfolio-projects\n",
            "WP16 https://www.pinterest.com/stephenwieschha/data-analyst-portfolio/\n",
            "WP17 https://davidventuri.com/portfolio\n",
            "WP18 https://www.reddit.com/r/datascience/comments/7bmsu8/best_way_to_create_a_data_analytics_portfolio/\n",
            "WP19 https://www.claudiatenhoope.com/\n",
            "WP20 https://www.jigsawacademy.com/blogs/business-analytics/data-analytics-project/\n",
            "WP21 https://www.freecodecamp.org/news/how-to-build-an-awesome-data-science-portfolio/\n",
            "WP22 https://www.kaggle.com/getting-started/170543\n",
            "WP23 https://blog.jovian.ai/3-must-have-projects-for-your-data-science-portfolio-9cbd1264edb4\n",
            "WP24 https://www.yooi.com/post/how-to-maximize-data-and-analytics-value-with-portfolio-management\n",
            "WP25 https://www.element61.be/en/competence/business-analytics-portfolio-management-project-management\n",
            "WP26 https://medium.com/%40birappa.001/5-data-analytics-projects-for-beginners-17846d74062d\n",
            "WP27 https://www.quora.com/How-can-I-build-a-data-science-portfolio-without-job-experience\n",
            "WP28 https://analyticalmarketer.io/data-analysis-projects/\n",
            "WP29 https://github.com/sajal2692/data-science-portfolio\n",
            "WP30 https://tessellationtech.io/live-stream-how-to-choose-the-best-projects-for-your-data-analytics-portfolio/\n",
            "WP31 https://www.mygreatlearning.com/blog/top-data-analytics-project-ideas/\n",
            "WP32 https://www.analyticsinsight.net/four-data-science-projects-to-make-a-strong-portfolio/\n",
            "WP33 https://www.datascienceweekly.org/articles/how-to-choose-a-data-science-project-for-your-data-science-portfolio\n",
            "WP34 https://rforhr.com/create-portfolio.html\n",
            "WP35 https://www.analyticsvidhya.com/blog/2021/04/how-to-make-an-impressive-data-science-portfolio/\n",
            "WP36 https://brainstation.io/career-guides/how-to-build-a-data-science-portfolio\n",
            "WP37 https://www.udemy.com/course/data-analytics-projects-python/\n",
            "WP38 https://www.thinkful.com/blog/entry-level-data-analyst/\n",
            "WP39 https://www.projectpro.io/article/big-data-analytics-projects-for-students-/436\n",
            "WP40 https://www.nicksingh.com/posts/guide-to-creating-kick-ass-data-science-ml-portfolio-projects\n",
            "WP41 https://tcottrell321.github.io/Data-Analytics-Portfolio/\n",
            "WP42 https://www.aitimejournal.com/%40admond.lee/3-steps-to-build-a-data-science-portfolio\n",
            "WP43 https://www.taylorfrancis.com/chapters/edit/10.1201/9780429434891-5/data-analytics-project-portfolio-management-alfonso-bucero%3Fcontext%3Dubx%26refId%3D58ccdaa0-5acb-491c-b74f-4445a897263e\n",
            "WP44 https://www.pratt.edu/academics/information/current-students/dav-portfolio/\n",
            "WP45 https://www.datacamp.com/projects\n",
            "WP46 https://jameskle.com/data-portfolio\n",
            "WP47 https://www.worldbank.org/en/research/dime/data-and-analytics\n",
            "WP48 https://ucsd.libguides.com/data-science/projects\n",
            "WP49 https://jobs.cisco.com/jobs/ProjectDetail/AppD-Analyst-Data-Insights-Analytics-Portfolio/1346760\n",
            "WP50 https://www.simplilearn.com/data-science-projects-article\n",
            "WP51 https://www.purdue.edu/idata/Services/Analysis/index.php\n",
            "WP52 https://www.sciencedirect.com/science/article/pii/S2212827118301549\n",
            "WP53 https://www2.deloitte.com/content/dam/Deloitte/us/Documents/financial-services/us-enabling-project-success-through-analytics-placemat.pdf\n",
            "WP54 https://www.yan-holtz.com/\n",
            "WP55 https://clearcode.cc/portfolio/\n",
            "WP56 https://www.theseattledataguy.com/5-data-engineering-projects-to-add-to-your-resume/\n",
            "WP57 https://careers.ovo.com/data-analyst-portfolio/3089805\n",
            "WP58 https://blog.journeyofanalytics.com/datascience-project-ideas/\n",
            "WP59 https://professionaled.utexas.edu/data-analytics-certificate-program\n",
            "WP60 https://uk.linkedin.com/in/johnpholland\n",
            "WP61 https://whatis.techtarget.com/feature/8-data-science-projects-to-build-your-resume\n",
            "WP62 https://gerinberg.com/\n",
            "WP63 https://www.indeed.com/career-advice/finding-a-job/no-experience-data-analyst-jobs\n",
            "WP64 https://intellipaat.com/blog/data-science-project-ideas/\n",
            "WP65 https://content.techgig.com/2-real-world-project-ideas-for-your-data-science-portfolio/articleshow/77738801.cms\n",
            "WP66 https://www.cio.com/article/3612317/the-data-driven-project-manager-using-analytics-to-improve-outcomes.html\n",
            "WP67 https://www.intellspot.com/data-science-project-ideas/\n",
            "WP68 https://livebook.manning.com/book/build-your-career-in-data-science/chapter-4/\n",
            "WP69 https://dimensionless.in/8-data-science-projects-to-build-your-portfolio/\n",
            "WP70 https://technologyadvice.com/blog/information-technology/data-analytics-project-outcomes/\n",
            "WP71 https://www.playingnumbers.com/2020/02/the-4-types-of-sports-analytics-projects/\n",
            "WP72 https://harrisonjansma.com/\n",
            "WP73 https://www.upgrad.com/blog/data-science-projects-on-github/\n",
            "WP74 https://data-flair.training/blogs/data-science-project-ideas/\n",
            "WP75 https://tippie.uiowa.edu/about-tippie/centers-institutes/tippie-analytics-cooperative/project-portfolio\n",
            "WP76 https://aws.amazon.com/big-data/datalakes-and-analytics/\n",
            "WP77 https://www.analyticssteps.com/blogs/top-10-data-science-project-ideas-beginners\n",
            "WP78 https://docs.servicenow.com/bundle/paris-it-business-management/page/use/dashboards/application-content-packs/project-portfolio-content-pack.html\n",
            "WP79 https://naledi.co.uk/blog/how-to-build-your-data-visualisation-portfolio/\n",
            "WP80 https://voyteklab.com/data%2520science/data-projects/\n",
            "WP81 https://www.pointb.com/insights/up-the-value-of-project-portfolio-management-systems/\n",
            "WP82 https://blog.planview.com/how-savvy-pmos-drive-actionable-insights-with-portfolio-dashboards/\n",
            "WP83 https://www.pmi.org/learning/library/business-intelligence-project-portfolios-decisions-1489\n",
            "WP84 https://www.ibm.com/analytics/hadoop/big-data-analytics\n",
            "WP85 https://coopcareers.org/data-analytics\n",
            "WP86 https://blog.prototypr.io/improve-your-ux-portfolio-with-google-analytics-bfce095ffe51\n",
            "WP87 https://zephyrnet.com/how-to-build-strong-data-science-portfolio-as-a-beginner/\n",
            "WP88 https://www.switchup.org/blog/how-to-build-a-data-science-portfolio-that-will-get-you-hired\n",
            "WP89 https://www.slideshare.net/JamieRenehan/building-a-data-analytics-portfolio-150255855\n",
            "WP90 https://careers.equifax.com/global/en/c/data-analytics-jobs\n",
            "WP91 http://cip.airport.tj/wp-content/themes/sketch/q6iu5/luq8e.php%3Fejcmdz%3Ddata-analyst-portfolio-github\n",
            "WP92 https://katba-caroline.com/business-analytics-portfolio/\n",
            "WP93 https://www.mastersindatascience.org/bootcamps/data-analytics-bootcamp-guide/data-science-bootcamps-bay-area/\n",
            "WP94 https://www.careercenters.com/courses/data-analytics-industry-portfolio\n",
            "WP95 https://www.hydra.cloud/en/resources/blog/154-data-driven-approach\n",
            "WP96 https://www.conordewey.com/blog/5-resources-to-inspire-your-next-data-science-project/\n",
            "WP97 https://www.protiviti.com/US-en/insights/data-analytics-drive-real-time-capital-project-management\n",
            "WP98 https://www.3ds.com/products-services/netvibes/products/plm-analytics/portfolio/\n",
            "WP99 https://conferences.oreilly.com/strata/strata-ca-2018/public/schedule/detail/63905.html\n",
            "WP100 https://career-bootcamp.unf.edu/programs/data-analytics/\n",
            "WP101 https://www.selecthub.com/project-management/ppm/10-popular-ppm-tools/\n",
            "WP102 https://www.accenture.com/us-en/services/data-analytics-index\n",
            "WP103 https://www.datascience-pm.com/managing-data-analytics-projects/\n",
            "WP104 https://eugeneyan.com/writing/data-science-portfolio-how-why-what/\n",
            "WP105 https://www.beamjobs.com/resumes/data-analyst-resume-examples\n",
            "WP106 https://generalassemb.ly/education/data-science-immersive/dallas\n",
            "WP107 https://jobs.smartrecruiters.com/Verisk/743999780300762-business-data-analyst-portfolio-management\n",
            "WP108 https://www.scnsoft.com/blog/4-types-of-data-analytics\n",
            "WP109 https://fluentpro.com/business-intelligence\n",
            "WP110 https://www.qsm.com/blog/2020/data-analytics-project-and-portfolio-estimates\n"
          ]
        },
        {
          "output_type": "execute_result",
          "data": {
            "text/plain": [
              "['WP110', 403, '']"
            ]
          },
          "metadata": {},
          "execution_count": 47
        }
      ]
    },
    {
      "cell_type": "code",
      "metadata": {
        "id": "JLl5aE4_G4wO",
        "outputId": "62038039-eea8-47d0-f2d9-3aec4f509afb",
        "colab": {
          "base_uri": "https://localhost:8080/"
        }
      },
      "source": [
        "html_df = pd.DataFrame(html, columns=['id', 'status', 'content'])\n",
        "html_df.info()"
      ],
      "id": "JLl5aE4_G4wO",
      "execution_count": 48,
      "outputs": [
        {
          "output_type": "stream",
          "name": "stdout",
          "text": [
            "<class 'pandas.core.frame.DataFrame'>\n",
            "RangeIndex: 110 entries, 0 to 109\n",
            "Data columns (total 3 columns):\n",
            " #   Column   Non-Null Count  Dtype \n",
            "---  ------   --------------  ----- \n",
            " 0   id       110 non-null    object\n",
            " 1   status   110 non-null    int64 \n",
            " 2   content  110 non-null    object\n",
            "dtypes: int64(1), object(2)\n",
            "memory usage: 2.7+ KB\n"
          ]
        }
      ]
    },
    {
      "cell_type": "code",
      "metadata": {
        "id": "_rSYZm48IEYN",
        "outputId": "da88205f-cb1c-4c71-9778-13a190665752",
        "colab": {
          "base_uri": "https://localhost:8080/",
          "height": 607
        }
      },
      "source": [
        "# Check status - probably dynamic pages\n",
        "html_df.query('status != 200')"
      ],
      "id": "_rSYZm48IEYN",
      "execution_count": 50,
      "outputs": [
        {
          "output_type": "execute_result",
          "data": {
            "text/html": [
              "<div>\n",
              "<style scoped>\n",
              "    .dataframe tbody tr th:only-of-type {\n",
              "        vertical-align: middle;\n",
              "    }\n",
              "\n",
              "    .dataframe tbody tr th {\n",
              "        vertical-align: top;\n",
              "    }\n",
              "\n",
              "    .dataframe thead th {\n",
              "        text-align: right;\n",
              "    }\n",
              "</style>\n",
              "<table border=\"1\" class=\"dataframe\">\n",
              "  <thead>\n",
              "    <tr style=\"text-align: right;\">\n",
              "      <th></th>\n",
              "      <th>id</th>\n",
              "      <th>status</th>\n",
              "      <th>content</th>\n",
              "    </tr>\n",
              "  </thead>\n",
              "  <tbody>\n",
              "    <tr>\n",
              "      <th>4</th>\n",
              "      <td>WP5</td>\n",
              "      <td>429</td>\n",
              "      <td></td>\n",
              "    </tr>\n",
              "    <tr>\n",
              "      <th>5</th>\n",
              "      <td>WP6</td>\n",
              "      <td>429</td>\n",
              "      <td></td>\n",
              "    </tr>\n",
              "    <tr>\n",
              "      <th>10</th>\n",
              "      <td>WP11</td>\n",
              "      <td>403</td>\n",
              "      <td></td>\n",
              "    </tr>\n",
              "    <tr>\n",
              "      <th>30</th>\n",
              "      <td>WP31</td>\n",
              "      <td>403</td>\n",
              "      <td></td>\n",
              "    </tr>\n",
              "    <tr>\n",
              "      <th>44</th>\n",
              "      <td>WP45</td>\n",
              "      <td>503</td>\n",
              "      <td></td>\n",
              "    </tr>\n",
              "    <tr>\n",
              "      <th>51</th>\n",
              "      <td>WP52</td>\n",
              "      <td>403</td>\n",
              "      <td></td>\n",
              "    </tr>\n",
              "    <tr>\n",
              "      <th>55</th>\n",
              "      <td>WP56</td>\n",
              "      <td>406</td>\n",
              "      <td></td>\n",
              "    </tr>\n",
              "    <tr>\n",
              "      <th>56</th>\n",
              "      <td>WP57</td>\n",
              "      <td>404</td>\n",
              "      <td></td>\n",
              "    </tr>\n",
              "    <tr>\n",
              "      <th>59</th>\n",
              "      <td>WP60</td>\n",
              "      <td>999</td>\n",
              "      <td></td>\n",
              "    </tr>\n",
              "    <tr>\n",
              "      <th>68</th>\n",
              "      <td>WP69</td>\n",
              "      <td>406</td>\n",
              "      <td></td>\n",
              "    </tr>\n",
              "    <tr>\n",
              "      <th>73</th>\n",
              "      <td>WP74</td>\n",
              "      <td>403</td>\n",
              "      <td></td>\n",
              "    </tr>\n",
              "    <tr>\n",
              "      <th>79</th>\n",
              "      <td>WP80</td>\n",
              "      <td>404</td>\n",
              "      <td></td>\n",
              "    </tr>\n",
              "    <tr>\n",
              "      <th>81</th>\n",
              "      <td>WP82</td>\n",
              "      <td>403</td>\n",
              "      <td></td>\n",
              "    </tr>\n",
              "    <tr>\n",
              "      <th>82</th>\n",
              "      <td>WP83</td>\n",
              "      <td>403</td>\n",
              "      <td></td>\n",
              "    </tr>\n",
              "    <tr>\n",
              "      <th>86</th>\n",
              "      <td>WP87</td>\n",
              "      <td>503</td>\n",
              "      <td></td>\n",
              "    </tr>\n",
              "    <tr>\n",
              "      <th>91</th>\n",
              "      <td>WP92</td>\n",
              "      <td>406</td>\n",
              "      <td></td>\n",
              "    </tr>\n",
              "    <tr>\n",
              "      <th>100</th>\n",
              "      <td>WP101</td>\n",
              "      <td>403</td>\n",
              "      <td></td>\n",
              "    </tr>\n",
              "    <tr>\n",
              "      <th>109</th>\n",
              "      <td>WP110</td>\n",
              "      <td>403</td>\n",
              "      <td></td>\n",
              "    </tr>\n",
              "  </tbody>\n",
              "</table>\n",
              "</div>"
            ],
            "text/plain": [
              "        id  status content\n",
              "4      WP5     429        \n",
              "5      WP6     429        \n",
              "10    WP11     403        \n",
              "30    WP31     403        \n",
              "44    WP45     503        \n",
              "51    WP52     403        \n",
              "55    WP56     406        \n",
              "56    WP57     404        \n",
              "59    WP60     999        \n",
              "68    WP69     406        \n",
              "73    WP74     403        \n",
              "79    WP80     404        \n",
              "81    WP82     403        \n",
              "82    WP83     403        \n",
              "86    WP87     503        \n",
              "91    WP92     406        \n",
              "100  WP101     403        \n",
              "109  WP110     403        "
            ]
          },
          "metadata": {},
          "execution_count": 50
        }
      ]
    },
    {
      "cell_type": "code",
      "metadata": {
        "id": "MbXPl91dJqdc",
        "outputId": "055fdd93-956c-4d2c-cdf7-321fc19249e4",
        "colab": {
          "base_uri": "https://localhost:8080/"
        }
      },
      "source": [
        "# Merge datasets\n",
        "df_new = df.merge(html_df, on='id')\n",
        "df_new.info()"
      ],
      "id": "MbXPl91dJqdc",
      "execution_count": 53,
      "outputs": [
        {
          "output_type": "stream",
          "name": "stdout",
          "text": [
            "<class 'pandas.core.frame.DataFrame'>\n",
            "Int64Index: 110 entries, 0 to 109\n",
            "Data columns (total 5 columns):\n",
            " #   Column   Non-Null Count  Dtype \n",
            "---  ------   --------------  ----- \n",
            " 0   id       110 non-null    object\n",
            " 1   title    110 non-null    object\n",
            " 2   url      110 non-null    object\n",
            " 3   status   110 non-null    int64 \n",
            " 4   content  110 non-null    object\n",
            "dtypes: int64(1), object(4)\n",
            "memory usage: 5.2+ KB\n"
          ]
        }
      ]
    },
    {
      "cell_type": "code",
      "metadata": {
        "id": "Ytsny_ZmLWit",
        "outputId": "75700d6b-c871-4ffa-d091-4a9a10e76da2",
        "colab": {
          "base_uri": "https://localhost:8080/",
          "height": 578
        }
      },
      "source": [
        "# Add lenght of the content\n",
        "df_new['cont_len'] = df_new.content.str.len()\n",
        "df_new.head()"
      ],
      "id": "Ytsny_ZmLWit",
      "execution_count": 58,
      "outputs": [
        {
          "output_type": "execute_result",
          "data": {
            "text/html": [
              "<div>\n",
              "<style scoped>\n",
              "    .dataframe tbody tr th:only-of-type {\n",
              "        vertical-align: middle;\n",
              "    }\n",
              "\n",
              "    .dataframe tbody tr th {\n",
              "        vertical-align: top;\n",
              "    }\n",
              "\n",
              "    .dataframe thead th {\n",
              "        text-align: right;\n",
              "    }\n",
              "</style>\n",
              "<table border=\"1\" class=\"dataframe\">\n",
              "  <thead>\n",
              "    <tr style=\"text-align: right;\">\n",
              "      <th></th>\n",
              "      <th>id</th>\n",
              "      <th>title</th>\n",
              "      <th>url</th>\n",
              "      <th>status</th>\n",
              "      <th>content</th>\n",
              "      <th>cont_len</th>\n",
              "    </tr>\n",
              "  </thead>\n",
              "  <tbody>\n",
              "    <tr>\n",
              "      <th>0</th>\n",
              "      <td>WP1</td>\n",
              "      <td>9 Data Analytics Portfolio Examples [2021 Edit...</td>\n",
              "      <td>https://careerfoundry.com/en/blog/data-analyti...</td>\n",
              "      <td>200</td>\n",
              "      <td>b'&lt;!doctype html&gt;&lt;html lang=en-US prefix=\"og: ...</td>\n",
              "      <td>63180</td>\n",
              "    </tr>\n",
              "    <tr>\n",
              "      <th>1</th>\n",
              "      <td>WP2</td>\n",
              "      <td>How To Build A Data Analytics Portfolio [Compl...</td>\n",
              "      <td>https://careerfoundry.com/en/blog/data-analyti...</td>\n",
              "      <td>200</td>\n",
              "      <td>b'&lt;!doctype html&gt;&lt;html lang=en-US prefix=\"og: ...</td>\n",
              "      <td>45047</td>\n",
              "    </tr>\n",
              "    <tr>\n",
              "      <th>2</th>\n",
              "      <td>WP3</td>\n",
              "      <td>How to Build a Data Analyst Portfolio: Tips fo...</td>\n",
              "      <td>https://www.coursera.org/articles/how-to-build...</td>\n",
              "      <td>200</td>\n",
              "      <td>b'&lt;!DOCTYPE html&gt;&lt;html xmlns:fb=\"http://ogp.me...</td>\n",
              "      <td>775025</td>\n",
              "    </tr>\n",
              "    <tr>\n",
              "      <th>3</th>\n",
              "      <td>WP4</td>\n",
              "      <td>How to Build an Impressive Data Analytics Port...</td>\n",
              "      <td>https://www.springboard.com/blog/data-analytic...</td>\n",
              "      <td>200</td>\n",
              "      <td>b'&lt;!DOCTYPE html&gt;\\n&lt;html lang=\"en-US\" class=\"n...</td>\n",
              "      <td>97494</td>\n",
              "    </tr>\n",
              "    <tr>\n",
              "      <th>4</th>\n",
              "      <td>WP5</td>\n",
              "      <td>Data Analyst Portfolio Project | SQL Data Expl...</td>\n",
              "      <td>https://www.youtube.com/watch%3Fv%3DqfyynHBFOsM</td>\n",
              "      <td>429</td>\n",
              "      <td></td>\n",
              "      <td>0</td>\n",
              "    </tr>\n",
              "  </tbody>\n",
              "</table>\n",
              "</div>"
            ],
            "text/plain": [
              "    id  ... cont_len\n",
              "0  WP1  ...    63180\n",
              "1  WP2  ...    45047\n",
              "2  WP3  ...   775025\n",
              "3  WP4  ...    97494\n",
              "4  WP5  ...        0\n",
              "\n",
              "[5 rows x 6 columns]"
            ]
          },
          "metadata": {},
          "execution_count": 58
        }
      ]
    },
    {
      "cell_type": "code",
      "metadata": {
        "id": "p-nP5KxUMV8F",
        "outputId": "2b56663d-a962-4afa-f71a-808e786ee0e4",
        "colab": {
          "base_uri": "https://localhost:8080/",
          "height": 131
        }
      },
      "source": [
        "# Add date of scaapping - should be part of html requests\n",
        "df_new['cont_date'] = pd.Timestamp.today()\n",
        "df_new.head(1)"
      ],
      "id": "p-nP5KxUMV8F",
      "execution_count": 61,
      "outputs": [
        {
          "output_type": "execute_result",
          "data": {
            "text/html": [
              "<div>\n",
              "<style scoped>\n",
              "    .dataframe tbody tr th:only-of-type {\n",
              "        vertical-align: middle;\n",
              "    }\n",
              "\n",
              "    .dataframe tbody tr th {\n",
              "        vertical-align: top;\n",
              "    }\n",
              "\n",
              "    .dataframe thead th {\n",
              "        text-align: right;\n",
              "    }\n",
              "</style>\n",
              "<table border=\"1\" class=\"dataframe\">\n",
              "  <thead>\n",
              "    <tr style=\"text-align: right;\">\n",
              "      <th></th>\n",
              "      <th>id</th>\n",
              "      <th>title</th>\n",
              "      <th>url</th>\n",
              "      <th>status</th>\n",
              "      <th>content</th>\n",
              "      <th>cont_len</th>\n",
              "      <th>cont_date</th>\n",
              "    </tr>\n",
              "  </thead>\n",
              "  <tbody>\n",
              "    <tr>\n",
              "      <th>0</th>\n",
              "      <td>WP1</td>\n",
              "      <td>9 Data Analytics Portfolio Examples [2021 Edit...</td>\n",
              "      <td>https://careerfoundry.com/en/blog/data-analyti...</td>\n",
              "      <td>200</td>\n",
              "      <td>b'&lt;!doctype html&gt;&lt;html lang=en-US prefix=\"og: ...</td>\n",
              "      <td>63180</td>\n",
              "      <td>2021-11-10 14:20:34.082045</td>\n",
              "    </tr>\n",
              "  </tbody>\n",
              "</table>\n",
              "</div>"
            ],
            "text/plain": [
              "    id  ...                  cont_date\n",
              "0  WP1  ... 2021-11-10 14:20:34.082045\n",
              "\n",
              "[1 rows x 7 columns]"
            ]
          },
          "metadata": {},
          "execution_count": 61
        }
      ]
    },
    {
      "cell_type": "code",
      "metadata": {
        "id": "SFJYOhevNnF9",
        "outputId": "54d0fe69-bc9b-4e67-bc52-3dd28cd0b6cb",
        "colab": {
          "base_uri": "https://localhost:8080/"
        }
      },
      "source": [
        "df_new.set_index('id', inplace=True)\n",
        "df_new.info()"
      ],
      "id": "SFJYOhevNnF9",
      "execution_count": 62,
      "outputs": [
        {
          "output_type": "stream",
          "name": "stdout",
          "text": [
            "<class 'pandas.core.frame.DataFrame'>\n",
            "Index: 110 entries, WP1 to WP110\n",
            "Data columns (total 6 columns):\n",
            " #   Column     Non-Null Count  Dtype         \n",
            "---  ------     --------------  -----         \n",
            " 0   title      110 non-null    object        \n",
            " 1   url        110 non-null    object        \n",
            " 2   status     110 non-null    int64         \n",
            " 3   content    110 non-null    object        \n",
            " 4   cont_len   110 non-null    int64         \n",
            " 5   cont_date  110 non-null    datetime64[ns]\n",
            "dtypes: datetime64[ns](1), int64(2), object(3)\n",
            "memory usage: 6.0+ KB\n"
          ]
        }
      ]
    },
    {
      "cell_type": "code",
      "metadata": {
        "id": "6YBm0Nc6NniM"
      },
      "source": [
        "# Store dataframes for further processing\n",
        "from sqlalchemy import create_engine\n",
        "\n",
        "# Create SQLAlchemy engine and empty database\n",
        "engine = create_engine('sqlite:///dapp2022.db')\n",
        "\n",
        "# Store dataframes in database\n",
        "df_new.to_sql('wp', engine, index=False)\n",
        "\n",
        "# Upload the file to GitHub !\n",
        "# 2021-11-10 :  It has 14 MB"
      ],
      "id": "6YBm0Nc6NniM",
      "execution_count": 63,
      "outputs": []
    },
    {
      "cell_type": "code",
      "metadata": {
        "id": "uuvPSrvpR1j7",
        "outputId": "b03d7fca-8042-43c2-d69e-175e44012e61",
        "colab": {
          "base_uri": "https://localhost:8080/"
        }
      },
      "source": [
        "# How many pages have not been loaded?\n",
        "df_new.query('status != 200').shape[0]"
      ],
      "id": "uuvPSrvpR1j7",
      "execution_count": 65,
      "outputs": [
        {
          "output_type": "execute_result",
          "data": {
            "text/plain": [
              "18"
            ]
          },
          "metadata": {},
          "execution_count": 65
        }
      ]
    },
    {
      "cell_type": "code",
      "metadata": {
        "id": "G9RrKOMcQ1Sb"
      },
      "source": [
        ""
      ],
      "id": "G9RrKOMcQ1Sb",
      "execution_count": null,
      "outputs": []
    }
  ]
}
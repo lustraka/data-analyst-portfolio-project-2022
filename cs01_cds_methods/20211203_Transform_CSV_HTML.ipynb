{
  "nbformat": 4,
  "nbformat_minor": 5,
  "metadata": {
    "kernelspec": {
      "display_name": "Python 3",
      "language": "python",
      "name": "python3"
    },
    "language_info": {
      "codemirror_mode": {
        "name": "ipython",
        "version": 3
      },
      "file_extension": ".py",
      "mimetype": "text/x-python",
      "name": "python",
      "nbconvert_exporter": "python",
      "pygments_lexer": "ipython3",
      "version": "3.7.11"
    },
    "colab": {
      "name": "20211203_Transform_CSV_HTML.ipynb",
      "provenance": [],
      "include_colab_link": true
    }
  },
  "cells": [
    {
      "cell_type": "markdown",
      "metadata": {
        "id": "view-in-github",
        "colab_type": "text"
      },
      "source": [
        "<a href=\"https://colab.research.google.com/github/lustraka/data-analyst-portfolio-project-2022/blob/main/cs01_cds_methods/20211203_Transform_CSV_HTML.ipynb\" target=\"_parent\"><img src=\"https://colab.research.google.com/assets/colab-badge.svg\" alt=\"Open In Colab\"/></a>"
      ]
    },
    {
      "cell_type": "markdown",
      "metadata": {
        "id": "caiAzAaAOSPb"
      },
      "source": [
        "# Transform CSV to HTML and Vice Versa\n",
        "## Goal\n",
        "The purpose of this pattern is to provide interface for gathering data into structured form through HTML files in GitHub repository. GitHub displays HTML files as source code, but it is possible to open rendered output using prefix:\n",
        "\n",
        "```\n",
        "https://htmlpreview.github.io/?\n",
        "```\n",
        "> **Note**: To open the link in a new tab, just use `Ctrl`+click\n",
        "\n",
        "## Objectives\n",
        "- Export a DataFrame to an HTML file using `BeautifulSoup`, where:\n",
        "  - Each row is contained in a `<div class='row'>` element.\n",
        "  - Fields in general are contained  in `<span class='field_name'>` elements divided by `<br\\>` element.\n",
        "  - Fields `term` and `title` are wrapped in a `<h3>` element.\n",
        "  - The field `url` is wrapped in a `<a href=''>` element.\n",
        "- Import a DataFrame from an HTML file. The structure of a DataFrame imported from HTML shall be derived from the classes of `<span>` elements in the HTML file.\n",
        "\n",
        "## Lessons Learned\n",
        "Using `BeautifulSoup` for extracting data:\n",
        "  - cs01_cds_methods > [20211202_Search_Web_Resources.ipynb](https://github.com/lustraka/data-analyst-portfolio-project-2022/blob/875001b6ca1896c6a09d7e71a16a2b1bb65da280/cs01_cds_methods/20211202_Search_Web_Resources.ipynb)\n",
        "  - suitecrm > iim > 20211126-WebScrape-Pytude.ipynb\n",
        "  - Wrangle_Data > [Compare_CRM_Systems.ipynb](https://github.com/lustraka/Data_Analysis_Workouts/blob/d0585eafc2d5a1439831da275609945e430527ac/Wrangle_Data/Compare_CRM_Systems.ipynb)\n",
        "  \n",
        "Using `BeautifulSoup` for reporting data:\n",
        "  - Tutorials > BeautifulSoup-Compile-Prehled-zmen.ipynb\n",
        "\n",
        "## Set Up HTML Template"
      ],
      "id": "caiAzAaAOSPb"
    },
    {
      "cell_type": "code",
      "metadata": {
        "id": "c4NVvZ4OZmcz"
      },
      "source": [
        "from bs4 import BeautifulSoup\n",
        "import pandas as pd\n",
        "import numpy as np\n",
        "import re\n",
        "from datetime import date\n",
        "import os"
      ],
      "id": "c4NVvZ4OZmcz",
      "execution_count": 1,
      "outputs": []
    },
    {
      "cell_type": "code",
      "metadata": {
        "id": "KCgQBPafZnWk",
        "colab": {
          "base_uri": "https://localhost:8080/"
        },
        "outputId": "e21e74f3-5600-46a1-aba1-629681a6e4db"
      },
      "source": [
        "# Initialize the template for an export\n",
        "html_template = \"\"\"<!DOCTYPE html>\n",
        "<html><head>\n",
        "<meta content=\"text/html; charset=utf-8\" http-equiv=\"Content-Type\"/>\n",
        "<title></title>\n",
        "<style>\n",
        "body { background-color: #ffffff; color: #000000; margin:10px 10px 10px 10px; font-family: Arial, Helvetica, sans-serif; }\n",
        "h1 { font-size: 1.75em; color: #003199; }\n",
        "h2 { font-size: 1.25em; color: #003199; }\n",
        "h3 { font-size: 1em; color: #003199; }\n",
        "p, li { font-size: 1em; }\n",
        ".header { font-size: 2em; color: #000099; }\n",
        ".maincontent { }\n",
        ".footer { text-align: center; font-size: 0.675em; }\n",
        "table, th, td { border: 1px solid black; border-collapse: collapse; }\n",
        "table { width: 18cm; }\n",
        "th, td { padding: 2px; }\n",
        ".highligth { background-color: #ffffe0;}\n",
        "</style>\n",
        "</head>\n",
        "<body>\n",
        "<div class=\"header\"><span></span></div>\n",
        "<hr/>\n",
        "<div class=\"maincontent\">\n",
        "</div>\n",
        "<hr/>\n",
        "<div class=\"footer\">Updated: <span class=\"update\"></span>.</div>\n",
        "</body></html>\"\"\"\n",
        "soup = BeautifulSoup(html_template, 'html.parser')\n",
        "print(soup.prettify())"
      ],
      "id": "KCgQBPafZnWk",
      "execution_count": 2,
      "outputs": [
        {
          "output_type": "stream",
          "name": "stdout",
          "text": [
            "<!DOCTYPE html>\n",
            "<html>\n",
            " <head>\n",
            "  <meta content=\"text/html; charset=utf-8\" http-equiv=\"Content-Type\"/>\n",
            "  <title>\n",
            "  </title>\n",
            "  <style>\n",
            "   body { background-color: #ffffff; color: #000000; margin:10px 10px 10px 10px; font-family: Arial, Helvetica, sans-serif; }\n",
            "h1 { font-size: 1.75em; color: #003199; }\n",
            "h2 { font-size: 1.25em; color: #003199; }\n",
            "h3 { font-size: 1em; color: #003199; }\n",
            "p, li { font-size: 1em; }\n",
            ".header { font-size: 2em; color: #000099; }\n",
            ".maincontent { }\n",
            ".footer { text-align: center; font-size: 0.675em; }\n",
            "table, th, td { border: 1px solid black; border-collapse: collapse; }\n",
            "table { width: 18cm; }\n",
            "th, td { padding: 2px; }\n",
            ".highligth { background-color: #ffffe0;}\n",
            "  </style>\n",
            " </head>\n",
            " <body>\n",
            "  <div class=\"header\">\n",
            "   <span>\n",
            "   </span>\n",
            "  </div>\n",
            "  <hr/>\n",
            "  <div class=\"maincontent\">\n",
            "  </div>\n",
            "  <hr/>\n",
            "  <div class=\"footer\">\n",
            "   Updated:\n",
            "   <span class=\"update\">\n",
            "   </span>\n",
            "   .\n",
            "  </div>\n",
            " </body>\n",
            "</html>\n"
          ]
        }
      ]
    },
    {
      "cell_type": "code",
      "metadata": {
        "id": "DmIu5emPa2eE",
        "colab": {
          "base_uri": "https://localhost:8080/"
        },
        "outputId": "a5231f38-633a-4e1a-d2a0-47fa2602cbf6"
      },
      "source": [
        "soup.find(class_='update').string = str(date.today())\n",
        "print(soup.body.prettify())"
      ],
      "id": "DmIu5emPa2eE",
      "execution_count": 3,
      "outputs": [
        {
          "output_type": "stream",
          "name": "stdout",
          "text": [
            "<body>\n",
            " <div class=\"header\">\n",
            "  <span>\n",
            "  </span>\n",
            " </div>\n",
            " <hr/>\n",
            " <div class=\"maincontent\">\n",
            " </div>\n",
            " <hr/>\n",
            " <div class=\"footer\">\n",
            "  Updated:\n",
            "  <span class=\"update\">\n",
            "   2021-12-03\n",
            "  </span>\n",
            "  .\n",
            " </div>\n",
            "</body>\n"
          ]
        }
      ]
    },
    {
      "cell_type": "code",
      "metadata": {
        "id": "WH1l8sCHcCzU",
        "colab": {
          "base_uri": "https://localhost:8080/"
        },
        "outputId": "f0237975-019e-43e0-8060-e43f76e0152c"
      },
      "source": [
        "# Load an example CSV file\n",
        "path = 'https://raw.githubusercontent.com/lustraka/data-analyst-portfolio-project-2022/main/data/web_searches/'\n",
        "df = pd.read_csv(path+'url_review.csv')\n",
        "df.shape"
      ],
      "id": "WH1l8sCHcCzU",
      "execution_count": 4,
      "outputs": [
        {
          "output_type": "execute_result",
          "data": {
            "text/plain": [
              "(23, 6)"
            ]
          },
          "metadata": {},
          "execution_count": 4
        }
      ]
    },
    {
      "cell_type": "markdown",
      "metadata": {
        "id": "Pci1SOxz14FW"
      },
      "source": [
        "## Design Export of a DataFrame\n",
        "- For each row append  a `<div class='row'>` element.\n",
        "- For each field append a `<span class='field_name'>` elements followed by `<br\\>` element.\n",
        "- Add special wrapping for `term`, `title`, and `url`.\n"
      ],
      "id": "Pci1SOxz14FW"
    },
    {
      "cell_type": "code",
      "metadata": {
        "id": "5Ycu4kZu1duG"
      },
      "source": [
        "filename = 'test.html'\n",
        "def export_html(df, filename):\n",
        "  \"\"\"Export the dataframe df to a HTML file called `filename`.\"\"\"\n",
        "\n",
        "  soup = BeautifulSoup(html_template, 'html.parser')\n",
        "  soup.find(class_='update').string = str(date.today())\n",
        "\n",
        "  # Locate a div maincontent element\n",
        "  maincontent = soup.find('div', class_='maincontent')\n",
        "\n",
        "  for _, row in df.iterrows():\n",
        "    div_row = BeautifulSoup('<div class=\"row\"></div>').div\n",
        "    \n",
        "    # Prepare a <h3> element for term and title\n",
        "    h3_tag = BeautifulSoup('<h3></h3>').h3\n",
        "    div_row.append(h3_tag)\n",
        "    h3 = div_row.h3\n",
        "\n",
        "    # Prepare an <a> element for url\n",
        "    a_tag = BeautifulSoup('<a></a>').a\n",
        "    div_row.append(a_tag)\n",
        "    a =  div_row.a\n",
        "\n",
        "    for col in df.columns:\n",
        "      span = BeautifulSoup('<span></span>').span\n",
        "      span['class'] = f'{col}'\n",
        "      span.string = str(row[col])\n",
        "      if col == 'term':\n",
        "        h3.append(span)\n",
        "        h3.append(BeautifulSoup('<br/>').br)\n",
        "      elif col == 'title':\n",
        "        h3.append(span)\n",
        "      elif col == 'url':\n",
        "        a['href'] = row[col]\n",
        "        # Open link in a new tab\n",
        "        a['target'] = '_blank'\n",
        "        # Prevent tabnabbing!!\n",
        "        a['rel'] = \"noopener noreferrer\"\n",
        "        a.append(span)\n",
        "        div_row.append(BeautifulSoup('<br/>').br)\n",
        "      else:\n",
        "        div_row.append(span)\n",
        "        div_row.append(BeautifulSoup('<br/>').br)\n",
        "    maincontent.append(div_row)\n",
        "\n",
        "  with open(filename, 'w') as file:\n",
        "    file.write(soup.prettify())\n",
        "  \n",
        "  return\n",
        "\n",
        "# Test export to html\n",
        "export_html(df,filename)"
      ],
      "id": "5Ycu4kZu1duG",
      "execution_count": 5,
      "outputs": []
    },
    {
      "cell_type": "markdown",
      "metadata": {
        "id": "FTSieGeOKg-1"
      },
      "source": [
        "## Design Import of a HTML File\n",
        "- Load an HTML file from GitHub\n",
        "- Locate the maincontent\n",
        "- Iterate over rows to get dictionaries with variables and their values\n",
        "- Create a new dataframe from a list of dictionaries\n",
        "- Save the dataframe to the local csv file\n",
        "- Return the dataframe"
      ],
      "id": "FTSieGeOKg-1"
    },
    {
      "cell_type": "code",
      "metadata": {
        "id": "a39Mjg084fSt"
      },
      "source": [
        "import requests\n",
        "path = 'https://raw.githubusercontent.com/lustraka/data-analyst-portfolio-project-2022/main/data/web_searches/'\n"
      ],
      "id": "a39Mjg084fSt",
      "execution_count": 6,
      "outputs": []
    },
    {
      "cell_type": "code",
      "metadata": {
        "id": "zyXrhlyELOT7"
      },
      "source": [
        "def import_html(path):\n",
        "  \"\"\"Import an HTML file, save the CSV and return a DataFrame.\"\"\"\n",
        "\n",
        "  r = requests.get(path)\n",
        "  soup = BeautifulSoup(r.content, 'html.parser')\n",
        "  rows = []\n",
        "  # Locate the main content\n",
        "  main = soup.find('div', class_='maincontent')\n",
        "  # Iterate over rows to get dictionary of elements\n",
        "  for row in main.find_all('div', class_='row'):\n",
        "    rows.append({e['class'][0]:e.string.strip() for e in row.find_all('span')})\n",
        "  \n",
        "  df = pd.DataFrame(rows)\n",
        "\n",
        "  # Save the DataFrame as CSV\n",
        "  df.to_csv(path.split('/')[-1].split('.')[0]+'.csv', index=False)\n",
        "  print(f'Dataframe with shape {df.shape} saved as CSV.')\n",
        "\n",
        "  return df"
      ],
      "id": "zyXrhlyELOT7",
      "execution_count": 7,
      "outputs": []
    },
    {
      "cell_type": "code",
      "metadata": {
        "id": "4AV6SWCoLPfM",
        "outputId": "0df0d2b0-8426-49b0-a45d-e88f2c20d535",
        "colab": {
          "base_uri": "https://localhost:8080/"
        }
      },
      "source": [
        "# Test import\n",
        "df = import_html(path+'test.html')"
      ],
      "id": "4AV6SWCoLPfM",
      "execution_count": 8,
      "outputs": [
        {
          "output_type": "stream",
          "name": "stdout",
          "text": [
            "Dataframe with shape (23, 7) saved as CSV.\n"
          ]
        }
      ]
    },
    {
      "cell_type": "code",
      "metadata": {
        "id": "7gZHPmQINwVz",
        "outputId": "17432442-3a39-47ab-fe36-2ee43d7b5ce3",
        "colab": {
          "base_uri": "https://localhost:8080/"
        }
      },
      "source": [
        "df.iloc[0]"
      ],
      "id": "7gZHPmQINwVz",
      "execution_count": 9,
      "outputs": [
        {
          "output_type": "execute_result",
          "data": {
            "text/plain": [
              "term        url Kitchin 2014 JournalOfRegionalScience book...\n",
              "title       The Data Revolution: Big Data, Open Data, Data...\n",
              "url         https://www.researchgate.net/publication/30789...\n",
              "inn                                      www.researchgate.net\n",
              "accessed                                           2021-12-02\n",
              "search                                kitchin+data+revolution\n",
              "abstract    This is a new field added by editing an HTML f...\n",
              "Name: 0, dtype: object"
            ]
          },
          "metadata": {},
          "execution_count": 9
        }
      ]
    },
    {
      "cell_type": "code",
      "metadata": {
        "id": "c0w-Aq_nOFia",
        "outputId": "b6450fbd-84dc-4033-e210-876aaedc3339",
        "colab": {
          "base_uri": "https://localhost:8080/",
          "height": 1000
        }
      },
      "source": [
        "df"
      ],
      "id": "c0w-Aq_nOFia",
      "execution_count": 10,
      "outputs": [
        {
          "output_type": "execute_result",
          "data": {
            "text/html": [
              "<div>\n",
              "<style scoped>\n",
              "    .dataframe tbody tr th:only-of-type {\n",
              "        vertical-align: middle;\n",
              "    }\n",
              "\n",
              "    .dataframe tbody tr th {\n",
              "        vertical-align: top;\n",
              "    }\n",
              "\n",
              "    .dataframe thead th {\n",
              "        text-align: right;\n",
              "    }\n",
              "</style>\n",
              "<table border=\"1\" class=\"dataframe\">\n",
              "  <thead>\n",
              "    <tr style=\"text-align: right;\">\n",
              "      <th></th>\n",
              "      <th>term</th>\n",
              "      <th>title</th>\n",
              "      <th>url</th>\n",
              "      <th>inn</th>\n",
              "      <th>accessed</th>\n",
              "      <th>search</th>\n",
              "      <th>abstract</th>\n",
              "    </tr>\n",
              "  </thead>\n",
              "  <tbody>\n",
              "    <tr>\n",
              "      <th>0</th>\n",
              "      <td>url Kitchin 2014 JournalOfRegionalScience book...</td>\n",
              "      <td>The Data Revolution: Big Data, Open Data, Data...</td>\n",
              "      <td>https://www.researchgate.net/publication/30789...</td>\n",
              "      <td>www.researchgate.net</td>\n",
              "      <td>2021-12-02</td>\n",
              "      <td>kitchin+data+revolution</td>\n",
              "      <td>This is a new field added by editing an HTML f...</td>\n",
              "    </tr>\n",
              "    <tr>\n",
              "      <th>1</th>\n",
              "      <td>url Kitchin 2014 pdf fragment</td>\n",
              "      <td>[PDF] data revolution - Building a Digital Por...</td>\n",
              "      <td>http://arthistory2015.doingdh.org/wp-content/u...</td>\n",
              "      <td>arthistory2015.doingdh.org</td>\n",
              "      <td>2021-12-02</td>\n",
              "      <td>kitchin+data+revolution</td>\n",
              "      <td>NaN</td>\n",
              "    </tr>\n",
              "    <tr>\n",
              "      <th>2</th>\n",
              "      <td>url Kitchin 2021b BarnesNoble item</td>\n",
              "      <td>A Critical Analysis of Big Data, Open Data and...</td>\n",
              "      <td>https://www.barnesandnoble.com/w/the-data-revo...</td>\n",
              "      <td>www.barnesandnoble.com</td>\n",
              "      <td>2021-12-02</td>\n",
              "      <td>kitchin+data+revolution</td>\n",
              "      <td>NaN</td>\n",
              "    </tr>\n",
              "    <tr>\n",
              "      <th>3</th>\n",
              "      <td>url Google Books search04</td>\n",
              "      <td>The Data Revolution - Rob Kitchin - Google Books</td>\n",
              "      <td>https://books.google.com/books/about/The_Data_...</td>\n",
              "      <td>books.google.com</td>\n",
              "      <td>2021-12-02</td>\n",
              "      <td>kitchin+data+revolution</td>\n",
              "      <td>NaN</td>\n",
              "    </tr>\n",
              "    <tr>\n",
              "      <th>4</th>\n",
              "      <td>url Google Books search05</td>\n",
              "      <td>The Data Revolution - Rob Kitchin - Google Books</td>\n",
              "      <td>https://books.google.com/books/about/The_Data_...</td>\n",
              "      <td>books.google.com</td>\n",
              "      <td>2021-12-02</td>\n",
              "      <td>kitchin+data+revolution</td>\n",
              "      <td>NaN</td>\n",
              "    </tr>\n",
              "    <tr>\n",
              "      <th>5</th>\n",
              "      <td>url Google Books search06</td>\n",
              "      <td>The Data Revolution: A Critical Analysis of Bi...</td>\n",
              "      <td>https://books.google.com/books/about/The_Data_...</td>\n",
              "      <td>books.google.com</td>\n",
              "      <td>2021-12-02</td>\n",
              "      <td>kitchin+data+revolution</td>\n",
              "      <td>NaN</td>\n",
              "    </tr>\n",
              "    <tr>\n",
              "      <th>6</th>\n",
              "      <td>url Kitchin 2014 SurveillanceSociety bookreview</td>\n",
              "      <td>Book review: Kitchin, R. 2014. 'The Data Revol...</td>\n",
              "      <td>https://openresearch.surrey.ac.uk/esploro/outp...</td>\n",
              "      <td>openresearch.surrey.ac.uk</td>\n",
              "      <td>2021-12-02</td>\n",
              "      <td>kitchin+data+revolution</td>\n",
              "      <td>NaN</td>\n",
              "    </tr>\n",
              "    <tr>\n",
              "      <th>7</th>\n",
              "      <td>url Kitchin 2021b Booktopia item</td>\n",
              "      <td>The Data Revolution - Booktopia</td>\n",
              "      <td>https://www.booktopia.com.au/the-data-revoluti...</td>\n",
              "      <td>www.booktopia.com.au</td>\n",
              "      <td>2021-12-02</td>\n",
              "      <td>kitchin+data+revolution</td>\n",
              "      <td>NaN</td>\n",
              "    </tr>\n",
              "    <tr>\n",
              "      <th>8</th>\n",
              "      <td>url Kitchin 2014 LesComptesRendus bookreview</td>\n",
              "      <td>Rob Kitchin, The Data Revolution: Big Data, Op...</td>\n",
              "      <td>https://journals.openedition.org/lectures/16521</td>\n",
              "      <td>journals.openedition.org</td>\n",
              "      <td>2021-12-02</td>\n",
              "      <td>kitchin+data+revolution</td>\n",
              "      <td>NaN</td>\n",
              "    </tr>\n",
              "    <tr>\n",
              "      <th>9</th>\n",
              "      <td>url Kitchin 2014 EconPaper reviewrecord</td>\n",
              "      <td>Sage Publications. 222+xvii. ISBN: 978-1446287...</td>\n",
              "      <td>https://econpapers.repec.org/RePEc:bla:jregsc:...</td>\n",
              "      <td>econpapers.repec.org</td>\n",
              "      <td>2021-12-02</td>\n",
              "      <td>kitchin+data+revolution</td>\n",
              "      <td>NaN</td>\n",
              "    </tr>\n",
              "    <tr>\n",
              "      <th>10</th>\n",
              "      <td>url Kitchin 2014 Bokus item</td>\n",
              "      <td>The Data Revolution - Rob Kitchin - Häftad (97...</td>\n",
              "      <td>https://www.bokus.com/bok/9781446287484/the-da...</td>\n",
              "      <td>www.bokus.com</td>\n",
              "      <td>2021-12-02</td>\n",
              "      <td>kitchin+data+revolution</td>\n",
              "      <td>NaN</td>\n",
              "    </tr>\n",
              "    <tr>\n",
              "      <th>11</th>\n",
              "      <td>url Kitchin 2014 Biblio items</td>\n",
              "      <td>9781446287484 - The Data Revolution - Biblio.com</td>\n",
              "      <td>https://www.biblio.com/9781446287484</td>\n",
              "      <td>www.biblio.com</td>\n",
              "      <td>2021-12-02</td>\n",
              "      <td>kitchin+data+revolution</td>\n",
              "      <td>NaN</td>\n",
              "    </tr>\n",
              "    <tr>\n",
              "      <th>12</th>\n",
              "      <td>url Kitchin 2014 BolCom item</td>\n",
              "      <td>The Data Revolution | 9781446287484 | Rob Kitc...</td>\n",
              "      <td>https://www.bol.com/nl/nl/f/the-data-revolutio...</td>\n",
              "      <td>www.bol.com</td>\n",
              "      <td>2021-12-02</td>\n",
              "      <td>kitchin+data+revolution</td>\n",
              "      <td>NaN</td>\n",
              "    </tr>\n",
              "    <tr>\n",
              "      <th>13</th>\n",
              "      <td>url Kitchin 2014 ORBiLU reviewrecord</td>\n",
              "      <td>Rob Kitchin, The Data Revolution - ORBi lu</td>\n",
              "      <td>https://orbilu.uni.lu/handle/10993/34979</td>\n",
              "      <td>orbilu.uni.lu</td>\n",
              "      <td>2021-12-02</td>\n",
              "      <td>kitchin+data+revolution</td>\n",
              "      <td>NaN</td>\n",
              "    </tr>\n",
              "    <tr>\n",
              "      <th>14</th>\n",
              "      <td>url Kitchin 2014 GeographyResearchForum bookre...</td>\n",
              "      <td>[PDF] THE DATA REVOLUTION</td>\n",
              "      <td>https://grf.bgu.ac.il/index.php/GRF/article/vi...</td>\n",
              "      <td>grf.bgu.ac.il</td>\n",
              "      <td>2021-12-02</td>\n",
              "      <td>kitchin+data+revolution</td>\n",
              "      <td>NaN</td>\n",
              "    </tr>\n",
              "    <tr>\n",
              "      <th>15</th>\n",
              "      <td>url Kitchin 2014 eBooks item</td>\n",
              "      <td>Rob Kitchin - The Data Revolution - eBooks.com</td>\n",
              "      <td>https://www.ebooks.com/en-us/book/1712661/the-...</td>\n",
              "      <td>www.ebooks.com</td>\n",
              "      <td>2021-12-02</td>\n",
              "      <td>kitchin+data+revolution</td>\n",
              "      <td>NaN</td>\n",
              "    </tr>\n",
              "    <tr>\n",
              "      <th>16</th>\n",
              "      <td>url Kitchin 2014 SemanticScholar paperrecord</td>\n",
              "      <td>Big Data, Open Data, Data Infrastructures and ...</td>\n",
              "      <td>https://www.semanticscholar.org/paper/The-Data...</td>\n",
              "      <td>www.semanticscholar.org</td>\n",
              "      <td>2021-12-02</td>\n",
              "      <td>kitchin+data+revolution</td>\n",
              "      <td>NaN</td>\n",
              "    </tr>\n",
              "    <tr>\n",
              "      <th>17</th>\n",
              "      <td>url Kitchin 2014 Perlego item</td>\n",
              "      <td>[PDF] The Data Revolution by Rob Kitchin | Per...</td>\n",
              "      <td>https://www.perlego.com/book/860829/the-data-r...</td>\n",
              "      <td>www.perlego.com</td>\n",
              "      <td>2021-12-02</td>\n",
              "      <td>kitchin+data+revolution</td>\n",
              "      <td>NaN</td>\n",
              "    </tr>\n",
              "    <tr>\n",
              "      <th>18</th>\n",
              "      <td>url Kitchin 2014 ProgressiveGeographies bookre...</td>\n",
              "      <td>Rob Kitchin's forthcoming The Data Revolution ...</td>\n",
              "      <td>https://progressivegeographies.com/2014/05/26/...</td>\n",
              "      <td>progressivegeographies.com</td>\n",
              "      <td>2021-12-02</td>\n",
              "      <td>kitchin+data+revolution</td>\n",
              "      <td>NaN</td>\n",
              "    </tr>\n",
              "    <tr>\n",
              "      <th>19</th>\n",
              "      <td>url Kitchin 2014 Scibd rewiewrecord</td>\n",
              "      <td>FR Kitchin, R. The Data Revolution Big Data, O...</td>\n",
              "      <td>https://www.scribd.com/document/500413496/FR-K...</td>\n",
              "      <td>www.scribd.com</td>\n",
              "      <td>2021-12-02</td>\n",
              "      <td>kitchin+data+revolution</td>\n",
              "      <td>NaN</td>\n",
              "    </tr>\n",
              "    <tr>\n",
              "      <th>20</th>\n",
              "      <td>url Kitchin 2014 BookDepository item</td>\n",
              "      <td>The Data Revolution : Rob Kitchin : 9781446287...</td>\n",
              "      <td>https://www.bookdepository.com/Data-Revolution...</td>\n",
              "      <td>www.bookdepository.com</td>\n",
              "      <td>2021-12-02</td>\n",
              "      <td>kitchin+data+revolution</td>\n",
              "      <td>NaN</td>\n",
              "    </tr>\n",
              "    <tr>\n",
              "      <th>21</th>\n",
              "      <td>url Kitchin 2014 AwesomeBooks item</td>\n",
              "      <td>A Critical Analysis of Big Data, Open Data and...</td>\n",
              "      <td>https://www.awesomebooks.com/book/978152973376...</td>\n",
              "      <td>www.awesomebooks.com</td>\n",
              "      <td>2021-12-02</td>\n",
              "      <td>kitchin+data+revolution</td>\n",
              "      <td>NaN</td>\n",
              "    </tr>\n",
              "    <tr>\n",
              "      <th>22</th>\n",
              "      <td>url Rob Kitchin GoogleScholar record</td>\n",
              "      <td>Rob Kitchin - Google Scholar</td>\n",
              "      <td>https://scholar.google.com/citations%3Fuser%3D...</td>\n",
              "      <td>scholar.google.com</td>\n",
              "      <td>2021-12-02</td>\n",
              "      <td>kitchin+data+revolution</td>\n",
              "      <td>NaN</td>\n",
              "    </tr>\n",
              "  </tbody>\n",
              "</table>\n",
              "</div>"
            ],
            "text/plain": [
              "                                                 term  ...                                           abstract\n",
              "0   url Kitchin 2014 JournalOfRegionalScience book...  ...  This is a new field added by editing an HTML f...\n",
              "1                       url Kitchin 2014 pdf fragment  ...                                                NaN\n",
              "2                  url Kitchin 2021b BarnesNoble item  ...                                                NaN\n",
              "3                           url Google Books search04  ...                                                NaN\n",
              "4                           url Google Books search05  ...                                                NaN\n",
              "5                           url Google Books search06  ...                                                NaN\n",
              "6     url Kitchin 2014 SurveillanceSociety bookreview  ...                                                NaN\n",
              "7                    url Kitchin 2021b Booktopia item  ...                                                NaN\n",
              "8        url Kitchin 2014 LesComptesRendus bookreview  ...                                                NaN\n",
              "9             url Kitchin 2014 EconPaper reviewrecord  ...                                                NaN\n",
              "10                        url Kitchin 2014 Bokus item  ...                                                NaN\n",
              "11                      url Kitchin 2014 Biblio items  ...                                                NaN\n",
              "12                       url Kitchin 2014 BolCom item  ...                                                NaN\n",
              "13               url Kitchin 2014 ORBiLU reviewrecord  ...                                                NaN\n",
              "14  url Kitchin 2014 GeographyResearchForum bookre...  ...                                                NaN\n",
              "15                       url Kitchin 2014 eBooks item  ...                                                NaN\n",
              "16       url Kitchin 2014 SemanticScholar paperrecord  ...                                                NaN\n",
              "17                      url Kitchin 2014 Perlego item  ...                                                NaN\n",
              "18  url Kitchin 2014 ProgressiveGeographies bookre...  ...                                                NaN\n",
              "19                url Kitchin 2014 Scibd rewiewrecord  ...                                                NaN\n",
              "20               url Kitchin 2014 BookDepository item  ...                                                NaN\n",
              "21                 url Kitchin 2014 AwesomeBooks item  ...                                                NaN\n",
              "22               url Rob Kitchin GoogleScholar record  ...                                                NaN\n",
              "\n",
              "[23 rows x 7 columns]"
            ]
          },
          "metadata": {},
          "execution_count": 10
        }
      ]
    },
    {
      "cell_type": "code",
      "metadata": {
        "id": "KNyrXDjFTJ-g"
      },
      "source": [
        ""
      ],
      "id": "KNyrXDjFTJ-g",
      "execution_count": null,
      "outputs": []
    }
  ]
}
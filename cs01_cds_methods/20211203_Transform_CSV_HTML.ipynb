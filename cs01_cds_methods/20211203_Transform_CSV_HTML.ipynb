{
  "nbformat": 4,
  "nbformat_minor": 5,
  "metadata": {
    "kernelspec": {
      "display_name": "Python 3",
      "language": "python",
      "name": "python3"
    },
    "language_info": {
      "codemirror_mode": {
        "name": "ipython",
        "version": 3
      },
      "file_extension": ".py",
      "mimetype": "text/x-python",
      "name": "python",
      "nbconvert_exporter": "python",
      "pygments_lexer": "ipython3",
      "version": "3.7.11"
    },
    "colab": {
      "name": "20211203_Transform_CSV_HTML.ipynb",
      "provenance": [],
      "include_colab_link": true
    }
  },
  "cells": [
    {
      "cell_type": "markdown",
      "metadata": {
        "id": "view-in-github",
        "colab_type": "text"
      },
      "source": [
        "<a href=\"https://colab.research.google.com/github/lustraka/data-analyst-portfolio-project-2022/blob/main/cs01_cds_methods/20211203_Transform_CSV_HTML.ipynb\" target=\"_parent\"><img src=\"https://colab.research.google.com/assets/colab-badge.svg\" alt=\"Open In Colab\"/></a>"
      ]
    },
    {
      "cell_type": "markdown",
      "metadata": {
        "id": "caiAzAaAOSPb"
      },
      "source": [
        "# Transform CSV to HTML and Vice Versa\n",
        "## Goal\n",
        "The purpose of this pattern is to provide interface for gathering data into structured form through HTML files in GitHub repository. GitHub displays HTML files as source code, but it is possible to open rendered output using prefix:\n",
        "\n",
        "```\n",
        "https://htmlpreview.github.io/?\n",
        "```\n",
        "> **Note**: To open the link in a new tab, just use `Ctrl`+click\n",
        "\n",
        "## Objectives\n",
        "- Export a DataFrame to an HTML file using `BeautifulSoup`, where:\n",
        "  - Each row is contained in a `<div class='row'>` element.\n",
        "  - Fields in general are contained  in `<span class='field_name'>` elements divided by `<br\\>` element.\n",
        "  - Fields `term` and `title` are wrapped in a `<h3>` element.\n",
        "  - The field `url` is wrapped in a `<a href=''>` element.\n",
        "- Import a DataFrame from an HTML file. The structure of a DataFrame imported from HTML shall be derived from the classes of `<span>` elements in the HTML file.\n",
        "\n",
        "## Lessons Learned\n",
        "Using `BeautifulSoup` for extracting data:\n",
        "  - cs01_cds_methods > [20211202_Search_Web_Resources.ipynb](https://github.com/lustraka/data-analyst-portfolio-project-2022/blob/875001b6ca1896c6a09d7e71a16a2b1bb65da280/cs01_cds_methods/20211202_Search_Web_Resources.ipynb)\n",
        "  - suitecrm > iim > 20211126-WebScrape-Pytude.ipynb\n",
        "  - Wrangle_Data > [Compare_CRM_Systems.ipynb](https://github.com/lustraka/Data_Analysis_Workouts/blob/d0585eafc2d5a1439831da275609945e430527ac/Wrangle_Data/Compare_CRM_Systems.ipynb)\n",
        "  \n",
        "Using `BeautifulSoup` for reporting data:\n",
        "  - Tutorials > BeautifulSoup-Compile-Prehled-zmen.ipynb\n",
        "\n",
        "## Set Up HTML Template"
      ],
      "id": "caiAzAaAOSPb"
    },
    {
      "cell_type": "code",
      "metadata": {
        "id": "c4NVvZ4OZmcz"
      },
      "source": [
        "from bs4 import BeautifulSoup\n",
        "import pandas as pd\n",
        "import numpy as np\n",
        "import re\n",
        "from datetime import date\n",
        "import os"
      ],
      "id": "c4NVvZ4OZmcz",
      "execution_count": 2,
      "outputs": []
    },
    {
      "cell_type": "code",
      "metadata": {
        "id": "KCgQBPafZnWk",
        "colab": {
          "base_uri": "https://localhost:8080/"
        },
        "outputId": "2ff316dd-c0d4-405f-f858-b4bc0d67dc23"
      },
      "source": [
        "# Initialize the template for an export\n",
        "html_template = \"\"\"<!DOCTYPE html>\n",
        "<html><head>\n",
        "<meta content=\"text/html; charset=utf-8\" http-equiv=\"Content-Type\"/>\n",
        "<title></title>\n",
        "<style>\n",
        "body { background-color: #ffffff; color: #000000; margin:10px 10px 10px 10px; font-family: Arial, Helvetica, sans-serif; }\n",
        "h1 { font-size: 1.75em; color: #003199; }\n",
        "h2 { font-size: 1.25em; color: #003199; }\n",
        "h3 { font-size: 1em; color: #003199; }\n",
        "p, li { font-size: 1em; }\n",
        ".header { font-size: 2em; color: #000099; }\n",
        ".maincontent { }\n",
        ".footer { text-align: center; font-size: 0.675em; }\n",
        "table, th, td { border: 1px solid black; border-collapse: collapse; }\n",
        "table { width: 18cm; }\n",
        "th, td { padding: 2px; }\n",
        ".highligth { background-color: #ffffe0;}\n",
        "</style>\n",
        "</head>\n",
        "<body>\n",
        "<div class=\"header\"><span></span></div>\n",
        "<hr/>\n",
        "<div class=\"maincontent\">\n",
        "</div>\n",
        "<hr/>\n",
        "<div class=\"footer\">Updated: <span class=\"update\"></span>.</div>\n",
        "</body></html>\"\"\"\n",
        "soup = BeautifulSoup(html_template, 'html.parser')\n",
        "print(soup.prettify())"
      ],
      "id": "KCgQBPafZnWk",
      "execution_count": 16,
      "outputs": [
        {
          "output_type": "stream",
          "name": "stdout",
          "text": [
            "<!DOCTYPE html>\n",
            "<html>\n",
            " <head>\n",
            "  <meta content=\"text/html; charset=utf-8\" http-equiv=\"Content-Type\"/>\n",
            "  <title>\n",
            "  </title>\n",
            "  <style>\n",
            "   body { background-color: #ffffff; color: #000000; margin:10px 10px 10px 10px; font-family: Arial, Helvetica, sans-serif; }\n",
            "h1 { font-size: 1.75em; color: #003199; }\n",
            "h2 { font-size: 1.25em; color: #003199; }\n",
            "h3 { font-size: 1em; color: #003199; }\n",
            "p, li { font-size: 1em; }\n",
            ".header { font-size: 2em; color: #000099; }\n",
            ".maincontent { }\n",
            ".footer { text-align: center; font-size: 0.675em; }\n",
            "table, th, td { border: 1px solid black; border-collapse: collapse; }\n",
            "table { width: 18cm; }\n",
            "th, td { padding: 2px; }\n",
            ".highligth { background-color: #ffffe0;}\n",
            "  </style>\n",
            " </head>\n",
            " <body>\n",
            "  <div class=\"header\">\n",
            "   <span>\n",
            "   </span>\n",
            "  </div>\n",
            "  <hr/>\n",
            "  <div class=\"maincontent\">\n",
            "  </div>\n",
            "  <hr/>\n",
            "  <div class=\"footer\">\n",
            "   Updated:\n",
            "   <span class=\"update\">\n",
            "   </span>\n",
            "   .\n",
            "  </div>\n",
            " </body>\n",
            "</html>\n"
          ]
        }
      ]
    },
    {
      "cell_type": "code",
      "metadata": {
        "id": "DmIu5emPa2eE",
        "colab": {
          "base_uri": "https://localhost:8080/"
        },
        "outputId": "4f30be26-3489-4db4-e648-12efcb5dd971"
      },
      "source": [
        "soup.find(class_='update').string = str(date.today())\n",
        "print(soup.body.prettify())"
      ],
      "id": "DmIu5emPa2eE",
      "execution_count": 17,
      "outputs": [
        {
          "output_type": "stream",
          "name": "stdout",
          "text": [
            "<body>\n",
            " <div class=\"header\">\n",
            "  <span>\n",
            "  </span>\n",
            " </div>\n",
            " <hr/>\n",
            " <div class=\"maincontent\">\n",
            " </div>\n",
            " <hr/>\n",
            " <div class=\"footer\">\n",
            "  Updated:\n",
            "  <span class=\"update\">\n",
            "   2021-12-03\n",
            "  </span>\n",
            "  .\n",
            " </div>\n",
            "</body>\n"
          ]
        }
      ]
    },
    {
      "cell_type": "code",
      "metadata": {
        "id": "WH1l8sCHcCzU",
        "outputId": "3639f18b-85fa-4a70-da88-d1ec37d0016b",
        "colab": {
          "base_uri": "https://localhost:8080/"
        }
      },
      "source": [
        "# Load an example CSV file\n",
        "path = 'https://raw.githubusercontent.com/lustraka/data-analyst-portfolio-project-2022/main/data/web_searches/'\n",
        "df = pd.read_csv(path+'url_review.csv')\n",
        "df.shape"
      ],
      "id": "WH1l8sCHcCzU",
      "execution_count": 9,
      "outputs": [
        {
          "output_type": "execute_result",
          "data": {
            "text/plain": [
              "(23, 6)"
            ]
          },
          "metadata": {},
          "execution_count": 9
        }
      ]
    },
    {
      "cell_type": "markdown",
      "metadata": {
        "id": "Pci1SOxz14FW"
      },
      "source": [
        "## Design Export of a DataFrame\n",
        "- For each row append  a `<div class='row'>` element.\n",
        "- For each field append a `<span class='field_name'>` elements followed by `<br\\>` element.\n",
        "- Add special wrapping for `term`, `title`, and `url`.\n"
      ],
      "id": "Pci1SOxz14FW"
    },
    {
      "cell_type": "code",
      "metadata": {
        "id": "5Ycu4kZu1duG"
      },
      "source": [
        "filename = 'test.html'\n",
        "def export_html(df, filename):\n",
        "  \"\"\"Export the dataframe df to a HTML file called `filename`.\"\"\"\n",
        "\n",
        "  soup = BeautifulSoup(html_template, 'html.parser')\n",
        "  soup.find(class_='update').string = str(date.today())\n",
        "\n",
        "  # Locate a div maincontent element\n",
        "  maincontent = soup.find('div', class_='maincontent')\n",
        "\n",
        "  for _, row in df.iterrows():\n",
        "    div_row = BeautifulSoup('<div class=\"row\"></div>').div\n",
        "    \n",
        "    # Prepare a <h3> element for term and title\n",
        "    h3_tag = BeautifulSoup('<h3></h3>').h3\n",
        "    div_row.append(h3_tag)\n",
        "    h3 = div_row.h3\n",
        "\n",
        "    # Prepare an <a> element for url\n",
        "    a_tag = BeautifulSoup('<a></a>').a\n",
        "    div_row.append(a_tag)\n",
        "    a =  div_row.a\n",
        "\n",
        "    for col in df.columns:\n",
        "      span = BeautifulSoup('<span></span>').span\n",
        "      span['class'] = f'{col}'\n",
        "      span.string = str(row[col])\n",
        "      if col == 'term':\n",
        "        h3.append(span)\n",
        "        h3.append(BeautifulSoup('<br/>').br)\n",
        "      elif col == 'title':\n",
        "        h3.append(span)\n",
        "      elif col == 'url':\n",
        "        a['href'] = row[col]\n",
        "        # Open link in a new tab\n",
        "        a['target'] = '_blank'\n",
        "        # Prevent tabnabbing!!\n",
        "        a['rel'] = \"noopener noreferrer\"\n",
        "        a.append(span)\n",
        "        div_row.append(BeautifulSoup('<br/>').br)\n",
        "      else:\n",
        "        div_row.append(span)\n",
        "        div_row.append(BeautifulSoup('<br/>').br)\n",
        "    maincontent.append(div_row)\n",
        "\n",
        "  with open(filename, 'w') as file:\n",
        "    file.write(soup.prettify())\n",
        "  \n",
        "  return\n",
        "\n",
        "# Test export to html\n",
        "export_html(df,filename)"
      ],
      "id": "5Ycu4kZu1duG",
      "execution_count": 25,
      "outputs": []
    },
    {
      "cell_type": "code",
      "metadata": {
        "id": "a39Mjg084fSt"
      },
      "source": [
        ""
      ],
      "id": "a39Mjg084fSt",
      "execution_count": null,
      "outputs": []
    }
  ]
}
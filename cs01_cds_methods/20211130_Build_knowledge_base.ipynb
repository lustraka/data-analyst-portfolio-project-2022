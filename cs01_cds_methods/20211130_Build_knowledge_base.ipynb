{
  "nbformat": 4,
  "nbformat_minor": 5,
  "metadata": {
    "kernelspec": {
      "display_name": "Python 3",
      "language": "python",
      "name": "python3"
    },
    "language_info": {
      "codemirror_mode": {
        "name": "ipython",
        "version": 3
      },
      "file_extension": ".py",
      "mimetype": "text/x-python",
      "name": "python",
      "nbconvert_exporter": "python",
      "pygments_lexer": "ipython3",
      "version": "3.7.11"
    },
    "colab": {
      "name": "20211130_Build_knowledge_base.ipynb",
      "provenance": [],
      "include_colab_link": true
    }
  },
  "cells": [
    {
      "cell_type": "markdown",
      "metadata": {
        "id": "view-in-github",
        "colab_type": "text"
      },
      "source": [
        "<a href=\"https://colab.research.google.com/github/lustraka/data-analyst-portfolio-project-2022/blob/main/cs01_cds_methods/20211130_Build_knowledge_base.ipynb\" target=\"_parent\"><img src=\"https://colab.research.google.com/assets/colab-badge.svg\" alt=\"Open In Colab\"/></a>"
      ]
    },
    {
      "cell_type": "markdown",
      "metadata": {
        "id": "c9avEUkHm7SQ"
      },
      "source": [
        "# Case Study: CDS Methods\n",
        "## Map CDS methods in Kitchen (2021b)"
      ],
      "id": "c9avEUkHm7SQ"
    },
    {
      "cell_type": "code",
      "metadata": {
        "id": "ICkqM_vtnP8Q"
      },
      "source": [
        "# Import dependencies\n",
        "import requests\n",
        "import pandas as pd\n",
        "import numpy as np\n",
        "import re\n",
        "from datetime import date\n",
        "import json\n",
        "import os\n",
        "import ast"
      ],
      "id": "ICkqM_vtnP8Q",
      "execution_count": 1,
      "outputs": []
    },
    {
      "cell_type": "code",
      "metadata": {
        "id": "0mYO_z3mnSKw"
      },
      "source": [
        "# Import the knowledge base\n",
        "kb_path = 'https://raw.githubusercontent.com/lustraka/data-analyst-portfolio-project-2022/main/data/'\n",
        "kb_files = ['tao_iim.py', 'elem.txt', 'rels.csv', 'relt.csv']\n",
        "for kb_file in kb_files:\n",
        "  r = requests.get(kb_path+kb_file)\n",
        "  with open(kb_file, 'wb') as file:\n",
        "    file.write(r.content)\n",
        "\n",
        "import tao_iim"
      ],
      "id": "0mYO_z3mnSKw",
      "execution_count": 2,
      "outputs": []
    },
    {
      "cell_type": "code",
      "metadata": {
        "id": "XMEW8kEBrR0w",
        "outputId": "367291ca-f929-4b3a-d45a-f1faf7950d13",
        "colab": {
          "base_uri": "https://localhost:8080/"
        }
      },
      "source": [
        "# Initialize & update dataframes\n",
        "elem_df, rels_df, relt_df = tao_iim.load_elem_rel()\n",
        "# Update here (applied updates below)\n",
        "tao_iim.dump_elem_rel(elem_df, rels_df, relt_df)"
      ],
      "id": "XMEW8kEBrR0w",
      "execution_count": 3,
      "outputs": [
        {
          "output_type": "stream",
          "name": "stdout",
          "text": [
            "Shapes of loaded files:  [(18, 3), (40, 3), (4, 2)]\n",
            "A batch for Kitchin 2021b processed.\n",
            "A batch for critical data study processed.\n",
            "A batch for Pink et al. 2018b processed.\n",
            "A batch for Meng and DiSalvo 2018 processed.\n",
            "A batch for Coletta and Kitchin 2017 processed.\n",
            "A batch for Tanweer et al. 2016 processed.\n",
            "A batch for Lowrie 2017 processed.\n",
            "A batch for Evans and Kitchin 2018 processed.\n",
            "A batch for Grommé et al. 2018 processed.\n",
            "A batch for Pink and Fors 2017 processed.\n",
            "A batch for Beneito-Montagut et al. 2017 processed.\n",
            "A batch for Lehtiniemi and Ruckenstein 2019 processed.\n",
            "A batch for Fraser 2019a processed.\n",
            "A batch for Kitchin 2021a processed.\n",
            "A batch for Kitchin et al. 2016 processed.\n",
            "A batch for Fraser 2019a URL processed.\n",
            "Don't forget to download results for further use!!\n"
          ]
        }
      ]
    },
    {
      "cell_type": "markdown",
      "metadata": {
        "id": "Tcqm2R841vT1"
      },
      "source": [
        "**2021-11-30** Updates:\n",
        "```python\n",
        "with open('batches_20211129.txt', 'r') as file:\n",
        "  batches = ast.literal_eval(file.read())\n",
        "for batch in batches:\n",
        "  elem_df, rels_df, relt_df = tao_iim.add_batch(batch, elem_df, rels_df, relt_df)\n",
        "```"
      ],
      "id": "Tcqm2R841vT1"
    },
    {
      "cell_type": "code",
      "metadata": {
        "id": "qQXlsF1-roDg"
      },
      "source": [
        ""
      ],
      "id": "qQXlsF1-roDg",
      "execution_count": null,
      "outputs": []
    }
  ]
}
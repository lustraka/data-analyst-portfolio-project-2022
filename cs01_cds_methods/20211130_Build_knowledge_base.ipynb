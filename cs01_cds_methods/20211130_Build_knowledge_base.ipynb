{
  "nbformat": 4,
  "nbformat_minor": 5,
  "metadata": {
    "kernelspec": {
      "display_name": "Python 3",
      "language": "python",
      "name": "python3"
    },
    "language_info": {
      "codemirror_mode": {
        "name": "ipython",
        "version": 3
      },
      "file_extension": ".py",
      "mimetype": "text/x-python",
      "name": "python",
      "nbconvert_exporter": "python",
      "pygments_lexer": "ipython3",
      "version": "3.7.11"
    },
    "colab": {
      "name": "20211130_Build_knowledge_base.ipynb",
      "provenance": [],
      "include_colab_link": true
    }
  },
  "cells": [
    {
      "cell_type": "markdown",
      "metadata": {
        "id": "view-in-github",
        "colab_type": "text"
      },
      "source": [
        "<a href=\"https://colab.research.google.com/github/lustraka/data-analyst-portfolio-project-2022/blob/main/cs01_cds_methods/20211130_Build_knowledge_base.ipynb\" target=\"_parent\"><img src=\"https://colab.research.google.com/assets/colab-badge.svg\" alt=\"Open In Colab\"/></a>"
      ]
    },
    {
      "cell_type": "markdown",
      "metadata": {
        "id": "c9avEUkHm7SQ"
      },
      "source": [
        "# Case Study: CDS Methods\n",
        "## Map CDS methods in Kitchen (2021b)"
      ],
      "id": "c9avEUkHm7SQ"
    },
    {
      "cell_type": "code",
      "metadata": {
        "id": "ICkqM_vtnP8Q"
      },
      "source": [
        "# Import dependencies\n",
        "import requests\n",
        "import pandas as pd\n",
        "import numpy as np\n",
        "import re\n",
        "from datetime import date\n",
        "import json\n",
        "import os\n",
        "import ast"
      ],
      "id": "ICkqM_vtnP8Q",
      "execution_count": 1,
      "outputs": []
    },
    {
      "cell_type": "code",
      "metadata": {
        "id": "0mYO_z3mnSKw"
      },
      "source": [
        "# Import the knowledge base\n",
        "kb_path = 'https://raw.githubusercontent.com/lustraka/data-analyst-portfolio-project-2022/main/data/'\n",
        "kb_files = ['tao_iim.py', 'elem.txt', 'rels.csv', 'relt.csv']\n",
        "for kb_file in kb_files:\n",
        "  r = requests.get(kb_path+kb_file)\n",
        "  with open(kb_file, 'wb') as file:\n",
        "    file.write(r.content)\n",
        "\n",
        "import tao_iim"
      ],
      "id": "0mYO_z3mnSKw",
      "execution_count": 8,
      "outputs": []
    },
    {
      "cell_type": "markdown",
      "metadata": {
        "id": "E-ypoMhVT7vb"
      },
      "source": [
        "## Update the Knowledge Base Programmatically"
      ],
      "id": "E-ypoMhVT7vb"
    },
    {
      "cell_type": "code",
      "metadata": {
        "colab": {
          "base_uri": "https://localhost:8080/"
        },
        "id": "XMEW8kEBrR0w",
        "outputId": "9f4379b1-2eda-4644-af75-c316ce49a875"
      },
      "source": [
        "# Initialize & update dataframes\n",
        "elem_df, rels_df, relt_df = tao_iim.load_elem_rel()\n",
        "# Update here (applied updates below)"
      ],
      "id": "XMEW8kEBrR0w",
      "execution_count": 9,
      "outputs": [
        {
          "output_type": "stream",
          "name": "stdout",
          "text": [
            "Shapes of loaded files:  [(111, 3), (226, 3), (4, 2)]\n"
          ]
        }
      ]
    },
    {
      "cell_type": "markdown",
      "metadata": {
        "id": "Tcqm2R841vT1"
      },
      "source": [
        "**2021-11-30** Updates:\n",
        "```python\n",
        "with open('bbb', 'r') as file:\n",
        "  batches = ast.literal_eval(file.read())\n",
        "for batch in batches:\n",
        "  elem_df, rels_df, relt_df = tao_iim.add_batch(batch, elem_df, rels_df, relt_df)\n",
        "```\n",
        "where `bbb` stands for `batches_20211129.txt` and `batches_20211130.txt`.\n"
      ],
      "id": "Tcqm2R841vT1"
    },
    {
      "cell_type": "code",
      "metadata": {
        "id": "qQXlsF1-roDg"
      },
      "source": [
        "# Save the results\n",
        "do_it = False\n",
        "# do_it = True\n",
        "if do_it:\n",
        "  tao_iim.dump_elem_rel(elem_df, rels_df, relt_df)"
      ],
      "id": "qQXlsF1-roDg",
      "execution_count": 10,
      "outputs": []
    },
    {
      "cell_type": "markdown",
      "metadata": {
        "id": "uifWgk7QUDWC"
      },
      "source": [
        "## Explore the Knowledge Base"
      ],
      "id": "uifWgk7QUDWC"
    },
    {
      "cell_type": "code",
      "metadata": {
        "id": "fDg-YVcl5zAR",
        "outputId": "90c7debd-08cd-44f1-ff96-29bb33f38e53",
        "colab": {
          "base_uri": "https://localhost:8080/",
          "height": 363
        }
      },
      "source": [
        "elem_df.loc[elem_df.title.isna()].sort_values(by='term')"
      ],
      "id": "fDg-YVcl5zAR",
      "execution_count": 12,
      "outputs": [
        {
          "output_type": "execute_result",
          "data": {
            "text/html": [
              "<div>\n",
              "<style scoped>\n",
              "    .dataframe tbody tr th:only-of-type {\n",
              "        vertical-align: middle;\n",
              "    }\n",
              "\n",
              "    .dataframe tbody tr th {\n",
              "        vertical-align: top;\n",
              "    }\n",
              "\n",
              "    .dataframe thead th {\n",
              "        text-align: right;\n",
              "    }\n",
              "</style>\n",
              "<table border=\"1\" class=\"dataframe\">\n",
              "  <thead>\n",
              "    <tr style=\"text-align: right;\">\n",
              "      <th></th>\n",
              "      <th>term</th>\n",
              "      <th>title</th>\n",
              "      <th>url</th>\n",
              "    </tr>\n",
              "  </thead>\n",
              "  <tbody>\n",
              "    <tr>\n",
              "      <th>100</th>\n",
              "      <td>critical data science method</td>\n",
              "      <td>NaN</td>\n",
              "      <td>NaN</td>\n",
              "    </tr>\n",
              "    <tr>\n",
              "      <th>101</th>\n",
              "      <td>critical data study</td>\n",
              "      <td>NaN</td>\n",
              "      <td>NaN</td>\n",
              "    </tr>\n",
              "    <tr>\n",
              "      <th>102</th>\n",
              "      <td>data (auto)ethnography method</td>\n",
              "      <td>NaN</td>\n",
              "      <td>NaN</td>\n",
              "    </tr>\n",
              "    <tr>\n",
              "      <th>103</th>\n",
              "      <td>data archaeology method</td>\n",
              "      <td>NaN</td>\n",
              "      <td>NaN</td>\n",
              "    </tr>\n",
              "    <tr>\n",
              "      <th>104</th>\n",
              "      <td>data walk method</td>\n",
              "      <td>NaN</td>\n",
              "      <td>NaN</td>\n",
              "    </tr>\n",
              "    <tr>\n",
              "      <th>105</th>\n",
              "      <td>discursive analysis method</td>\n",
              "      <td>NaN</td>\n",
              "      <td>NaN</td>\n",
              "    </tr>\n",
              "    <tr>\n",
              "      <th>106</th>\n",
              "      <td>historical analysis and genealogy method</td>\n",
              "      <td>NaN</td>\n",
              "      <td>NaN</td>\n",
              "    </tr>\n",
              "    <tr>\n",
              "      <th>107</th>\n",
              "      <td>interview, focus group and workshop method</td>\n",
              "      <td>NaN</td>\n",
              "      <td>NaN</td>\n",
              "    </tr>\n",
              "    <tr>\n",
              "      <th>108</th>\n",
              "      <td>participatory and action research method</td>\n",
              "      <td>NaN</td>\n",
              "      <td>NaN</td>\n",
              "    </tr>\n",
              "    <tr>\n",
              "      <th>109</th>\n",
              "      <td>research-creation and creative practice method</td>\n",
              "      <td>NaN</td>\n",
              "      <td>NaN</td>\n",
              "    </tr>\n",
              "  </tbody>\n",
              "</table>\n",
              "</div>"
            ],
            "text/plain": [
              "                                               term title  url\n",
              "100                    critical data science method   NaN  NaN\n",
              "101                             critical data study   NaN  NaN\n",
              "102                   data (auto)ethnography method   NaN  NaN\n",
              "103                         data archaeology method   NaN  NaN\n",
              "104                                data walk method   NaN  NaN\n",
              "105                      discursive analysis method   NaN  NaN\n",
              "106        historical analysis and genealogy method   NaN  NaN\n",
              "107      interview, focus group and workshop method   NaN  NaN\n",
              "108        participatory and action research method   NaN  NaN\n",
              "109  research-creation and creative practice method   NaN  NaN"
            ]
          },
          "metadata": {},
          "execution_count": 12
        }
      ]
    },
    {
      "cell_type": "code",
      "metadata": {
        "colab": {
          "base_uri": "https://localhost:8080/"
        },
        "id": "ZxHJAxcC4DnW",
        "outputId": "2515f2de-e6d4-4468-aea2-57c6ed044a5d"
      },
      "source": [
        "for method in rels_df.query('elea == \"critical data study\"').eleb:\n",
        "  print(method)\n",
        "  print(rels_df.query(f'relt == \"instantiates\" and eleb ==\\\"{method}\\\"').elea.to_list())"
      ],
      "id": "ZxHJAxcC4DnW",
      "execution_count": 17,
      "outputs": [
        {
          "output_type": "stream",
          "name": "stdout",
          "text": [
            "data (auto)ethnography method\n",
            "['Pink et al. 2018b', 'Meng and DiSalvo 2018', 'Coletta and Kitchin 2017', 'Tanweer et al. 2016', 'Lowrie 2017', 'Evans and Kitchin 2018', 'Grommé et al. 2018', 'Pink and Fors 2017', 'Beneito-Montagut et al. 2017', 'Lehtiniemi and Ruckenstein 2019', 'Fraser 2019a', 'Kitchin 2021a', 'Kitchin et al. 2016']\n",
            "interview, focus group and workshop method\n",
            "['Meng and DiSalvo 2018', 'Bates et al. 2016', 'Bates 2018', 'Ruijer et al. 2017', 'Kitchin and Moore-Cherry 2020', 'Brayne 2017', 'Delaney 2019', 'Delaney and Kitchin 2020', 'Thatcher 2014', 'Gray 2019', 'Chenou and Cepeda-Másmela 2019', 'Cinnamon 2019', 'Baack 2015']\n",
            "data archaeology method\n",
            "['Light et al. 2016', 'Leszczynski 2017', 'Tanweer et al. 2016', 'Dodge and Kitchin 2000', 'Bates et al. 2016', 'Bates 2018', 'Dumit and Nafus 2018', 'Kitchin and McArdle 2016', 'Kitchin and Stehle 2021', 'Kitchin et al. 2016', 'Dodge and Kitchin 2005', 'Currie et al. 2016', 'Meng and DiSalvo 2018', 'Loukissas 2018', 'Iliadis 2019']\n",
            "historical analysis and genealogy method\n",
            "['Phillips 2019', 'Barnes and Wilson 2014', 'Wyly 2019', 'Crowley 2009', 'Foucault 1977', 'Lauriault 2017', 'Davies et al. 2019b', 'Browne 2015', 'Wernimont 2018', 'Koopman 2019', 'Desrosières 1998', 'Porter 1995', 'Poovey 1998', 'Hannah 2011', 'Lauriault 2012', 'Karabell 2014', 'Bates et al. 2016']\n",
            "participatory and action research method\n",
            "['Kennedy et al. 2015b', 'Petty et al. 2016', 'Urban Praxis 2017', 'Ampatzidou et al. 2015', 'Gabrys et al. 2016', 'Meng and DiSalvo 2018', 'Irani 2015', 'Perng et al. 2018', 'Currie et al. 2016']\n",
            "data walk method\n",
            "['Powell 2018', 'Jarke 2019', 'Hunter 2018', 'van Zoonen et al. 2017', 'Dawkins and Young 2020', 'Thatcher and Dalton 2017']\n",
            "discursive analysis method\n",
            "['Andrejevic 2007', 'Solove 2011', 'Bradshaw 2018', 'Cardullo and Kitchin 2019b', 'Meng and DiSalvo 2018', 'Wernimont 2018', 'Koopman 2019', 'Bates et al. 2016', 'Bates 2018', 'Kitchin and Moore-Cherry 2020', 'Brayne 2017', 'Delaney and Kitchin 2020', 'Chenou and Cepeda-Másmela 2019', 'Currie et al. 2016', 'Loukissas 2018']\n",
            "research-creation and creative practice method\n",
            "['Lupton 2017', 'Offenhuber 2020', 'Khot et al. 2015', 'Markham and Pereira 2019a', 'Markham and Pereira 2019b', 'Stark 2014', 'Lee et al. 2016b', 'Desjardins and Tihanyi 2019', 'Thudt et al. 2017', 'Weinberg n.d.', 'Jansen et al. 2015', 'Truman and Springgay 2015', 'Truman 2017', 'Lupton and Watson 2020', 'Foley 2020', 'Lee 2019', 'Kitchin 2021a', 'Graham et al. 2019', 'Fotopoulou and Beavon 2020', 'Petrelli et al. 2017']\n",
            "critical data science method\n",
            "['Pickles 1995', 'Schuurman and Pratt 2002', 'Dunn 2007', 'Crampton et al. 2013', 'Williams 2020', 'D’Ignazio and Klein 2020', 'Graham et al. 2014', 'Graham et al. 2015', 'Robinson and Franklin 2020']\n"
          ]
        }
      ]
    },
    {
      "cell_type": "code",
      "metadata": {
        "id": "OfAArxFn6C2_",
        "outputId": "c86d17ba-dd24-4b29-dacc-fd313426a64c",
        "colab": {
          "base_uri": "https://localhost:8080/"
        }
      },
      "source": [
        "# JOIN rels_df AND elem_df ON rels_df.elea = elem_df.term\n",
        "df = rels_df.merge(elem_df[['term', 'title']], how='left', left_on='elea', right_on='term')\n",
        "\n",
        "for method in df.query('elea == \"critical data study\"').eleb:\n",
        "  print(f'- **{method.title()}**')\n",
        "  for _,row in df.query(f'relt == \"instantiates\" and eleb ==\\\"{method}\\\"').sort_values(by='term').iterrows():\n",
        "    print(f'\\t- ({row[3]}) {row[4]}')"
      ],
      "id": "OfAArxFn6C2_",
      "execution_count": 25,
      "outputs": [
        {
          "output_type": "stream",
          "name": "stdout",
          "text": [
            "- **Data (Auto)Ethnography Method**\n",
            "\t- (Beneito-Montagut et al. 2017) Beneito-Montagut, R., Begueria, A. and Cassián, N. (2017) ‘Doing digital team ethnography: Being there together and digital social data’, Qualitative Research, 17(6), 664–682.\n",
            "\t- (Coletta and Kitchin 2017) Coletta, C. and Kitchin, R. (2017) ‘Algorhythmic governance: Regulating the “heartbeat” of a city using the Internet of Things’, Big Data & Society, 4: 1–16.\n",
            "\t- (Evans and Kitchin 2018) Evans, L. and Kitchin, R. (2018) ‘A smart place to work? Big data systems, labour, control, and modern retail stores’, New Technology, Work and Employment, 33(1): 44–57.\n",
            "\t- (Fraser 2019a) Fraser, A. (2019a) ‘Curating digital geographies in an era of data colonialism’, Geoforum, 104: 193–200.\n",
            "\t- (Grommé et al. 2018) Grommé, F., Ruppert, E. and Cakici, B. (2018) ‘Data scientists: A new faction of the transnational field of statistics’, in Knox, H. and Nafus, D. (eds), Ethnography for a Data-Saturated World. Manchester University Press, Manchester, pp. 33–61.\n",
            "\t- (Kitchin 2021a) Kitchin, R. (2021a) Data Lives: How Data Are Made and Shape Our World. Bristol University Press, Bristol.\n",
            "\t- (Kitchin et al. 2016) Kitchin, R., Maalsen, S. and McArdle, G. (2016) ‘The praxis and politics of building urban dashboards’, Geoforum, 77: 93–101.\n",
            "\t- (Lehtiniemi and Ruckenstein 2019) Lehtiniemi, T. and Ruckenstein, M. (2019) ‘The social imaginaries of data activism’, Big Data & Society, (1): 1–12.\n",
            "\t- (Lowrie 2017) Lowrie, I. (2017) ‘Algorithmic rationality: Epistemology and efficiency in the data sciences’, Big Data & Society, 5(1): 1–13.\n",
            "\t- (Meng and DiSalvo 2018) Meng, A. and DiSalvo, C. (2018) ‘Grassroots resource mobilization through counter-data action’, Big Data & Society, 5(2): 1–12.\n",
            "\t- (Pink and Fors 2017) Pink, S. and Fors, V. (2017) ‘Being in a mediated world: Self-tracking and the mind-body-environment’, Cultural Geographies, 24(3): 375–388.\n",
            "\t- (Pink et al. 2018b) Pink, S., Ruckenstein, M., Willim, R. and Duque, M. (2018b) ‘Broken data: Conceptualising data in an emerging world’, Big Data & Society, 5(2): 1–13.\n",
            "\t- (Tanweer et al. 2016) Tanweer, A., Fiore-Gartland, B. and Aragon, C. (2016) ‘Impediment to insight to innovation: Understanding data assemblages through the breakdown repair process’, Information, Communication & Society, 19(6): 736–752.\n",
            "- **Interview, Focus Group And Workshop Method**\n",
            "\t- (Baack 2015) Baack, S. (2015) ‘Datafication and empowerment: How the open data movement re-articulates notions of democracy, participation, and journalism’, Big Data & Society, 2(2): 1–11.\n",
            "\t- (Bates 2018) Bates, J. (2018) ‘The politics of data friction’, Journal of Documentation, 74: 412–429.\n",
            "\t- (Bates et al. 2016) Bates, J., Lin, Y.-W. and Goodale, P. (2016) ‘Data journeys: Capturing the socio-material constitution of data objects and flows’, Big Data & Society, 4(2): 1–12.\n",
            "\t- (Brayne 2017) Brayne, S. (2017) ‘Big data surveillance: The case of policing’, American Sociological Review, 82(5): 977–1008.\n",
            "\t- (Chenou and Cepeda-Másmela 2019) Chenou, J.-M. and Cepeda-Másmela, C. (2019) ‘#NiUnaMenos: Data Activism from the Global South’, Television & New Media, 20(4): 396–411.\n",
            "\t- (Cinnamon 2019) Cinnamon, J. (2019) ‘Visual data justice? Datafication of urban informality in South Africa using 360° imaging technologies’, Development Informatics Working Paper Series 75. www.gdi.manchester.ac.uk/research/publications/di/di-wp75/ (accessed 1 December 2020).\n",
            "\t- (Delaney 2019) Delaney, A. (2019) ‘Humanising policy from “Warriors to Guardians”: An evaluation of coordinated management and emergency response assemblages in Ireland and the US’, Doctoral thesis, National University of Ireland.\n",
            "\t- (Delaney and Kitchin 2020) Delaney, A. and Kitchin, R. (2020, online first) ‘Progress and prospects for data-driven coordinated management and emergency response: The case of Ireland’, Territory, Politics, Governance. DOI: 10.1080/21622671.2020.1805355.\n",
            "\t- (Gray 2019) Gray, J. (2019) ‘Data witnessing: Attending to injustice with data in Amnesty International’s Decoders project’, Information, Communication & Society, 22(7): 971–991.\n",
            "\t- (Kitchin and Moore-Cherry 2020) Kitchin, R. and Moore-Cherry, N. (2020, online first) ‘Fragmented governance, the urban data ecosystem and smart cities: The case of Metropolitan Boston’, Regional Studies. DOI: 10.1080/00343404.2020.1735627.\n",
            "\t- (Meng and DiSalvo 2018) Meng, A. and DiSalvo, C. (2018) ‘Grassroots resource mobilization through counter-data action’, Big Data & Society, 5(2): 1–12.\n",
            "\t- (Ruijer et al. 2017) Ruijer, E., Grimmelikhuijsen, S. and Meijer, A. (2017) ‘Open data for democracy: Developing a theoretical framework for open data use’, Government Information Quarterly, 34(1): 45–52.\n",
            "\t- (Thatcher 2014) Thatcher, J. (2014) ‘Living on fumes: Digital footprints, data fumes, and the limitations of spatial big data’, International Journal of Communication, 8: 1765–1783.\n",
            "- **Data Archaeology Method**\n",
            "\t- (Bates 2018) Bates, J. (2018) ‘The politics of data friction’, Journal of Documentation, 74: 412–429.\n",
            "\t- (Bates et al. 2016) Bates, J., Lin, Y.-W. and Goodale, P. (2016) ‘Data journeys: Capturing the socio-material constitution of data objects and flows’, Big Data & Society, 4(2): 1–12.\n",
            "\t- (Currie et al. 2016) Currie, M., Paris, B.S., Pasquetto, I. and Pierre, J. (2016) ‘The conundrum of police officer-involved homicides: Counter-data in Los Angeles County’, Big Data & Society, 3(2): 1–14.\n",
            "\t- (Dodge and Kitchin 2000) Dodge, M. and Kitchin, R. (2000) Mapping Cyberspace. Routledge, London.\n",
            "\t- (Dodge and Kitchin 2005) Dodge, M. and Kitchin, R. (2005) ‘Codes of life: Identification codes and the machine-readable world’, Environment and Planning D: Society and Space, 23(6): 851–881.\n",
            "\t- (Dumit and Nafus 2018) Dumit, J. and Nafus, D. (2018) ‘The other ninety per cent: Thinking with data science, creating data studies,’ in Knox, H. and Nafus, D. (eds), Ethnography for a Data-Saturated World. Manchester University Press, Manchester, pp. 252–274.\n",
            "\t- (Iliadis 2019) Iliadis, A. (2019) ‘The Tower of Babel problem: Making data make sense with Basic Formal Ontology’, Online Information Review, 43(6): 1021–1045.\n",
            "\t- (Kitchin and McArdle 2016) Kitchin, R. and McArdle, G. (2016) ‘What makes big data, big data? Exploring the ontological characteristics of 26 datasets’, Big Data & Society, 3(1): 1–10.\n",
            "\t- (Kitchin and Stehle 2021) Kitchin, R. and Stehle, S. (2021) ‘Can smart city data be used to create new official statistics?’, Journal of Official Statistics, 37(1): 1–29.\n",
            "\t- (Kitchin et al. 2016) Kitchin, R., Maalsen, S. and McArdle, G. (2016) ‘The praxis and politics of building urban dashboards’, Geoforum, 77: 93–101.\n",
            "\t- (Leszczynski 2017) Leszczynski, A. (2017) ‘Geoprivacy’, in Kitchin, R., Lauriault, T. and Wilson, M. (eds), Understanding Spatial Media. Sage, London, pp. 239–248.\n",
            "\t- (Light et al. 2016) Light, B., Burgess, J. and Duguay, S. (2016) ‘The walkthrough method: An approach to the study of apps’, New Media & Society 20(3): 881–900.\n",
            "\t- (Loukissas 2018) Loukissas, Y. (2018) ‘All the homes: Zillow and the operational context of data’, in Chowdhury, G. et al. (eds), iConference 2018, LNCS 10766, Springer, Cham, pp. 272–281.\n",
            "\t- (Meng and DiSalvo 2018) Meng, A. and DiSalvo, C. (2018) ‘Grassroots resource mobilization through counter-data action’, Big Data & Society, 5(2): 1–12.\n",
            "\t- (Tanweer et al. 2016) Tanweer, A., Fiore-Gartland, B. and Aragon, C. (2016) ‘Impediment to insight to innovation: Understanding data assemblages through the breakdown repair process’, Information, Communication & Society, 19(6): 736–752.\n",
            "- **Historical Analysis And Genealogy Method**\n",
            "\t- (Barnes and Wilson 2014) Barnes, T.J. and Wilson, M.W. (2014) ‘Big Data, social physics, and spatial analysis: The early years’, Big Data & Society, 1(1): 1–14.\n",
            "\t- (Bates et al. 2016) Bates, J., Lin, Y.-W. and Goodale, P. (2016) ‘Data journeys: Capturing the socio-material constitution of data objects and flows’, Big Data & Society, 4(2): 1–12.\n",
            "\t- (Browne 2015) Browne, S. (2015) Dark Matters: On the Surveillance of Blackness. Duke University Press, Durham, NC.\n",
            "\t- (Crowley 2009) Crowley, U. (2009) ‘Genealogy method’, in Kitchin, R. and Thrift, N. (eds), International Encyclopedia of Human Geography, vol. 4. Elsevier, Oxford, pp. 341–344.\n",
            "\t- (Davies et al. 2019b) Davies, T., Walker, S., Rubinstein, M. and Perini, F. (eds) (2019b) The State of Open Data: Histories and Horizons. African Minds and International Development Research Centre Cape Town and Ottawa.\n",
            "\t- (Desrosières 1998) Desrosières, A. (1998) The Politics of Large Numbers: A History of Statistical Reasoning. Harvard University Press, Cambridge, MA.\n",
            "\t- (Foucault 1977) Foucault, M. (1977) Discipline and Punish. Allen Lane, London.\n",
            "\t- (Hannah 2011) Hannah, M. (2011) Dark Territory in the Information Age. Ashgate, Farnham.\n",
            "\t- (Karabell 2014) Karabell, Z. (2014) The Leading Indicators: A Short History of the Numbers That Rule Our World. Simon & Schuster, New York.\n",
            "\t- (Koopman 2019) Koopman, C. (2019) How We Became Our Data: A Genealogy of the Informational Person. University of Chicago Press, Chicago.\n",
            "\t- (Lauriault 2012) Lauriault, T.P. (2012) ‘Data, infrastructures and geographical imaginations: Mapping data access discourses in Canada’, PhD Thesis, Carleton University, Ottawa.\n",
            "\t- (Lauriault 2017) Lauriault, T. (2017) ‘Open spatial data’, in Kitchin, R., Lauriault, T. and Wilson, M. (eds), Understanding Spatial Media. Sage, London, pp. 95–109.\n",
            "\t- (Phillips 2019) Phillips, C.J. (2019) Scouting and Scoring: How We Know What We Know About Baseball. Princeton University Press, Princeton, NJ.\n",
            "\t- (Poovey 1998) Poovey, M. (1998) A History of the Modern Fact: Problems of Knowledge in the Sciences of Wealth and Society. University Chicago Press, Chicago.\n",
            "\t- (Porter 1995) Porter, T.M. (1995) Trust in Numbers: The Pursuit of Objectivity in Science and Public Life. Princeton University Press, Princeton, NJ.\n",
            "\t- (Wernimont 2018) Wernimont, J. (2018) Numbered Lives: Life and Death in Quantum Media. MIT Press, Cambridge, MA.\n",
            "\t- (Wyly 2019) Wyly, E. (2019) Geography’s Quantitative Revolutions: Edward A. Ackerman and the Cold War Origins of Big Data. West Virginia University Press, Morgantown.\n",
            "- **Participatory And Action Research Method**\n",
            "\t- (Ampatzidou et al. 2015) Ampatzidou, C., Bouw, M., van de Klundert, F., de Lange, M. and de Waal, M. (2015) The Hackable City: A Research Manifesto and Design Toolkit. Amsterdam Creative Industries Publishing, Amsterdam.\n",
            "\t- (Currie et al. 2016) Currie, M., Paris, B.S., Pasquetto, I. and Pierre, J. (2016) ‘The conundrum of police officer-involved homicides: Counter-data in Los Angeles County’, Big Data & Society, 3(2): 1–14.\n",
            "\t- (Gabrys et al. 2016) Gabrys, J., Pritchard, H. and Barratt, B. (2016) ‘Just good enough data: Figuring data citizenships through air pollution sensing and data stories’, Big Data & Society, 3(2): 1–14.\n",
            "\t- (Irani 2015) Irani, L. (2015) ‘Hackathons and the making of entrepreneurial citizenship’, Science, Technology and Human Values, 40(5): 799–824.\n",
            "\t- (Kennedy et al. 2015b) Kennedy, H., Poell, T. and van Dijck, J. (2015b) ‘Data and agency’, Big Data & Society, 2(2): 1–7.\n",
            "\t- (Meng and DiSalvo 2018) Meng, A. and DiSalvo, C. (2018) ‘Grassroots resource mobilization through counter-data action’, Big Data & Society, 5(2): 1–12.\n",
            "\t- (Perng et al. 2018) Perng, S.-Y., Kitchin, R. and MacDonncha, D. (2018) ‘Hackathons, entrepreneurial life and the making of smart cities’, Geoforum, 97: 189–197.\n",
            "\t- (Petty et al. 2016) Petty, T., Saba, M., Lewis, T., Gangadharan, S.P. and Eubanks, V. (2016) Our Data Bodies: Reclaiming Our Data. Our Data Bodies Project, www.odbproject.org/wp-content/uploads/2016/12/ODB.InterimReport.FINAL_.7.16.2018.pdf (accessed 2 December 2020).\n",
            "\t- (Urban Praxis 2017) Urban Praxis (2017) ‘O’Hair Park Campaign’, https://urbanpraxis.org/research/ (accessed 2 December 2020).\n",
            "- **Data Walk Method**\n",
            "\t- (Dawkins and Young 2020) Dawkins, O. and Young, G. W. (2020) ‘Engaging place with mixed realities: Sharing multisensory experiences of place through community-generated digital content and multimodal interaction’, in Chen, J. and Fragomeni, G. (eds), Virtual, Augmented and Mixed Reality: Industrial and Everyday Life Applications, HCII 2020. Lecture Notes in Computer Science, vol. 12191. Springer, Cham, pp. 199–218.\n",
            "\t- (Hunter 2018) Hunter, D. (2018) ‘Datawalking project’, http://datawalking.com/ (accessed 1 December 2020).\n",
            "\t- (Jarke 2019) Jarke, J. (2019) ‘Open government for all? Co-creating digital public services for older adults through data walks’, Online Information Review, 43(6): 1003–1020.\n",
            "\t- (Powell 2018) Powell, A. (2018) ‘The data walkshop and radical bottom-up data knowledge’, in Knox, H. and Nafus, D. (eds), Ethnography for a Data-Saturated World. Manchester University Press, Manchester, pp. 212–232.\n",
            "\t- (Thatcher and Dalton 2017) Thatcher, J. and Dalton, C.M. (2017) ‘Data derives: Confronting digital geographic information as spectacle’, in Briziarelli, M. and Armano, E. (eds), The Spectacle 2.0: Reading Debord in the Context of Digital Capitalism. University of Westminster Press, London, pp. 135–150.\n",
            "\t- (van Zoonen et al. 2017) van Zoonen, L., Hirzalla, F., Engelbert, J., Zuijderwijk, L. and Schokker, L. (2017) “‘Seeing more than you think”: A “data walk” in the smart city’, 26 May, Bang the Table, www.bangthetable.com/blog/data-walk-in-smart-city/ (accessed 2 December 2020).\n",
            "- **Discursive Analysis Method**\n",
            "\t- (Andrejevic 2007) Andrejevic, M. (2007) iSpy: Surveillance and Power in the Interactive Era. University of Kansas Press, Lawrence, KS.\n",
            "\t- (Bates 2018) Bates, J. (2018) ‘The politics of data friction’, Journal of Documentation, 74: 412–429.\n",
            "\t- (Bates et al. 2016) Bates, J., Lin, Y.-W. and Goodale, P. (2016) ‘Data journeys: Capturing the socio-material constitution of data objects and flows’, Big Data & Society, 4(2): 1–12.\n",
            "\t- (Bradshaw 2018) Bradshaw, R. (2018) ‘Instrumentalization in the public smart bikeshare sector’, PhD thesis, National University of Ireland Maynooth.\n",
            "\t- (Brayne 2017) Brayne, S. (2017) ‘Big data surveillance: The case of policing’, American Sociological Review, 82(5): 977–1008.\n",
            "\t- (Cardullo and Kitchin 2019b) Cardullo, P. and Kitchin, R. (2019b) ‘Smart urbanism and smart citizenship: The neoliberal logic of “citizen-focused” smart cities in Europe’, Environment and Planning C: Politics and Space, 37(5): 813–830.\n",
            "\t- (Chenou and Cepeda-Másmela 2019) Chenou, J.-M. and Cepeda-Másmela, C. (2019) ‘#NiUnaMenos: Data Activism from the Global South’, Television & New Media, 20(4): 396–411.\n",
            "\t- (Currie et al. 2016) Currie, M., Paris, B.S., Pasquetto, I. and Pierre, J. (2016) ‘The conundrum of police officer-involved homicides: Counter-data in Los Angeles County’, Big Data & Society, 3(2): 1–14.\n",
            "\t- (Delaney and Kitchin 2020) Delaney, A. and Kitchin, R. (2020, online first) ‘Progress and prospects for data-driven coordinated management and emergency response: The case of Ireland’, Territory, Politics, Governance. DOI: 10.1080/21622671.2020.1805355.\n",
            "\t- (Kitchin and Moore-Cherry 2020) Kitchin, R. and Moore-Cherry, N. (2020, online first) ‘Fragmented governance, the urban data ecosystem and smart cities: The case of Metropolitan Boston’, Regional Studies. DOI: 10.1080/00343404.2020.1735627.\n",
            "\t- (Koopman 2019) Koopman, C. (2019) How We Became Our Data: A Genealogy of the Informational Person. University of Chicago Press, Chicago.\n",
            "\t- (Loukissas 2018) Loukissas, Y. (2018) ‘All the homes: Zillow and the operational context of data’, in Chowdhury, G. et al. (eds), iConference 2018, LNCS 10766, Springer, Cham, pp. 272–281.\n",
            "\t- (Meng and DiSalvo 2018) Meng, A. and DiSalvo, C. (2018) ‘Grassroots resource mobilization through counter-data action’, Big Data & Society, 5(2): 1–12.\n",
            "\t- (Solove 2011) Solove, D.J. (2011) Nothing to Hide: The False Tradeoff Between Privacy and Security. Yale University Press, New Haven, CT.\n",
            "\t- (Wernimont 2018) Wernimont, J. (2018) Numbered Lives: Life and Death in Quantum Media. MIT Press, Cambridge, MA.\n",
            "- **Research-Creation And Creative Practice Method**\n",
            "\t- (Desjardins and Tihanyi 2019) Desjardins, A. and Tihanyi, T. (2019) ‘ListeningCups: A case of data tactility and data stories’, in Hamilton, S. and Bardzell, S. (eds), Proceedings of the 2019 on Designing Interactive Systems Conference. ACM, New York, pp. 147–160.\n",
            "\t- (Foley 2020) Foley, J. (2020) ‘0_engineering fictions’, https://engineeringfictions.wordpress.com/about/0_home/ (accessed 1 December 2020).\n",
            "\t- (Fotopoulou and Beavon 2020) Fotopoulou, A. and Beavon, C. (2020) ‘104 days later: A lockdown data story’, Art/Data/Health project, Brighton, www.artdatahealth.org/104-days-later-a-lockdown-data-story/ (accessed 19 June 2021).\n",
            "\t- (Graham et al. 2019) Graham, M., Kitchin, R., Mattern, S. and Shaw, J. (eds) (2019) How to Run a City Like Amazon, and Other Fables. Meatspace Press, Oxford.\n",
            "\t- (Jansen et al. 2015) Jansen, Y., Dragicevic, P., Isenberg, P., Alexander, J., Karnik, A., Kildal, J., Subramanian, S. and Hornbaek, K. (2015) ‘Opportunities and challenges for data physicalization’, Proceedings of the ACM Conference on Human Factors in Computing Systems (CHI). ACM, New York.\n",
            "\t- (Khot et al. 2015) Khot, R.A., Lee, J., Hjorth, L. and Mueller, F. (2015) ‘TastyBeats: Celebrating heart rate data with a drinkable spectacle’, in Proceedings of the Ninth International Conference on Tangible, Embedded, and Embodied Interaction. ACM, New York, pp. 229–232.\n",
            "\t- (Kitchin 2021a) Kitchin, R. (2021a) Data Lives: How Data Are Made and Shape Our World. Bristol University Press, Bristol.\n",
            "\t- (Lee 2019) Lee, C.S. (2019) ‘Datafication, dataveillance, and the social credit system as China’s new normal’, Online Information Review, 43(6): 952–970.\n",
            "\t- (Lee et al. 2016b) Lee, M.H., Son, O. and Nam, T.J. (2016b) ‘Patina-inspired personalization: Personalizing products with traces of daily use’, in Proceedings of the 2016 ACM Conference on Designing Interactive Systems. ACM, Brisbane, pp. 251–263.\n",
            "\t- (Lupton 2017) Lupton, D. (2017) ‘Feeling your data: Touch and making sense of personal digital data’, New Media and Society, 19(10): 1599–1614.\n",
            "\t- (Lupton and Watson 2020) Lupton, D. and Watson, A. (2020, online first) ‘Towards more-than-human digital data studies: Developing research-creation methods’, Qualitative Research. DOI: 10.1177/1468794120939235.\n",
            "\t- (Markham and Pereira 2019a) Markham, A. and Pereira, G. (2019a) ‘Experimenting with algorithmic memory-making: Lived experience and future-oriented ethics in critical data science’, Frontiers in Big Data 2. www.frontiersin.org/articles/10.3389/fdata.2019.00035/full (accessed 1 December 2020).\n",
            "\t- (Markham and Pereira 2019b) Markham, A. and Pereira, G. (2019b) ‘Analyzing public interventions through the lens of experimentalism: The case of the Museum of Random Memory’, Digital Creativity, 30(4): 235–256.\n",
            "\t- (Offenhuber 2020) Offenhuber, D. (2020) ‘What we talk about when we talk about data physicality’, IEEE Computer Graphics and Applications, 40(6): 25–37.\n",
            "\t- (Petrelli et al. 2017) Petrelli, D., Marshall, M.T., O’Brien, S., McEntaggart, P. and Gwilt, I. (2017) ‘Tangible data souvenirs as a bridge between a physical museum visit and online digital experience’, Personal and Ubiquitous Computing, 21(2): 281–295.\n",
            "\t- (Stark 2014) Stark, L. (2014) ‘Come on feel the data (and smell it)’, The Atlantic, 19 May, www.theatlantic.com/technology/archive/2014/05/data-visceralization/370899/ (accessed 2 December 2020).\n",
            "\t- (Thudt et al. 2017) Thudt, A., Hinrichs, U. and Carpendale, S. (2017) ‘Data craft: Integrating data into daily practices and shared reflections’, Paper presented at CHI 2017 Workshop on Quantified Data & Social Relationships, Denver, CO, https://research-repository.st-andrews.ac.uk/handle/10023/10910 (accessed 2 December 2020).\n",
            "\t- (Truman 2017) Truman, S.E. (2017) ‘Speculative methodologies & emergent literacies: Walking & writing as research-creation’, Unpublished PhD thesis, University of Toronto.\n",
            "\t- (Truman and Springgay 2015) Truman, S.E. and Springgay, S. (2015) ‘The primacy of movement in research-creation: New materialist approaches to art research and pedagogy’, in Lewis, T. and Laverty, M. (eds), Art’s Teachings, Teaching’s Art: Philosophical, Critical and Educational Musings. Springer Netherlands, Dordrecht, pp. 151–162.\n",
            "\t- (Weinberg n.d.) Weinberg, T. (n.d.) ‘About the woven climate datascapes’, www.taliweinberg.com/datascapes (accessed 2 December 2020).\n",
            "- **Critical Data Science Method**\n",
            "\t- (Crampton et al. 2013) Crampton, J., Graham, M., Poorthuis, A., Shelton, T., Stephens, M., Wilson, M.W. and Zook, M. (2013) ‘Beyond the geotag: Situating “big data” and leveraging the potential of the geoweb’, Cartography and Geographic Information Science, 40(2): 130–139.\n",
            "\t- (Dunn 2007) Dunn, C.E. (2007) ‘Participatory GIS – A people’s GIS?’, Progress in Human Geography, 31(5): 616–637.\n",
            "\t- (D’Ignazio and Klein 2020) D’Ignazio, C. and Klein, L.F. (2020) Data Feminism. MIT Press, Cambridge, MA.\n",
            "\t- (Graham et al. 2014) Graham, M., Hogan, B., Straumann, R.K. and Medhat, A. (2014) ‘Uneven geographies of user-generated information: Patterns of increasing informational poverty’, Annals of the Association of American Geographers, 104(4): 746–764.\n",
            "\t- (Graham et al. 2015) Graham, M., De Sabbata, S. and Zook, M. (2015) ‘Towards a study of information geographies: (Im)mutable augmentations and a mapping of the geographies of information’, Geo: Geography and environment, 2(1): 88–105.\n",
            "\t- (Pickles 1995) Pickles, J. (ed) (1995) Ground Truth: The Social Implications of Geographic Information Systems. Guilford, New York.\n",
            "\t- (Robinson and Franklin 2020) Robinson, C. and Franklin, R.S. (2020) ‘The sensor desert quandary: What does it mean (not) to count in the smart city?’ Transactions of the Institute of British Geographers, online first: 1–17. DOI: 10.1111/tran.12415.\n",
            "\t- (Schuurman and Pratt 2002) Schuurman, N. and Pratt, G. (2002) ‘Care of the subject: Feminism and critiques of GIS’, Gender, Place & Culture, 9(3): 291–299.\n",
            "\t- (Williams 2020) Williams, S. (2020) Data Action: Using Data for Public Good. MIT Press, Cambridge, MA.\n"
          ]
        }
      ]
    },
    {
      "cell_type": "code",
      "metadata": {
        "id": "jRNcEWOYc9D-",
        "outputId": "ac69b44b-01f2-4639-818c-d44f7fc0a7d9",
        "colab": {
          "base_uri": "https://localhost:8080/",
          "height": 332
        }
      },
      "source": [
        "df.query(f'relt == \"instantiates\" and eleb ==\\\"{method}\\\"')"
      ],
      "id": "jRNcEWOYc9D-",
      "execution_count": 24,
      "outputs": [
        {
          "output_type": "execute_result",
          "data": {
            "text/html": [
              "<div>\n",
              "<style scoped>\n",
              "    .dataframe tbody tr th:only-of-type {\n",
              "        vertical-align: middle;\n",
              "    }\n",
              "\n",
              "    .dataframe tbody tr th {\n",
              "        vertical-align: top;\n",
              "    }\n",
              "\n",
              "    .dataframe thead th {\n",
              "        text-align: right;\n",
              "    }\n",
              "</style>\n",
              "<table border=\"1\" class=\"dataframe\">\n",
              "  <thead>\n",
              "    <tr style=\"text-align: right;\">\n",
              "      <th></th>\n",
              "      <th>elea</th>\n",
              "      <th>relt</th>\n",
              "      <th>eleb</th>\n",
              "      <th>term</th>\n",
              "      <th>title</th>\n",
              "    </tr>\n",
              "  </thead>\n",
              "  <tbody>\n",
              "    <tr>\n",
              "      <th>123</th>\n",
              "      <td>Pickles 1995</td>\n",
              "      <td>instantiates</td>\n",
              "      <td>critical data science method</td>\n",
              "      <td>Pickles 1995</td>\n",
              "      <td>Pickles, J. (ed) (1995) Ground Truth: The Soci...</td>\n",
              "    </tr>\n",
              "    <tr>\n",
              "      <th>124</th>\n",
              "      <td>Schuurman and Pratt 2002</td>\n",
              "      <td>instantiates</td>\n",
              "      <td>critical data science method</td>\n",
              "      <td>Schuurman and Pratt 2002</td>\n",
              "      <td>Schuurman, N. and Pratt, G. (2002) ‘Care of th...</td>\n",
              "    </tr>\n",
              "    <tr>\n",
              "      <th>125</th>\n",
              "      <td>Dunn 2007</td>\n",
              "      <td>instantiates</td>\n",
              "      <td>critical data science method</td>\n",
              "      <td>Dunn 2007</td>\n",
              "      <td>Dunn, C.E. (2007) ‘Participatory GIS – A peopl...</td>\n",
              "    </tr>\n",
              "    <tr>\n",
              "      <th>126</th>\n",
              "      <td>Crampton et al. 2013</td>\n",
              "      <td>instantiates</td>\n",
              "      <td>critical data science method</td>\n",
              "      <td>Crampton et al. 2013</td>\n",
              "      <td>Crampton, J., Graham, M., Poorthuis, A., Shelt...</td>\n",
              "    </tr>\n",
              "    <tr>\n",
              "      <th>127</th>\n",
              "      <td>Williams 2020</td>\n",
              "      <td>instantiates</td>\n",
              "      <td>critical data science method</td>\n",
              "      <td>Williams 2020</td>\n",
              "      <td>Williams, S. (2020) Data Action: Using Data fo...</td>\n",
              "    </tr>\n",
              "    <tr>\n",
              "      <th>128</th>\n",
              "      <td>D’Ignazio and Klein 2020</td>\n",
              "      <td>instantiates</td>\n",
              "      <td>critical data science method</td>\n",
              "      <td>D’Ignazio and Klein 2020</td>\n",
              "      <td>D’Ignazio, C. and Klein, L.F. (2020) Data Femi...</td>\n",
              "    </tr>\n",
              "    <tr>\n",
              "      <th>129</th>\n",
              "      <td>Graham et al. 2014</td>\n",
              "      <td>instantiates</td>\n",
              "      <td>critical data science method</td>\n",
              "      <td>Graham et al. 2014</td>\n",
              "      <td>Graham, M., Hogan, B., Straumann, R.K. and Med...</td>\n",
              "    </tr>\n",
              "    <tr>\n",
              "      <th>130</th>\n",
              "      <td>Graham et al. 2015</td>\n",
              "      <td>instantiates</td>\n",
              "      <td>critical data science method</td>\n",
              "      <td>Graham et al. 2015</td>\n",
              "      <td>Graham, M., De Sabbata, S. and Zook, M. (2015)...</td>\n",
              "    </tr>\n",
              "    <tr>\n",
              "      <th>131</th>\n",
              "      <td>Robinson and Franklin 2020</td>\n",
              "      <td>instantiates</td>\n",
              "      <td>critical data science method</td>\n",
              "      <td>Robinson and Franklin 2020</td>\n",
              "      <td>Robinson, C. and Franklin, R.S. (2020) ‘The se...</td>\n",
              "    </tr>\n",
              "  </tbody>\n",
              "</table>\n",
              "</div>"
            ],
            "text/plain": [
              "                           elea  ...                                              title\n",
              "123                Pickles 1995  ...  Pickles, J. (ed) (1995) Ground Truth: The Soci...\n",
              "124    Schuurman and Pratt 2002  ...  Schuurman, N. and Pratt, G. (2002) ‘Care of th...\n",
              "125                   Dunn 2007  ...  Dunn, C.E. (2007) ‘Participatory GIS – A peopl...\n",
              "126        Crampton et al. 2013  ...  Crampton, J., Graham, M., Poorthuis, A., Shelt...\n",
              "127               Williams 2020  ...  Williams, S. (2020) Data Action: Using Data fo...\n",
              "128    D’Ignazio and Klein 2020  ...  D’Ignazio, C. and Klein, L.F. (2020) Data Femi...\n",
              "129          Graham et al. 2014  ...  Graham, M., Hogan, B., Straumann, R.K. and Med...\n",
              "130          Graham et al. 2015  ...  Graham, M., De Sabbata, S. and Zook, M. (2015)...\n",
              "131  Robinson and Franklin 2020  ...  Robinson, C. and Franklin, R.S. (2020) ‘The se...\n",
              "\n",
              "[9 rows x 5 columns]"
            ]
          },
          "metadata": {},
          "execution_count": 24
        }
      ]
    },
    {
      "cell_type": "code",
      "metadata": {
        "id": "KOSHVKwzijLz"
      },
      "source": [
        ""
      ],
      "id": "KOSHVKwzijLz",
      "execution_count": null,
      "outputs": []
    }
  ]
}
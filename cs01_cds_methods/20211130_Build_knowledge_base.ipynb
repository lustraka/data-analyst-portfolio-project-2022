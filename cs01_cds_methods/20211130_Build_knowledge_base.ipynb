{
  "nbformat": 4,
  "nbformat_minor": 5,
  "metadata": {
    "kernelspec": {
      "display_name": "Python 3",
      "language": "python",
      "name": "python3"
    },
    "language_info": {
      "codemirror_mode": {
        "name": "ipython",
        "version": 3
      },
      "file_extension": ".py",
      "mimetype": "text/x-python",
      "name": "python",
      "nbconvert_exporter": "python",
      "pygments_lexer": "ipython3",
      "version": "3.7.11"
    },
    "colab": {
      "name": "20211130_Build_knowledge_base.ipynb",
      "provenance": [],
      "include_colab_link": true
    }
  },
  "cells": [
    {
      "cell_type": "markdown",
      "metadata": {
        "id": "view-in-github",
        "colab_type": "text"
      },
      "source": [
        "<a href=\"https://colab.research.google.com/github/lustraka/data-analyst-portfolio-project-2022/blob/main/cs01_cds_methods/20211130_Build_knowledge_base.ipynb\" target=\"_parent\"><img src=\"https://colab.research.google.com/assets/colab-badge.svg\" alt=\"Open In Colab\"/></a>"
      ]
    },
    {
      "cell_type": "markdown",
      "metadata": {
        "id": "c9avEUkHm7SQ"
      },
      "source": [
        "# Case Study: CDS Methods\n",
        "## Map CDS methods in Kitchen (2021b)"
      ],
      "id": "c9avEUkHm7SQ"
    },
    {
      "cell_type": "code",
      "metadata": {
        "id": "ICkqM_vtnP8Q"
      },
      "source": [
        "# Import dependencies\n",
        "import requests\n",
        "import pandas as pd\n",
        "import numpy as np\n",
        "import re\n",
        "from datetime import date\n",
        "import json\n",
        "import os\n",
        "import ast"
      ],
      "id": "ICkqM_vtnP8Q",
      "execution_count": 1,
      "outputs": []
    },
    {
      "cell_type": "code",
      "metadata": {
        "id": "0mYO_z3mnSKw"
      },
      "source": [
        "# Import the knowledge base\n",
        "kb_path = 'https://raw.githubusercontent.com/lustraka/data-analyst-portfolio-project-2022/main/data/'\n",
        "kb_files = ['tao_iim.py', 'elem.txt', 'rels.csv', 'relt.csv']\n",
        "for kb_file in kb_files:\n",
        "  r = requests.get(kb_path+kb_file)\n",
        "  with open(kb_file, 'wb') as file:\n",
        "    file.write(r.content)\n",
        "\n",
        "import tao_iim"
      ],
      "id": "0mYO_z3mnSKw",
      "execution_count": 2,
      "outputs": []
    },
    {
      "cell_type": "markdown",
      "metadata": {
        "id": "E-ypoMhVT7vb"
      },
      "source": [
        "## Update the Knowledge Base Programmatically"
      ],
      "id": "E-ypoMhVT7vb"
    },
    {
      "cell_type": "code",
      "metadata": {
        "colab": {
          "base_uri": "https://localhost:8080/"
        },
        "id": "XMEW8kEBrR0w",
        "outputId": "98dabb57-0408-4af0-e53d-0ed495475779"
      },
      "source": [
        "# Initialize & update dataframes\n",
        "elem_df, rels_df, relt_df = tao_iim.load_elem_rel()\n",
        "# Update here (applied updates below)"
      ],
      "id": "XMEW8kEBrR0w",
      "execution_count": 36,
      "outputs": [
        {
          "output_type": "stream",
          "name": "stdout",
          "text": [
            "Shapes of loaded files:  [(111, 3), (226, 3), (4, 2)]\n"
          ]
        }
      ]
    },
    {
      "cell_type": "markdown",
      "metadata": {
        "id": "Tcqm2R841vT1"
      },
      "source": [
        "**2021-11-30** Updates:\n",
        "```python\n",
        "with open('bbb', 'r') as file:\n",
        "  batches = ast.literal_eval(file.read())\n",
        "for batch in batches:\n",
        "  elem_df, rels_df, relt_df = tao_iim.add_batch(batch, elem_df, rels_df, relt_df)\n",
        "```\n",
        "where `bbb` stands for \n",
        "- `batches_20211129.txt` and \n",
        "- `batches_20211130.txt`.\n"
      ],
      "id": "Tcqm2R841vT1"
    },
    {
      "cell_type": "markdown",
      "metadata": {
        "id": "abIL9WbVH8Of"
      },
      "source": [
        "## Refactor concept names \n",
        "Refactor concept names in line with this concept model:\n",
        "\n",
        "![Ontology](https://www.plantuml.com/plantuml/png/FP2nJWCn38RtF8ML2Kxg6o3KjGDGiNIv9JcRdgMhKpcEKDyUNmWCrdy-V_fivLWjgRNR5fQa2F4aHYfay5wGPc6H2Ac2Pv1Y1ChNrGBx7oGn_c92o0y8IU1qXeIeL6iWGTZn8RrGXa-gfUdYpgPRTtgE-RdbZPTaN6IMU_uTUuxn6zbQS9Qd3xrUajBpB4M_E-GP0ej0VCclQwbMu-4GkSB-tK-BVOzNH-YM2pBzKQD5O8bzeHV4QLhOg4xJeBmRge4CrNqhZtzJxuPfl-f8WlwiFm00)"
      ],
      "id": "abIL9WbVH8Of"
    },
    {
      "cell_type": "code",
      "metadata": {
        "colab": {
          "base_uri": "https://localhost:8080/",
          "height": 238
        },
        "id": "-7fAfuGOIPmG",
        "outputId": "60b0e4b2-20b8-460c-ee71-440dbbadc2d2"
      },
      "source": [
        "# Create a new dataframe with terms\n",
        "renadf = elem_df[['term']].copy()\n",
        "\n",
        "# Add new column with the most frequent prefix\n",
        "renadf['new_term'] = renadf.term.apply(lambda t: 'pbl '+t)\n",
        "\n",
        "# Set `term` as index for future transformation to dict\n",
        "renadf.set_index('term', inplace=True)\n",
        "renadf.tail()"
      ],
      "id": "-7fAfuGOIPmG",
      "execution_count": 11,
      "outputs": [
        {
          "output_type": "execute_result",
          "data": {
            "text/html": [
              "<div>\n",
              "<style scoped>\n",
              "    .dataframe tbody tr th:only-of-type {\n",
              "        vertical-align: middle;\n",
              "    }\n",
              "\n",
              "    .dataframe tbody tr th {\n",
              "        vertical-align: top;\n",
              "    }\n",
              "\n",
              "    .dataframe thead th {\n",
              "        text-align: right;\n",
              "    }\n",
              "</style>\n",
              "<table border=\"1\" class=\"dataframe\">\n",
              "  <thead>\n",
              "    <tr style=\"text-align: right;\">\n",
              "      <th></th>\n",
              "      <th>new_term</th>\n",
              "    </tr>\n",
              "    <tr>\n",
              "      <th>term</th>\n",
              "      <th></th>\n",
              "    </tr>\n",
              "  </thead>\n",
              "  <tbody>\n",
              "    <tr>\n",
              "      <th>historical analysis and genealogy method</th>\n",
              "      <td>pbl historical analysis and genealogy method</td>\n",
              "    </tr>\n",
              "    <tr>\n",
              "      <th>interview, focus group and workshop method</th>\n",
              "      <td>pbl interview, focus group and workshop method</td>\n",
              "    </tr>\n",
              "    <tr>\n",
              "      <th>participatory and action research method</th>\n",
              "      <td>pbl participatory and action research method</td>\n",
              "    </tr>\n",
              "    <tr>\n",
              "      <th>research-creation and creative practice method</th>\n",
              "      <td>pbl research-creation and creative practice me...</td>\n",
              "    </tr>\n",
              "    <tr>\n",
              "      <th>van Zoonen et al. 2017</th>\n",
              "      <td>pbl van Zoonen et al. 2017</td>\n",
              "    </tr>\n",
              "  </tbody>\n",
              "</table>\n",
              "</div>"
            ],
            "text/plain": [
              "                                                                                         new_term\n",
              "term                                                                                             \n",
              "historical analysis and genealogy method             pbl historical analysis and genealogy method\n",
              "interview, focus group and workshop method         pbl interview, focus group and workshop method\n",
              "participatory and action research method             pbl participatory and action research method\n",
              "research-creation and creative practice method  pbl research-creation and creative practice me...\n",
              "van Zoonen et al. 2017                                                 pbl van Zoonen et al. 2017"
            ]
          },
          "metadata": {},
          "execution_count": 11
        }
      ]
    },
    {
      "cell_type": "code",
      "metadata": {
        "colab": {
          "base_uri": "https://localhost:8080/",
          "height": 35
        },
        "id": "cPOuQ14KIPsX",
        "outputId": "7fa48765-a645-4411-86ba-d6171f2d4e37"
      },
      "source": [
        "# Adjust a new name for a web resource (there is only one)\n",
        "inn_ele = elem_df.loc[elem_df.url.notna()].term.values[0]\n",
        "renadf.at[inn_ele, 'new_term'] = 'inn Fraser 2019a'\n",
        "renadf.at[inn_ele, 'new_term']"
      ],
      "id": "cPOuQ14KIPsX",
      "execution_count": 18,
      "outputs": [
        {
          "output_type": "execute_result",
          "data": {
            "application/vnd.google.colaboratory.intrinsic+json": {
              "type": "string"
            },
            "text/plain": [
              "'inn Fraser 2019a'"
            ]
          },
          "metadata": {},
          "execution_count": 18
        }
      ]
    },
    {
      "cell_type": "markdown",
      "metadata": {
        "id": "5ondsdLKezyS"
      },
      "source": [
        "**Ex-post Note**: Above should be `url Fraser 2019a`! Corrected directly in data ..."
      ],
      "id": "5ondsdLKezyS"
    },
    {
      "cell_type": "code",
      "metadata": {
        "colab": {
          "base_uri": "https://localhost:8080/"
        },
        "id": "ZQoTiHE3IPpP",
        "outputId": "1e707c65-f417-45bd-a522-2ccc9eae83d6"
      },
      "source": [
        "# Identify methods (they starts with a lowercase letter except the last element)\n",
        "methods = elem_df.loc[elem_df.term.apply(lambda t: t[0].islower())]['term'].to_list()[:-1]\n",
        "# Adjust prefixes for methods\n",
        "for method in methods:\n",
        "  print(method, end=' --> ')\n",
        "  renadf.at[method, 'new_term'] = 'orw ' + method\n",
        "  print(renadf.at[method, 'new_term'])"
      ],
      "id": "ZQoTiHE3IPpP",
      "execution_count": 29,
      "outputs": [
        {
          "output_type": "stream",
          "name": "stdout",
          "text": [
            "critical data science method --> orw critical data science method\n",
            "critical data study --> orw critical data study\n",
            "data (auto)ethnography method --> orw data (auto)ethnography method\n",
            "data archaeology method --> orw data archaeology method\n",
            "data walk method --> orw data walk method\n",
            "discursive analysis method --> orw discursive analysis method\n",
            "historical analysis and genealogy method --> orw historical analysis and genealogy method\n",
            "interview, focus group and workshop method --> orw interview, focus group and workshop method\n",
            "participatory and action research method --> orw participatory and action research method\n",
            "research-creation and creative practice method --> orw research-creation and creative practice method\n"
          ]
        }
      ]
    },
    {
      "cell_type": "code",
      "metadata": {
        "colab": {
          "base_uri": "https://localhost:8080/",
          "height": 457
        },
        "id": "mu2DVJjSLac1",
        "outputId": "95536f6a-245c-49ec-d6f2-bdc803085d16"
      },
      "source": [
        "# Check the values visually\n",
        "renadf.tail(12)"
      ],
      "id": "mu2DVJjSLac1",
      "execution_count": 30,
      "outputs": [
        {
          "output_type": "execute_result",
          "data": {
            "text/html": [
              "<div>\n",
              "<style scoped>\n",
              "    .dataframe tbody tr th:only-of-type {\n",
              "        vertical-align: middle;\n",
              "    }\n",
              "\n",
              "    .dataframe tbody tr th {\n",
              "        vertical-align: top;\n",
              "    }\n",
              "\n",
              "    .dataframe thead th {\n",
              "        text-align: right;\n",
              "    }\n",
              "</style>\n",
              "<table border=\"1\" class=\"dataframe\">\n",
              "  <thead>\n",
              "    <tr style=\"text-align: right;\">\n",
              "      <th></th>\n",
              "      <th>new_term</th>\n",
              "    </tr>\n",
              "    <tr>\n",
              "      <th>term</th>\n",
              "      <th></th>\n",
              "    </tr>\n",
              "  </thead>\n",
              "  <tbody>\n",
              "    <tr>\n",
              "      <th>Wyly 2019</th>\n",
              "      <td>pbl Wyly 2019</td>\n",
              "    </tr>\n",
              "    <tr>\n",
              "      <th>critical data science method</th>\n",
              "      <td>orw critical data science method</td>\n",
              "    </tr>\n",
              "    <tr>\n",
              "      <th>critical data study</th>\n",
              "      <td>orw critical data study</td>\n",
              "    </tr>\n",
              "    <tr>\n",
              "      <th>data (auto)ethnography method</th>\n",
              "      <td>orw data (auto)ethnography method</td>\n",
              "    </tr>\n",
              "    <tr>\n",
              "      <th>data archaeology method</th>\n",
              "      <td>orw data archaeology method</td>\n",
              "    </tr>\n",
              "    <tr>\n",
              "      <th>data walk method</th>\n",
              "      <td>orw data walk method</td>\n",
              "    </tr>\n",
              "    <tr>\n",
              "      <th>discursive analysis method</th>\n",
              "      <td>orw discursive analysis method</td>\n",
              "    </tr>\n",
              "    <tr>\n",
              "      <th>historical analysis and genealogy method</th>\n",
              "      <td>orw historical analysis and genealogy method</td>\n",
              "    </tr>\n",
              "    <tr>\n",
              "      <th>interview, focus group and workshop method</th>\n",
              "      <td>orw interview, focus group and workshop method</td>\n",
              "    </tr>\n",
              "    <tr>\n",
              "      <th>participatory and action research method</th>\n",
              "      <td>orw participatory and action research method</td>\n",
              "    </tr>\n",
              "    <tr>\n",
              "      <th>research-creation and creative practice method</th>\n",
              "      <td>orw research-creation and creative practice me...</td>\n",
              "    </tr>\n",
              "    <tr>\n",
              "      <th>van Zoonen et al. 2017</th>\n",
              "      <td>pbl van Zoonen et al. 2017</td>\n",
              "    </tr>\n",
              "  </tbody>\n",
              "</table>\n",
              "</div>"
            ],
            "text/plain": [
              "                                                                                         new_term\n",
              "term                                                                                             \n",
              "Wyly 2019                                                                           pbl Wyly 2019\n",
              "critical data science method                                     orw critical data science method\n",
              "critical data study                                                       orw critical data study\n",
              "data (auto)ethnography method                                   orw data (auto)ethnography method\n",
              "data archaeology method                                               orw data archaeology method\n",
              "data walk method                                                             orw data walk method\n",
              "discursive analysis method                                         orw discursive analysis method\n",
              "historical analysis and genealogy method             orw historical analysis and genealogy method\n",
              "interview, focus group and workshop method         orw interview, focus group and workshop method\n",
              "participatory and action research method             orw participatory and action research method\n",
              "research-creation and creative practice method  orw research-creation and creative practice me...\n",
              "van Zoonen et al. 2017                                                 pbl van Zoonen et al. 2017"
            ]
          },
          "metadata": {},
          "execution_count": 30
        }
      ]
    },
    {
      "cell_type": "code",
      "metadata": {
        "id": "rn1a9B-YLaZM"
      },
      "source": [
        "# Make a dict and rename terms\n",
        "renadict = renadf.to_dict()['new_term']\n",
        "elem_df.term = elem_df.term.apply(lambda t: renadict[t])\n",
        "rels_df.elea = rels_df.elea.apply(lambda t: renadict[t])\n",
        "rels_df.eleb = rels_df.eleb.apply(lambda t: renadict[t])"
      ],
      "id": "rn1a9B-YLaZM",
      "execution_count": 37,
      "outputs": []
    },
    {
      "cell_type": "code",
      "metadata": {
        "colab": {
          "base_uri": "https://localhost:8080/",
          "height": 206
        },
        "id": "qS-AiE4WLaGF",
        "outputId": "3123621b-ad39-40b8-a1f0-13dbda3956e3"
      },
      "source": [
        "# Check elements\n",
        "elem_df.head()"
      ],
      "id": "qS-AiE4WLaGF",
      "execution_count": 38,
      "outputs": [
        {
          "output_type": "execute_result",
          "data": {
            "text/html": [
              "<div>\n",
              "<style scoped>\n",
              "    .dataframe tbody tr th:only-of-type {\n",
              "        vertical-align: middle;\n",
              "    }\n",
              "\n",
              "    .dataframe tbody tr th {\n",
              "        vertical-align: top;\n",
              "    }\n",
              "\n",
              "    .dataframe thead th {\n",
              "        text-align: right;\n",
              "    }\n",
              "</style>\n",
              "<table border=\"1\" class=\"dataframe\">\n",
              "  <thead>\n",
              "    <tr style=\"text-align: right;\">\n",
              "      <th></th>\n",
              "      <th>term</th>\n",
              "      <th>title</th>\n",
              "      <th>url</th>\n",
              "    </tr>\n",
              "  </thead>\n",
              "  <tbody>\n",
              "    <tr>\n",
              "      <th>0</th>\n",
              "      <td>pbl Ampatzidou et al. 2015</td>\n",
              "      <td>Ampatzidou, C., Bouw, M., van de Klundert, F.,...</td>\n",
              "      <td>NaN</td>\n",
              "    </tr>\n",
              "    <tr>\n",
              "      <th>1</th>\n",
              "      <td>pbl Andrejevic 2007</td>\n",
              "      <td>Andrejevic, M. (2007) iSpy: Surveillance and P...</td>\n",
              "      <td>NaN</td>\n",
              "    </tr>\n",
              "    <tr>\n",
              "      <th>2</th>\n",
              "      <td>pbl Baack 2015</td>\n",
              "      <td>Baack, S. (2015) ‘Datafication and empowerment...</td>\n",
              "      <td>NaN</td>\n",
              "    </tr>\n",
              "    <tr>\n",
              "      <th>3</th>\n",
              "      <td>pbl Barnes and Wilson 2014</td>\n",
              "      <td>Barnes, T.J. and Wilson, M.W. (2014) ‘Big Data...</td>\n",
              "      <td>NaN</td>\n",
              "    </tr>\n",
              "    <tr>\n",
              "      <th>4</th>\n",
              "      <td>pbl Bates 2018</td>\n",
              "      <td>Bates, J. (2018) ‘The politics of data frictio...</td>\n",
              "      <td>NaN</td>\n",
              "    </tr>\n",
              "  </tbody>\n",
              "</table>\n",
              "</div>"
            ],
            "text/plain": [
              "                         term  ...  url\n",
              "0  pbl Ampatzidou et al. 2015  ...  NaN\n",
              "1         pbl Andrejevic 2007  ...  NaN\n",
              "2              pbl Baack 2015  ...  NaN\n",
              "3  pbl Barnes and Wilson 2014  ...  NaN\n",
              "4              pbl Bates 2018  ...  NaN\n",
              "\n",
              "[5 rows x 3 columns]"
            ]
          },
          "metadata": {},
          "execution_count": 38
        }
      ]
    },
    {
      "cell_type": "code",
      "metadata": {
        "colab": {
          "base_uri": "https://localhost:8080/",
          "height": 206
        },
        "id": "Jmmd0c1PS314",
        "outputId": "659bb765-0d35-4ef3-a657-3c515c591d98"
      },
      "source": [
        "# Check relationships\n",
        "rels_df.head()"
      ],
      "id": "Jmmd0c1PS314",
      "execution_count": 39,
      "outputs": [
        {
          "output_type": "execute_result",
          "data": {
            "text/html": [
              "<div>\n",
              "<style scoped>\n",
              "    .dataframe tbody tr th:only-of-type {\n",
              "        vertical-align: middle;\n",
              "    }\n",
              "\n",
              "    .dataframe tbody tr th {\n",
              "        vertical-align: top;\n",
              "    }\n",
              "\n",
              "    .dataframe thead th {\n",
              "        text-align: right;\n",
              "    }\n",
              "</style>\n",
              "<table border=\"1\" class=\"dataframe\">\n",
              "  <thead>\n",
              "    <tr style=\"text-align: right;\">\n",
              "      <th></th>\n",
              "      <th>elea</th>\n",
              "      <th>relt</th>\n",
              "      <th>eleb</th>\n",
              "    </tr>\n",
              "  </thead>\n",
              "  <tbody>\n",
              "    <tr>\n",
              "      <th>0</th>\n",
              "      <td>pbl Kitchin 2021b</td>\n",
              "      <td>cites</td>\n",
              "      <td>pbl Herbert 2000</td>\n",
              "    </tr>\n",
              "    <tr>\n",
              "      <th>1</th>\n",
              "      <td>pbl Kitchin 2021b</td>\n",
              "      <td>cites</td>\n",
              "      <td>pbl Crang and Cook 2007</td>\n",
              "    </tr>\n",
              "    <tr>\n",
              "      <th>2</th>\n",
              "      <td>pbl Kitchin 2021b</td>\n",
              "      <td>cites</td>\n",
              "      <td>pbl Knox and Nafus 2018:3</td>\n",
              "    </tr>\n",
              "    <tr>\n",
              "      <th>3</th>\n",
              "      <td>pbl Kitchin 2021b</td>\n",
              "      <td>cites</td>\n",
              "      <td>pbl Pink et al. 2018b</td>\n",
              "    </tr>\n",
              "    <tr>\n",
              "      <th>4</th>\n",
              "      <td>pbl Kitchin 2021b</td>\n",
              "      <td>cites</td>\n",
              "      <td>pbl Meng and DiSalvo 2018</td>\n",
              "    </tr>\n",
              "  </tbody>\n",
              "</table>\n",
              "</div>"
            ],
            "text/plain": [
              "                elea   relt                       eleb\n",
              "0  pbl Kitchin 2021b  cites           pbl Herbert 2000\n",
              "1  pbl Kitchin 2021b  cites    pbl Crang and Cook 2007\n",
              "2  pbl Kitchin 2021b  cites  pbl Knox and Nafus 2018:3\n",
              "3  pbl Kitchin 2021b  cites      pbl Pink et al. 2018b\n",
              "4  pbl Kitchin 2021b  cites  pbl Meng and DiSalvo 2018"
            ]
          },
          "metadata": {},
          "execution_count": 39
        }
      ]
    },
    {
      "cell_type": "code",
      "metadata": {
        "colab": {
          "base_uri": "https://localhost:8080/"
        },
        "id": "UvfLJjPwS3op",
        "outputId": "b9f7a412-689f-4161-87c2-9768a9fcd3bd"
      },
      "source": [
        "# Check relationship types\n",
        "rels_df.relt.value_counts()"
      ],
      "id": "UvfLJjPwS3op",
      "execution_count": 41,
      "outputs": [
        {
          "output_type": "execute_result",
          "data": {
            "text/plain": [
              "instantiates    117\n",
              "cites            99\n",
              "uses              9\n",
              "embodies          1\n",
              "Name: relt, dtype: int64"
            ]
          },
          "metadata": {},
          "execution_count": 41
        }
      ]
    },
    {
      "cell_type": "code",
      "metadata": {
        "colab": {
          "base_uri": "https://localhost:8080/"
        },
        "id": "upZ360eRS3d5",
        "outputId": "e8e909de-0912-4dbf-ce09-b9c735a2276a"
      },
      "source": [
        "renreldict = {'instantiates' : 'employs', 'uses' : 'employs', 'cites' : 'cites', 'embodies' : 'embodies'}\n",
        "rels_df.relt = rels_df.relt.apply(lambda r: renreldict[r])\n",
        "# Test relationships types\n",
        "rels_df.relt.value_counts()"
      ],
      "id": "upZ360eRS3d5",
      "execution_count": 42,
      "outputs": [
        {
          "output_type": "execute_result",
          "data": {
            "text/plain": [
              "employs     126\n",
              "cites        99\n",
              "embodies      1\n",
              "Name: relt, dtype: int64"
            ]
          },
          "metadata": {},
          "execution_count": 42
        }
      ]
    },
    {
      "cell_type": "markdown",
      "metadata": {
        "id": "uifWgk7QUDWC"
      },
      "source": [
        "## Explore the Knowledge Base"
      ],
      "id": "uifWgk7QUDWC"
    },
    {
      "cell_type": "code",
      "metadata": {
        "id": "fDg-YVcl5zAR",
        "colab": {
          "base_uri": "https://localhost:8080/",
          "height": 363
        },
        "outputId": "7daeb9ae-586b-4ded-dede-9a8d7c20d1bc"
      },
      "source": [
        "elem_df.loc[elem_df.title.isna()].sort_values(by='term')"
      ],
      "id": "fDg-YVcl5zAR",
      "execution_count": 43,
      "outputs": [
        {
          "output_type": "execute_result",
          "data": {
            "text/html": [
              "<div>\n",
              "<style scoped>\n",
              "    .dataframe tbody tr th:only-of-type {\n",
              "        vertical-align: middle;\n",
              "    }\n",
              "\n",
              "    .dataframe tbody tr th {\n",
              "        vertical-align: top;\n",
              "    }\n",
              "\n",
              "    .dataframe thead th {\n",
              "        text-align: right;\n",
              "    }\n",
              "</style>\n",
              "<table border=\"1\" class=\"dataframe\">\n",
              "  <thead>\n",
              "    <tr style=\"text-align: right;\">\n",
              "      <th></th>\n",
              "      <th>term</th>\n",
              "      <th>title</th>\n",
              "      <th>url</th>\n",
              "    </tr>\n",
              "  </thead>\n",
              "  <tbody>\n",
              "    <tr>\n",
              "      <th>100</th>\n",
              "      <td>orw critical data science method</td>\n",
              "      <td>NaN</td>\n",
              "      <td>NaN</td>\n",
              "    </tr>\n",
              "    <tr>\n",
              "      <th>101</th>\n",
              "      <td>orw critical data study</td>\n",
              "      <td>NaN</td>\n",
              "      <td>NaN</td>\n",
              "    </tr>\n",
              "    <tr>\n",
              "      <th>102</th>\n",
              "      <td>orw data (auto)ethnography method</td>\n",
              "      <td>NaN</td>\n",
              "      <td>NaN</td>\n",
              "    </tr>\n",
              "    <tr>\n",
              "      <th>103</th>\n",
              "      <td>orw data archaeology method</td>\n",
              "      <td>NaN</td>\n",
              "      <td>NaN</td>\n",
              "    </tr>\n",
              "    <tr>\n",
              "      <th>104</th>\n",
              "      <td>orw data walk method</td>\n",
              "      <td>NaN</td>\n",
              "      <td>NaN</td>\n",
              "    </tr>\n",
              "    <tr>\n",
              "      <th>105</th>\n",
              "      <td>orw discursive analysis method</td>\n",
              "      <td>NaN</td>\n",
              "      <td>NaN</td>\n",
              "    </tr>\n",
              "    <tr>\n",
              "      <th>106</th>\n",
              "      <td>orw historical analysis and genealogy method</td>\n",
              "      <td>NaN</td>\n",
              "      <td>NaN</td>\n",
              "    </tr>\n",
              "    <tr>\n",
              "      <th>107</th>\n",
              "      <td>orw interview, focus group and workshop method</td>\n",
              "      <td>NaN</td>\n",
              "      <td>NaN</td>\n",
              "    </tr>\n",
              "    <tr>\n",
              "      <th>108</th>\n",
              "      <td>orw participatory and action research method</td>\n",
              "      <td>NaN</td>\n",
              "      <td>NaN</td>\n",
              "    </tr>\n",
              "    <tr>\n",
              "      <th>109</th>\n",
              "      <td>orw research-creation and creative practice me...</td>\n",
              "      <td>NaN</td>\n",
              "      <td>NaN</td>\n",
              "    </tr>\n",
              "  </tbody>\n",
              "</table>\n",
              "</div>"
            ],
            "text/plain": [
              "                                                  term title  url\n",
              "100                   orw critical data science method   NaN  NaN\n",
              "101                            orw critical data study   NaN  NaN\n",
              "102                  orw data (auto)ethnography method   NaN  NaN\n",
              "103                        orw data archaeology method   NaN  NaN\n",
              "104                               orw data walk method   NaN  NaN\n",
              "105                     orw discursive analysis method   NaN  NaN\n",
              "106       orw historical analysis and genealogy method   NaN  NaN\n",
              "107     orw interview, focus group and workshop method   NaN  NaN\n",
              "108       orw participatory and action research method   NaN  NaN\n",
              "109  orw research-creation and creative practice me...   NaN  NaN"
            ]
          },
          "metadata": {},
          "execution_count": 43
        }
      ]
    },
    {
      "cell_type": "code",
      "metadata": {
        "colab": {
          "base_uri": "https://localhost:8080/"
        },
        "id": "ZxHJAxcC4DnW",
        "outputId": "97c7aca0-63a4-4cbb-ac74-ded211a77a70"
      },
      "source": [
        "for method in rels_df.query('elea == \"orw critical data study\"').eleb:\n",
        "  print(method)\n",
        "  print(rels_df.query(f'relt == \"employs\" and eleb ==\\\"{method}\\\"').elea.to_list())"
      ],
      "id": "ZxHJAxcC4DnW",
      "execution_count": 46,
      "outputs": [
        {
          "output_type": "stream",
          "name": "stdout",
          "text": [
            "orw data (auto)ethnography method\n",
            "['orw critical data study', 'pbl Pink et al. 2018b', 'pbl Meng and DiSalvo 2018', 'pbl Coletta and Kitchin 2017', 'pbl Tanweer et al. 2016', 'pbl Lowrie 2017', 'pbl Evans and Kitchin 2018', 'pbl Grommé et al. 2018', 'pbl Pink and Fors 2017', 'pbl Beneito-Montagut et al. 2017', 'pbl Lehtiniemi and Ruckenstein 2019', 'pbl Fraser 2019a', 'pbl Kitchin 2021a', 'pbl Kitchin et al. 2016']\n",
            "orw interview, focus group and workshop method\n",
            "['orw critical data study', 'pbl Meng and DiSalvo 2018', 'pbl Bates et al. 2016', 'pbl Bates 2018', 'pbl Ruijer et al. 2017', 'pbl Kitchin and Moore-Cherry 2020', 'pbl Brayne 2017', 'pbl Delaney 2019', 'pbl Delaney and Kitchin 2020', 'pbl Thatcher 2014', 'pbl Gray 2019', 'pbl Chenou and Cepeda-Másmela 2019', 'pbl Cinnamon 2019', 'pbl Baack 2015']\n",
            "orw data archaeology method\n",
            "['orw critical data study', 'pbl Light et al. 2016', 'pbl Leszczynski 2017', 'pbl Tanweer et al. 2016', 'pbl Dodge and Kitchin 2000', 'pbl Bates et al. 2016', 'pbl Bates 2018', 'pbl Dumit and Nafus 2018', 'pbl Kitchin and McArdle 2016', 'pbl Kitchin and Stehle 2021', 'pbl Kitchin et al. 2016', 'pbl Dodge and Kitchin 2005', 'pbl Currie et al. 2016', 'pbl Meng and DiSalvo 2018', 'pbl Loukissas 2018', 'pbl Iliadis 2019']\n",
            "orw historical analysis and genealogy method\n",
            "['orw critical data study', 'pbl Phillips 2019', 'pbl Barnes and Wilson 2014', 'pbl Wyly 2019', 'pbl Crowley 2009', 'pbl Foucault 1977', 'pbl Lauriault 2017', 'pbl Davies et al. 2019b', 'pbl Browne 2015', 'pbl Wernimont 2018', 'pbl Koopman 2019', 'pbl Desrosières 1998', 'pbl Porter 1995', 'pbl Poovey 1998', 'pbl Hannah 2011', 'pbl Lauriault 2012', 'pbl Karabell 2014', 'pbl Bates et al. 2016']\n",
            "orw participatory and action research method\n",
            "['orw critical data study', 'pbl Kennedy et al. 2015b', 'pbl Petty et al. 2016', 'pbl Urban Praxis 2017', 'pbl Ampatzidou et al. 2015', 'pbl Gabrys et al. 2016', 'pbl Meng and DiSalvo 2018', 'pbl Irani 2015', 'pbl Perng et al. 2018', 'pbl Currie et al. 2016']\n",
            "orw data walk method\n",
            "['orw critical data study', 'pbl Powell 2018', 'pbl Jarke 2019', 'pbl Hunter 2018', 'pbl van Zoonen et al. 2017', 'pbl Dawkins and Young 2020', 'pbl Thatcher and Dalton 2017']\n",
            "orw discursive analysis method\n",
            "['orw critical data study', 'pbl Andrejevic 2007', 'pbl Solove 2011', 'pbl Bradshaw 2018', 'pbl Cardullo and Kitchin 2019b', 'pbl Meng and DiSalvo 2018', 'pbl Wernimont 2018', 'pbl Koopman 2019', 'pbl Bates et al. 2016', 'pbl Bates 2018', 'pbl Kitchin and Moore-Cherry 2020', 'pbl Brayne 2017', 'pbl Delaney and Kitchin 2020', 'pbl Chenou and Cepeda-Másmela 2019', 'pbl Currie et al. 2016', 'pbl Loukissas 2018']\n",
            "orw research-creation and creative practice method\n",
            "['orw critical data study', 'pbl Lupton 2017', 'pbl Offenhuber 2020', 'pbl Khot et al. 2015', 'pbl Markham and Pereira 2019a', 'pbl Markham and Pereira 2019b', 'pbl Stark 2014', 'pbl Lee et al. 2016b', 'pbl Desjardins and Tihanyi 2019', 'pbl Thudt et al. 2017', 'pbl Weinberg n.d.', 'pbl Jansen et al. 2015', 'pbl Truman and Springgay 2015', 'pbl Truman 2017', 'pbl Lupton and Watson 2020', 'pbl Foley 2020', 'pbl Lee 2019', 'pbl Kitchin 2021a', 'pbl Graham et al. 2019', 'pbl Fotopoulou and Beavon 2020', 'pbl Petrelli et al. 2017']\n",
            "orw critical data science method\n",
            "['orw critical data study', 'pbl Pickles 1995', 'pbl Schuurman and Pratt 2002', 'pbl Dunn 2007', 'pbl Crampton et al. 2013', 'pbl Williams 2020', 'pbl D’Ignazio and Klein 2020', 'pbl Graham et al. 2014', 'pbl Graham et al. 2015', 'pbl Robinson and Franklin 2020']\n"
          ]
        }
      ]
    },
    {
      "cell_type": "code",
      "metadata": {
        "colab": {
          "base_uri": "https://localhost:8080/",
          "height": 332
        },
        "id": "OXFkfxsAXfq2",
        "outputId": "8477f8aa-62f2-41f9-bd79-58fb1baf790d"
      },
      "source": [
        "# Select the relevant rows\n",
        "rels_df.loc[(rels_df.relt == 'employs') & (rels_df.eleb == method) & (rels_df.elea.apply(lambda t: t[:3] == 'pbl'))]"
      ],
      "id": "OXFkfxsAXfq2",
      "execution_count": 60,
      "outputs": [
        {
          "output_type": "execute_result",
          "data": {
            "text/html": [
              "<div>\n",
              "<style scoped>\n",
              "    .dataframe tbody tr th:only-of-type {\n",
              "        vertical-align: middle;\n",
              "    }\n",
              "\n",
              "    .dataframe tbody tr th {\n",
              "        vertical-align: top;\n",
              "    }\n",
              "\n",
              "    .dataframe thead th {\n",
              "        text-align: right;\n",
              "    }\n",
              "</style>\n",
              "<table border=\"1\" class=\"dataframe\">\n",
              "  <thead>\n",
              "    <tr style=\"text-align: right;\">\n",
              "      <th></th>\n",
              "      <th>elea</th>\n",
              "      <th>relt</th>\n",
              "      <th>eleb</th>\n",
              "    </tr>\n",
              "  </thead>\n",
              "  <tbody>\n",
              "    <tr>\n",
              "      <th>123</th>\n",
              "      <td>pbl Pickles 1995</td>\n",
              "      <td>employs</td>\n",
              "      <td>orw critical data science method</td>\n",
              "    </tr>\n",
              "    <tr>\n",
              "      <th>124</th>\n",
              "      <td>pbl Schuurman and Pratt 2002</td>\n",
              "      <td>employs</td>\n",
              "      <td>orw critical data science method</td>\n",
              "    </tr>\n",
              "    <tr>\n",
              "      <th>125</th>\n",
              "      <td>pbl Dunn 2007</td>\n",
              "      <td>employs</td>\n",
              "      <td>orw critical data science method</td>\n",
              "    </tr>\n",
              "    <tr>\n",
              "      <th>126</th>\n",
              "      <td>pbl Crampton et al. 2013</td>\n",
              "      <td>employs</td>\n",
              "      <td>orw critical data science method</td>\n",
              "    </tr>\n",
              "    <tr>\n",
              "      <th>127</th>\n",
              "      <td>pbl Williams 2020</td>\n",
              "      <td>employs</td>\n",
              "      <td>orw critical data science method</td>\n",
              "    </tr>\n",
              "    <tr>\n",
              "      <th>128</th>\n",
              "      <td>pbl D’Ignazio and Klein 2020</td>\n",
              "      <td>employs</td>\n",
              "      <td>orw critical data science method</td>\n",
              "    </tr>\n",
              "    <tr>\n",
              "      <th>129</th>\n",
              "      <td>pbl Graham et al. 2014</td>\n",
              "      <td>employs</td>\n",
              "      <td>orw critical data science method</td>\n",
              "    </tr>\n",
              "    <tr>\n",
              "      <th>130</th>\n",
              "      <td>pbl Graham et al. 2015</td>\n",
              "      <td>employs</td>\n",
              "      <td>orw critical data science method</td>\n",
              "    </tr>\n",
              "    <tr>\n",
              "      <th>131</th>\n",
              "      <td>pbl Robinson and Franklin 2020</td>\n",
              "      <td>employs</td>\n",
              "      <td>orw critical data science method</td>\n",
              "    </tr>\n",
              "  </tbody>\n",
              "</table>\n",
              "</div>"
            ],
            "text/plain": [
              "                               elea     relt                              eleb\n",
              "123                pbl Pickles 1995  employs  orw critical data science method\n",
              "124    pbl Schuurman and Pratt 2002  employs  orw critical data science method\n",
              "125                   pbl Dunn 2007  employs  orw critical data science method\n",
              "126        pbl Crampton et al. 2013  employs  orw critical data science method\n",
              "127               pbl Williams 2020  employs  orw critical data science method\n",
              "128    pbl D’Ignazio and Klein 2020  employs  orw critical data science method\n",
              "129          pbl Graham et al. 2014  employs  orw critical data science method\n",
              "130          pbl Graham et al. 2015  employs  orw critical data science method\n",
              "131  pbl Robinson and Franklin 2020  employs  orw critical data science method"
            ]
          },
          "metadata": {},
          "execution_count": 60
        }
      ]
    },
    {
      "cell_type": "code",
      "metadata": {
        "id": "OfAArxFn6C2_",
        "colab": {
          "base_uri": "https://localhost:8080/"
        },
        "outputId": "266d06b1-1a65-4951-b949-5238a36f96ef"
      },
      "source": [
        "# JOIN rels_df AND elem_df ON rels_df.elea = elem_df.term\n",
        "df = rels_df.merge(elem_df[['term', 'title']], how='left', left_on='elea', right_on='term')\n",
        "\n",
        "for method in df.query('elea == \"orw critical data study\"').eleb:\n",
        "  print(f'- **{method[4:].title()}**')\n",
        "  # Select the relevant rows\n",
        "  publications = df.loc[(df.relt == 'employs') & (df.eleb == method) & (df.elea.apply(lambda t: t[:3] == 'pbl'))]  \n",
        "  for _,row in publications.sort_values(by='elea').iterrows():\n",
        "    print(f'\\t- ({row[3]}) {row[4]}')"
      ],
      "id": "OfAArxFn6C2_",
      "execution_count": 63,
      "outputs": [
        {
          "output_type": "stream",
          "name": "stdout",
          "text": [
            "- **Data (Auto)Ethnography Method**\n",
            "\t- (pbl Beneito-Montagut et al. 2017) Beneito-Montagut, R., Begueria, A. and Cassián, N. (2017) ‘Doing digital team ethnography: Being there together and digital social data’, Qualitative Research, 17(6), 664–682.\n",
            "\t- (pbl Coletta and Kitchin 2017) Coletta, C. and Kitchin, R. (2017) ‘Algorhythmic governance: Regulating the “heartbeat” of a city using the Internet of Things’, Big Data & Society, 4: 1–16.\n",
            "\t- (pbl Evans and Kitchin 2018) Evans, L. and Kitchin, R. (2018) ‘A smart place to work? Big data systems, labour, control, and modern retail stores’, New Technology, Work and Employment, 33(1): 44–57.\n",
            "\t- (pbl Fraser 2019a) Fraser, A. (2019a) ‘Curating digital geographies in an era of data colonialism’, Geoforum, 104: 193–200.\n",
            "\t- (pbl Grommé et al. 2018) Grommé, F., Ruppert, E. and Cakici, B. (2018) ‘Data scientists: A new faction of the transnational field of statistics’, in Knox, H. and Nafus, D. (eds), Ethnography for a Data-Saturated World. Manchester University Press, Manchester, pp. 33–61.\n",
            "\t- (pbl Kitchin 2021a) Kitchin, R. (2021a) Data Lives: How Data Are Made and Shape Our World. Bristol University Press, Bristol.\n",
            "\t- (pbl Kitchin et al. 2016) Kitchin, R., Maalsen, S. and McArdle, G. (2016) ‘The praxis and politics of building urban dashboards’, Geoforum, 77: 93–101.\n",
            "\t- (pbl Lehtiniemi and Ruckenstein 2019) Lehtiniemi, T. and Ruckenstein, M. (2019) ‘The social imaginaries of data activism’, Big Data & Society, (1): 1–12.\n",
            "\t- (pbl Lowrie 2017) Lowrie, I. (2017) ‘Algorithmic rationality: Epistemology and efficiency in the data sciences’, Big Data & Society, 5(1): 1–13.\n",
            "\t- (pbl Meng and DiSalvo 2018) Meng, A. and DiSalvo, C. (2018) ‘Grassroots resource mobilization through counter-data action’, Big Data & Society, 5(2): 1–12.\n",
            "\t- (pbl Pink and Fors 2017) Pink, S. and Fors, V. (2017) ‘Being in a mediated world: Self-tracking and the mind-body-environment’, Cultural Geographies, 24(3): 375–388.\n",
            "\t- (pbl Pink et al. 2018b) Pink, S., Ruckenstein, M., Willim, R. and Duque, M. (2018b) ‘Broken data: Conceptualising data in an emerging world’, Big Data & Society, 5(2): 1–13.\n",
            "\t- (pbl Tanweer et al. 2016) Tanweer, A., Fiore-Gartland, B. and Aragon, C. (2016) ‘Impediment to insight to innovation: Understanding data assemblages through the breakdown repair process’, Information, Communication & Society, 19(6): 736–752.\n",
            "- **Interview, Focus Group And Workshop Method**\n",
            "\t- (pbl Baack 2015) Baack, S. (2015) ‘Datafication and empowerment: How the open data movement re-articulates notions of democracy, participation, and journalism’, Big Data & Society, 2(2): 1–11.\n",
            "\t- (pbl Bates 2018) Bates, J. (2018) ‘The politics of data friction’, Journal of Documentation, 74: 412–429.\n",
            "\t- (pbl Bates et al. 2016) Bates, J., Lin, Y.-W. and Goodale, P. (2016) ‘Data journeys: Capturing the socio-material constitution of data objects and flows’, Big Data & Society, 4(2): 1–12.\n",
            "\t- (pbl Brayne 2017) Brayne, S. (2017) ‘Big data surveillance: The case of policing’, American Sociological Review, 82(5): 977–1008.\n",
            "\t- (pbl Chenou and Cepeda-Másmela 2019) Chenou, J.-M. and Cepeda-Másmela, C. (2019) ‘#NiUnaMenos: Data Activism from the Global South’, Television & New Media, 20(4): 396–411.\n",
            "\t- (pbl Cinnamon 2019) Cinnamon, J. (2019) ‘Visual data justice? Datafication of urban informality in South Africa using 360° imaging technologies’, Development Informatics Working Paper Series 75. www.gdi.manchester.ac.uk/research/publications/di/di-wp75/ (accessed 1 December 2020).\n",
            "\t- (pbl Delaney 2019) Delaney, A. (2019) ‘Humanising policy from “Warriors to Guardians”: An evaluation of coordinated management and emergency response assemblages in Ireland and the US’, Doctoral thesis, National University of Ireland.\n",
            "\t- (pbl Delaney and Kitchin 2020) Delaney, A. and Kitchin, R. (2020, online first) ‘Progress and prospects for data-driven coordinated management and emergency response: The case of Ireland’, Territory, Politics, Governance. DOI: 10.1080/21622671.2020.1805355.\n",
            "\t- (pbl Gray 2019) Gray, J. (2019) ‘Data witnessing: Attending to injustice with data in Amnesty International’s Decoders project’, Information, Communication & Society, 22(7): 971–991.\n",
            "\t- (pbl Kitchin and Moore-Cherry 2020) Kitchin, R. and Moore-Cherry, N. (2020, online first) ‘Fragmented governance, the urban data ecosystem and smart cities: The case of Metropolitan Boston’, Regional Studies. DOI: 10.1080/00343404.2020.1735627.\n",
            "\t- (pbl Meng and DiSalvo 2018) Meng, A. and DiSalvo, C. (2018) ‘Grassroots resource mobilization through counter-data action’, Big Data & Society, 5(2): 1–12.\n",
            "\t- (pbl Ruijer et al. 2017) Ruijer, E., Grimmelikhuijsen, S. and Meijer, A. (2017) ‘Open data for democracy: Developing a theoretical framework for open data use’, Government Information Quarterly, 34(1): 45–52.\n",
            "\t- (pbl Thatcher 2014) Thatcher, J. (2014) ‘Living on fumes: Digital footprints, data fumes, and the limitations of spatial big data’, International Journal of Communication, 8: 1765–1783.\n",
            "- **Data Archaeology Method**\n",
            "\t- (pbl Bates 2018) Bates, J. (2018) ‘The politics of data friction’, Journal of Documentation, 74: 412–429.\n",
            "\t- (pbl Bates et al. 2016) Bates, J., Lin, Y.-W. and Goodale, P. (2016) ‘Data journeys: Capturing the socio-material constitution of data objects and flows’, Big Data & Society, 4(2): 1–12.\n",
            "\t- (pbl Currie et al. 2016) Currie, M., Paris, B.S., Pasquetto, I. and Pierre, J. (2016) ‘The conundrum of police officer-involved homicides: Counter-data in Los Angeles County’, Big Data & Society, 3(2): 1–14.\n",
            "\t- (pbl Dodge and Kitchin 2000) Dodge, M. and Kitchin, R. (2000) Mapping Cyberspace. Routledge, London.\n",
            "\t- (pbl Dodge and Kitchin 2005) Dodge, M. and Kitchin, R. (2005) ‘Codes of life: Identification codes and the machine-readable world’, Environment and Planning D: Society and Space, 23(6): 851–881.\n",
            "\t- (pbl Dumit and Nafus 2018) Dumit, J. and Nafus, D. (2018) ‘The other ninety per cent: Thinking with data science, creating data studies,’ in Knox, H. and Nafus, D. (eds), Ethnography for a Data-Saturated World. Manchester University Press, Manchester, pp. 252–274.\n",
            "\t- (pbl Iliadis 2019) Iliadis, A. (2019) ‘The Tower of Babel problem: Making data make sense with Basic Formal Ontology’, Online Information Review, 43(6): 1021–1045.\n",
            "\t- (pbl Kitchin and McArdle 2016) Kitchin, R. and McArdle, G. (2016) ‘What makes big data, big data? Exploring the ontological characteristics of 26 datasets’, Big Data & Society, 3(1): 1–10.\n",
            "\t- (pbl Kitchin and Stehle 2021) Kitchin, R. and Stehle, S. (2021) ‘Can smart city data be used to create new official statistics?’, Journal of Official Statistics, 37(1): 1–29.\n",
            "\t- (pbl Kitchin et al. 2016) Kitchin, R., Maalsen, S. and McArdle, G. (2016) ‘The praxis and politics of building urban dashboards’, Geoforum, 77: 93–101.\n",
            "\t- (pbl Leszczynski 2017) Leszczynski, A. (2017) ‘Geoprivacy’, in Kitchin, R., Lauriault, T. and Wilson, M. (eds), Understanding Spatial Media. Sage, London, pp. 239–248.\n",
            "\t- (pbl Light et al. 2016) Light, B., Burgess, J. and Duguay, S. (2016) ‘The walkthrough method: An approach to the study of apps’, New Media & Society 20(3): 881–900.\n",
            "\t- (pbl Loukissas 2018) Loukissas, Y. (2018) ‘All the homes: Zillow and the operational context of data’, in Chowdhury, G. et al. (eds), iConference 2018, LNCS 10766, Springer, Cham, pp. 272–281.\n",
            "\t- (pbl Meng and DiSalvo 2018) Meng, A. and DiSalvo, C. (2018) ‘Grassroots resource mobilization through counter-data action’, Big Data & Society, 5(2): 1–12.\n",
            "\t- (pbl Tanweer et al. 2016) Tanweer, A., Fiore-Gartland, B. and Aragon, C. (2016) ‘Impediment to insight to innovation: Understanding data assemblages through the breakdown repair process’, Information, Communication & Society, 19(6): 736–752.\n",
            "- **Historical Analysis And Genealogy Method**\n",
            "\t- (pbl Barnes and Wilson 2014) Barnes, T.J. and Wilson, M.W. (2014) ‘Big Data, social physics, and spatial analysis: The early years’, Big Data & Society, 1(1): 1–14.\n",
            "\t- (pbl Bates et al. 2016) Bates, J., Lin, Y.-W. and Goodale, P. (2016) ‘Data journeys: Capturing the socio-material constitution of data objects and flows’, Big Data & Society, 4(2): 1–12.\n",
            "\t- (pbl Browne 2015) Browne, S. (2015) Dark Matters: On the Surveillance of Blackness. Duke University Press, Durham, NC.\n",
            "\t- (pbl Crowley 2009) Crowley, U. (2009) ‘Genealogy method’, in Kitchin, R. and Thrift, N. (eds), International Encyclopedia of Human Geography, vol. 4. Elsevier, Oxford, pp. 341–344.\n",
            "\t- (pbl Davies et al. 2019b) Davies, T., Walker, S., Rubinstein, M. and Perini, F. (eds) (2019b) The State of Open Data: Histories and Horizons. African Minds and International Development Research Centre Cape Town and Ottawa.\n",
            "\t- (pbl Desrosières 1998) Desrosières, A. (1998) The Politics of Large Numbers: A History of Statistical Reasoning. Harvard University Press, Cambridge, MA.\n",
            "\t- (pbl Foucault 1977) Foucault, M. (1977) Discipline and Punish. Allen Lane, London.\n",
            "\t- (pbl Hannah 2011) Hannah, M. (2011) Dark Territory in the Information Age. Ashgate, Farnham.\n",
            "\t- (pbl Karabell 2014) Karabell, Z. (2014) The Leading Indicators: A Short History of the Numbers That Rule Our World. Simon & Schuster, New York.\n",
            "\t- (pbl Koopman 2019) Koopman, C. (2019) How We Became Our Data: A Genealogy of the Informational Person. University of Chicago Press, Chicago.\n",
            "\t- (pbl Lauriault 2012) Lauriault, T.P. (2012) ‘Data, infrastructures and geographical imaginations: Mapping data access discourses in Canada’, PhD Thesis, Carleton University, Ottawa.\n",
            "\t- (pbl Lauriault 2017) Lauriault, T. (2017) ‘Open spatial data’, in Kitchin, R., Lauriault, T. and Wilson, M. (eds), Understanding Spatial Media. Sage, London, pp. 95–109.\n",
            "\t- (pbl Phillips 2019) Phillips, C.J. (2019) Scouting and Scoring: How We Know What We Know About Baseball. Princeton University Press, Princeton, NJ.\n",
            "\t- (pbl Poovey 1998) Poovey, M. (1998) A History of the Modern Fact: Problems of Knowledge in the Sciences of Wealth and Society. University Chicago Press, Chicago.\n",
            "\t- (pbl Porter 1995) Porter, T.M. (1995) Trust in Numbers: The Pursuit of Objectivity in Science and Public Life. Princeton University Press, Princeton, NJ.\n",
            "\t- (pbl Wernimont 2018) Wernimont, J. (2018) Numbered Lives: Life and Death in Quantum Media. MIT Press, Cambridge, MA.\n",
            "\t- (pbl Wyly 2019) Wyly, E. (2019) Geography’s Quantitative Revolutions: Edward A. Ackerman and the Cold War Origins of Big Data. West Virginia University Press, Morgantown.\n",
            "- **Participatory And Action Research Method**\n",
            "\t- (pbl Ampatzidou et al. 2015) Ampatzidou, C., Bouw, M., van de Klundert, F., de Lange, M. and de Waal, M. (2015) The Hackable City: A Research Manifesto and Design Toolkit. Amsterdam Creative Industries Publishing, Amsterdam.\n",
            "\t- (pbl Currie et al. 2016) Currie, M., Paris, B.S., Pasquetto, I. and Pierre, J. (2016) ‘The conundrum of police officer-involved homicides: Counter-data in Los Angeles County’, Big Data & Society, 3(2): 1–14.\n",
            "\t- (pbl Gabrys et al. 2016) Gabrys, J., Pritchard, H. and Barratt, B. (2016) ‘Just good enough data: Figuring data citizenships through air pollution sensing and data stories’, Big Data & Society, 3(2): 1–14.\n",
            "\t- (pbl Irani 2015) Irani, L. (2015) ‘Hackathons and the making of entrepreneurial citizenship’, Science, Technology and Human Values, 40(5): 799–824.\n",
            "\t- (pbl Kennedy et al. 2015b) Kennedy, H., Poell, T. and van Dijck, J. (2015b) ‘Data and agency’, Big Data & Society, 2(2): 1–7.\n",
            "\t- (pbl Meng and DiSalvo 2018) Meng, A. and DiSalvo, C. (2018) ‘Grassroots resource mobilization through counter-data action’, Big Data & Society, 5(2): 1–12.\n",
            "\t- (pbl Perng et al. 2018) Perng, S.-Y., Kitchin, R. and MacDonncha, D. (2018) ‘Hackathons, entrepreneurial life and the making of smart cities’, Geoforum, 97: 189–197.\n",
            "\t- (pbl Petty et al. 2016) Petty, T., Saba, M., Lewis, T., Gangadharan, S.P. and Eubanks, V. (2016) Our Data Bodies: Reclaiming Our Data. Our Data Bodies Project, www.odbproject.org/wp-content/uploads/2016/12/ODB.InterimReport.FINAL_.7.16.2018.pdf (accessed 2 December 2020).\n",
            "\t- (pbl Urban Praxis 2017) Urban Praxis (2017) ‘O’Hair Park Campaign’, https://urbanpraxis.org/research/ (accessed 2 December 2020).\n",
            "- **Data Walk Method**\n",
            "\t- (pbl Dawkins and Young 2020) Dawkins, O. and Young, G. W. (2020) ‘Engaging place with mixed realities: Sharing multisensory experiences of place through community-generated digital content and multimodal interaction’, in Chen, J. and Fragomeni, G. (eds), Virtual, Augmented and Mixed Reality: Industrial and Everyday Life Applications, HCII 2020. Lecture Notes in Computer Science, vol. 12191. Springer, Cham, pp. 199–218.\n",
            "\t- (pbl Hunter 2018) Hunter, D. (2018) ‘Datawalking project’, http://datawalking.com/ (accessed 1 December 2020).\n",
            "\t- (pbl Jarke 2019) Jarke, J. (2019) ‘Open government for all? Co-creating digital public services for older adults through data walks’, Online Information Review, 43(6): 1003–1020.\n",
            "\t- (pbl Powell 2018) Powell, A. (2018) ‘The data walkshop and radical bottom-up data knowledge’, in Knox, H. and Nafus, D. (eds), Ethnography for a Data-Saturated World. Manchester University Press, Manchester, pp. 212–232.\n",
            "\t- (pbl Thatcher and Dalton 2017) Thatcher, J. and Dalton, C.M. (2017) ‘Data derives: Confronting digital geographic information as spectacle’, in Briziarelli, M. and Armano, E. (eds), The Spectacle 2.0: Reading Debord in the Context of Digital Capitalism. University of Westminster Press, London, pp. 135–150.\n",
            "\t- (pbl van Zoonen et al. 2017) van Zoonen, L., Hirzalla, F., Engelbert, J., Zuijderwijk, L. and Schokker, L. (2017) “‘Seeing more than you think”: A “data walk” in the smart city’, 26 May, Bang the Table, www.bangthetable.com/blog/data-walk-in-smart-city/ (accessed 2 December 2020).\n",
            "- **Discursive Analysis Method**\n",
            "\t- (pbl Andrejevic 2007) Andrejevic, M. (2007) iSpy: Surveillance and Power in the Interactive Era. University of Kansas Press, Lawrence, KS.\n",
            "\t- (pbl Bates 2018) Bates, J. (2018) ‘The politics of data friction’, Journal of Documentation, 74: 412–429.\n",
            "\t- (pbl Bates et al. 2016) Bates, J., Lin, Y.-W. and Goodale, P. (2016) ‘Data journeys: Capturing the socio-material constitution of data objects and flows’, Big Data & Society, 4(2): 1–12.\n",
            "\t- (pbl Bradshaw 2018) Bradshaw, R. (2018) ‘Instrumentalization in the public smart bikeshare sector’, PhD thesis, National University of Ireland Maynooth.\n",
            "\t- (pbl Brayne 2017) Brayne, S. (2017) ‘Big data surveillance: The case of policing’, American Sociological Review, 82(5): 977–1008.\n",
            "\t- (pbl Cardullo and Kitchin 2019b) Cardullo, P. and Kitchin, R. (2019b) ‘Smart urbanism and smart citizenship: The neoliberal logic of “citizen-focused” smart cities in Europe’, Environment and Planning C: Politics and Space, 37(5): 813–830.\n",
            "\t- (pbl Chenou and Cepeda-Másmela 2019) Chenou, J.-M. and Cepeda-Másmela, C. (2019) ‘#NiUnaMenos: Data Activism from the Global South’, Television & New Media, 20(4): 396–411.\n",
            "\t- (pbl Currie et al. 2016) Currie, M., Paris, B.S., Pasquetto, I. and Pierre, J. (2016) ‘The conundrum of police officer-involved homicides: Counter-data in Los Angeles County’, Big Data & Society, 3(2): 1–14.\n",
            "\t- (pbl Delaney and Kitchin 2020) Delaney, A. and Kitchin, R. (2020, online first) ‘Progress and prospects for data-driven coordinated management and emergency response: The case of Ireland’, Territory, Politics, Governance. DOI: 10.1080/21622671.2020.1805355.\n",
            "\t- (pbl Kitchin and Moore-Cherry 2020) Kitchin, R. and Moore-Cherry, N. (2020, online first) ‘Fragmented governance, the urban data ecosystem and smart cities: The case of Metropolitan Boston’, Regional Studies. DOI: 10.1080/00343404.2020.1735627.\n",
            "\t- (pbl Koopman 2019) Koopman, C. (2019) How We Became Our Data: A Genealogy of the Informational Person. University of Chicago Press, Chicago.\n",
            "\t- (pbl Loukissas 2018) Loukissas, Y. (2018) ‘All the homes: Zillow and the operational context of data’, in Chowdhury, G. et al. (eds), iConference 2018, LNCS 10766, Springer, Cham, pp. 272–281.\n",
            "\t- (pbl Meng and DiSalvo 2018) Meng, A. and DiSalvo, C. (2018) ‘Grassroots resource mobilization through counter-data action’, Big Data & Society, 5(2): 1–12.\n",
            "\t- (pbl Solove 2011) Solove, D.J. (2011) Nothing to Hide: The False Tradeoff Between Privacy and Security. Yale University Press, New Haven, CT.\n",
            "\t- (pbl Wernimont 2018) Wernimont, J. (2018) Numbered Lives: Life and Death in Quantum Media. MIT Press, Cambridge, MA.\n",
            "- **Research-Creation And Creative Practice Method**\n",
            "\t- (pbl Desjardins and Tihanyi 2019) Desjardins, A. and Tihanyi, T. (2019) ‘ListeningCups: A case of data tactility and data stories’, in Hamilton, S. and Bardzell, S. (eds), Proceedings of the 2019 on Designing Interactive Systems Conference. ACM, New York, pp. 147–160.\n",
            "\t- (pbl Foley 2020) Foley, J. (2020) ‘0_engineering fictions’, https://engineeringfictions.wordpress.com/about/0_home/ (accessed 1 December 2020).\n",
            "\t- (pbl Fotopoulou and Beavon 2020) Fotopoulou, A. and Beavon, C. (2020) ‘104 days later: A lockdown data story’, Art/Data/Health project, Brighton, www.artdatahealth.org/104-days-later-a-lockdown-data-story/ (accessed 19 June 2021).\n",
            "\t- (pbl Graham et al. 2019) Graham, M., Kitchin, R., Mattern, S. and Shaw, J. (eds) (2019) How to Run a City Like Amazon, and Other Fables. Meatspace Press, Oxford.\n",
            "\t- (pbl Jansen et al. 2015) Jansen, Y., Dragicevic, P., Isenberg, P., Alexander, J., Karnik, A., Kildal, J., Subramanian, S. and Hornbaek, K. (2015) ‘Opportunities and challenges for data physicalization’, Proceedings of the ACM Conference on Human Factors in Computing Systems (CHI). ACM, New York.\n",
            "\t- (pbl Khot et al. 2015) Khot, R.A., Lee, J., Hjorth, L. and Mueller, F. (2015) ‘TastyBeats: Celebrating heart rate data with a drinkable spectacle’, in Proceedings of the Ninth International Conference on Tangible, Embedded, and Embodied Interaction. ACM, New York, pp. 229–232.\n",
            "\t- (pbl Kitchin 2021a) Kitchin, R. (2021a) Data Lives: How Data Are Made and Shape Our World. Bristol University Press, Bristol.\n",
            "\t- (pbl Lee 2019) Lee, C.S. (2019) ‘Datafication, dataveillance, and the social credit system as China’s new normal’, Online Information Review, 43(6): 952–970.\n",
            "\t- (pbl Lee et al. 2016b) Lee, M.H., Son, O. and Nam, T.J. (2016b) ‘Patina-inspired personalization: Personalizing products with traces of daily use’, in Proceedings of the 2016 ACM Conference on Designing Interactive Systems. ACM, Brisbane, pp. 251–263.\n",
            "\t- (pbl Lupton 2017) Lupton, D. (2017) ‘Feeling your data: Touch and making sense of personal digital data’, New Media and Society, 19(10): 1599–1614.\n",
            "\t- (pbl Lupton and Watson 2020) Lupton, D. and Watson, A. (2020, online first) ‘Towards more-than-human digital data studies: Developing research-creation methods’, Qualitative Research. DOI: 10.1177/1468794120939235.\n",
            "\t- (pbl Markham and Pereira 2019a) Markham, A. and Pereira, G. (2019a) ‘Experimenting with algorithmic memory-making: Lived experience and future-oriented ethics in critical data science’, Frontiers in Big Data 2. www.frontiersin.org/articles/10.3389/fdata.2019.00035/full (accessed 1 December 2020).\n",
            "\t- (pbl Markham and Pereira 2019b) Markham, A. and Pereira, G. (2019b) ‘Analyzing public interventions through the lens of experimentalism: The case of the Museum of Random Memory’, Digital Creativity, 30(4): 235–256.\n",
            "\t- (pbl Offenhuber 2020) Offenhuber, D. (2020) ‘What we talk about when we talk about data physicality’, IEEE Computer Graphics and Applications, 40(6): 25–37.\n",
            "\t- (pbl Petrelli et al. 2017) Petrelli, D., Marshall, M.T., O’Brien, S., McEntaggart, P. and Gwilt, I. (2017) ‘Tangible data souvenirs as a bridge between a physical museum visit and online digital experience’, Personal and Ubiquitous Computing, 21(2): 281–295.\n",
            "\t- (pbl Stark 2014) Stark, L. (2014) ‘Come on feel the data (and smell it)’, The Atlantic, 19 May, www.theatlantic.com/technology/archive/2014/05/data-visceralization/370899/ (accessed 2 December 2020).\n",
            "\t- (pbl Thudt et al. 2017) Thudt, A., Hinrichs, U. and Carpendale, S. (2017) ‘Data craft: Integrating data into daily practices and shared reflections’, Paper presented at CHI 2017 Workshop on Quantified Data & Social Relationships, Denver, CO, https://research-repository.st-andrews.ac.uk/handle/10023/10910 (accessed 2 December 2020).\n",
            "\t- (pbl Truman 2017) Truman, S.E. (2017) ‘Speculative methodologies & emergent literacies: Walking & writing as research-creation’, Unpublished PhD thesis, University of Toronto.\n",
            "\t- (pbl Truman and Springgay 2015) Truman, S.E. and Springgay, S. (2015) ‘The primacy of movement in research-creation: New materialist approaches to art research and pedagogy’, in Lewis, T. and Laverty, M. (eds), Art’s Teachings, Teaching’s Art: Philosophical, Critical and Educational Musings. Springer Netherlands, Dordrecht, pp. 151–162.\n",
            "\t- (pbl Weinberg n.d.) Weinberg, T. (n.d.) ‘About the woven climate datascapes’, www.taliweinberg.com/datascapes (accessed 2 December 2020).\n",
            "- **Critical Data Science Method**\n",
            "\t- (pbl Crampton et al. 2013) Crampton, J., Graham, M., Poorthuis, A., Shelton, T., Stephens, M., Wilson, M.W. and Zook, M. (2013) ‘Beyond the geotag: Situating “big data” and leveraging the potential of the geoweb’, Cartography and Geographic Information Science, 40(2): 130–139.\n",
            "\t- (pbl Dunn 2007) Dunn, C.E. (2007) ‘Participatory GIS – A people’s GIS?’, Progress in Human Geography, 31(5): 616–637.\n",
            "\t- (pbl D’Ignazio and Klein 2020) D’Ignazio, C. and Klein, L.F. (2020) Data Feminism. MIT Press, Cambridge, MA.\n",
            "\t- (pbl Graham et al. 2014) Graham, M., Hogan, B., Straumann, R.K. and Medhat, A. (2014) ‘Uneven geographies of user-generated information: Patterns of increasing informational poverty’, Annals of the Association of American Geographers, 104(4): 746–764.\n",
            "\t- (pbl Graham et al. 2015) Graham, M., De Sabbata, S. and Zook, M. (2015) ‘Towards a study of information geographies: (Im)mutable augmentations and a mapping of the geographies of information’, Geo: Geography and environment, 2(1): 88–105.\n",
            "\t- (pbl Pickles 1995) Pickles, J. (ed) (1995) Ground Truth: The Social Implications of Geographic Information Systems. Guilford, New York.\n",
            "\t- (pbl Robinson and Franklin 2020) Robinson, C. and Franklin, R.S. (2020) ‘The sensor desert quandary: What does it mean (not) to count in the smart city?’ Transactions of the Institute of British Geographers, online first: 1–17. DOI: 10.1111/tran.12415.\n",
            "\t- (pbl Schuurman and Pratt 2002) Schuurman, N. and Pratt, G. (2002) ‘Care of the subject: Feminism and critiques of GIS’, Gender, Place & Culture, 9(3): 291–299.\n",
            "\t- (pbl Williams 2020) Williams, S. (2020) Data Action: Using Data for Public Good. MIT Press, Cambridge, MA.\n"
          ]
        }
      ]
    },
    {
      "cell_type": "code",
      "metadata": {
        "id": "jRNcEWOYc9D-",
        "colab": {
          "base_uri": "https://localhost:8080/",
          "height": 363
        },
        "outputId": "3585f19e-fc3b-4dcf-a3dc-9b0359c6b080"
      },
      "source": [
        "df.query(f'relt == \"employs\" and eleb ==\\\"{method}\\\"')"
      ],
      "id": "jRNcEWOYc9D-",
      "execution_count": 65,
      "outputs": [
        {
          "output_type": "execute_result",
          "data": {
            "text/html": [
              "<div>\n",
              "<style scoped>\n",
              "    .dataframe tbody tr th:only-of-type {\n",
              "        vertical-align: middle;\n",
              "    }\n",
              "\n",
              "    .dataframe tbody tr th {\n",
              "        vertical-align: top;\n",
              "    }\n",
              "\n",
              "    .dataframe thead th {\n",
              "        text-align: right;\n",
              "    }\n",
              "</style>\n",
              "<table border=\"1\" class=\"dataframe\">\n",
              "  <thead>\n",
              "    <tr style=\"text-align: right;\">\n",
              "      <th></th>\n",
              "      <th>elea</th>\n",
              "      <th>relt</th>\n",
              "      <th>eleb</th>\n",
              "      <th>term</th>\n",
              "      <th>title</th>\n",
              "    </tr>\n",
              "  </thead>\n",
              "  <tbody>\n",
              "    <tr>\n",
              "      <th>24</th>\n",
              "      <td>orw critical data study</td>\n",
              "      <td>employs</td>\n",
              "      <td>orw critical data science method</td>\n",
              "      <td>orw critical data study</td>\n",
              "      <td>NaN</td>\n",
              "    </tr>\n",
              "    <tr>\n",
              "      <th>123</th>\n",
              "      <td>pbl Pickles 1995</td>\n",
              "      <td>employs</td>\n",
              "      <td>orw critical data science method</td>\n",
              "      <td>pbl Pickles 1995</td>\n",
              "      <td>Pickles, J. (ed) (1995) Ground Truth: The Soci...</td>\n",
              "    </tr>\n",
              "    <tr>\n",
              "      <th>124</th>\n",
              "      <td>pbl Schuurman and Pratt 2002</td>\n",
              "      <td>employs</td>\n",
              "      <td>orw critical data science method</td>\n",
              "      <td>pbl Schuurman and Pratt 2002</td>\n",
              "      <td>Schuurman, N. and Pratt, G. (2002) ‘Care of th...</td>\n",
              "    </tr>\n",
              "    <tr>\n",
              "      <th>125</th>\n",
              "      <td>pbl Dunn 2007</td>\n",
              "      <td>employs</td>\n",
              "      <td>orw critical data science method</td>\n",
              "      <td>pbl Dunn 2007</td>\n",
              "      <td>Dunn, C.E. (2007) ‘Participatory GIS – A peopl...</td>\n",
              "    </tr>\n",
              "    <tr>\n",
              "      <th>126</th>\n",
              "      <td>pbl Crampton et al. 2013</td>\n",
              "      <td>employs</td>\n",
              "      <td>orw critical data science method</td>\n",
              "      <td>pbl Crampton et al. 2013</td>\n",
              "      <td>Crampton, J., Graham, M., Poorthuis, A., Shelt...</td>\n",
              "    </tr>\n",
              "    <tr>\n",
              "      <th>127</th>\n",
              "      <td>pbl Williams 2020</td>\n",
              "      <td>employs</td>\n",
              "      <td>orw critical data science method</td>\n",
              "      <td>pbl Williams 2020</td>\n",
              "      <td>Williams, S. (2020) Data Action: Using Data fo...</td>\n",
              "    </tr>\n",
              "    <tr>\n",
              "      <th>128</th>\n",
              "      <td>pbl D’Ignazio and Klein 2020</td>\n",
              "      <td>employs</td>\n",
              "      <td>orw critical data science method</td>\n",
              "      <td>pbl D’Ignazio and Klein 2020</td>\n",
              "      <td>D’Ignazio, C. and Klein, L.F. (2020) Data Femi...</td>\n",
              "    </tr>\n",
              "    <tr>\n",
              "      <th>129</th>\n",
              "      <td>pbl Graham et al. 2014</td>\n",
              "      <td>employs</td>\n",
              "      <td>orw critical data science method</td>\n",
              "      <td>pbl Graham et al. 2014</td>\n",
              "      <td>Graham, M., Hogan, B., Straumann, R.K. and Med...</td>\n",
              "    </tr>\n",
              "    <tr>\n",
              "      <th>130</th>\n",
              "      <td>pbl Graham et al. 2015</td>\n",
              "      <td>employs</td>\n",
              "      <td>orw critical data science method</td>\n",
              "      <td>pbl Graham et al. 2015</td>\n",
              "      <td>Graham, M., De Sabbata, S. and Zook, M. (2015)...</td>\n",
              "    </tr>\n",
              "    <tr>\n",
              "      <th>131</th>\n",
              "      <td>pbl Robinson and Franklin 2020</td>\n",
              "      <td>employs</td>\n",
              "      <td>orw critical data science method</td>\n",
              "      <td>pbl Robinson and Franklin 2020</td>\n",
              "      <td>Robinson, C. and Franklin, R.S. (2020) ‘The se...</td>\n",
              "    </tr>\n",
              "  </tbody>\n",
              "</table>\n",
              "</div>"
            ],
            "text/plain": [
              "                               elea  ...                                              title\n",
              "24          orw critical data study  ...                                                NaN\n",
              "123                pbl Pickles 1995  ...  Pickles, J. (ed) (1995) Ground Truth: The Soci...\n",
              "124    pbl Schuurman and Pratt 2002  ...  Schuurman, N. and Pratt, G. (2002) ‘Care of th...\n",
              "125                   pbl Dunn 2007  ...  Dunn, C.E. (2007) ‘Participatory GIS – A peopl...\n",
              "126        pbl Crampton et al. 2013  ...  Crampton, J., Graham, M., Poorthuis, A., Shelt...\n",
              "127               pbl Williams 2020  ...  Williams, S. (2020) Data Action: Using Data fo...\n",
              "128    pbl D’Ignazio and Klein 2020  ...  D’Ignazio, C. and Klein, L.F. (2020) Data Femi...\n",
              "129          pbl Graham et al. 2014  ...  Graham, M., Hogan, B., Straumann, R.K. and Med...\n",
              "130          pbl Graham et al. 2015  ...  Graham, M., De Sabbata, S. and Zook, M. (2015)...\n",
              "131  pbl Robinson and Franklin 2020  ...  Robinson, C. and Franklin, R.S. (2020) ‘The se...\n",
              "\n",
              "[10 rows x 5 columns]"
            ]
          },
          "metadata": {},
          "execution_count": 65
        }
      ]
    },
    {
      "cell_type": "markdown",
      "metadata": {
        "id": "OsBNcJWuV6jY"
      },
      "source": [
        "## Save the results"
      ],
      "id": "OsBNcJWuV6jY"
    },
    {
      "cell_type": "code",
      "metadata": {
        "id": "qQXlsF1-roDg",
        "colab": {
          "base_uri": "https://localhost:8080/"
        },
        "outputId": "1e0c841e-ebc0-4432-ccdb-0be1cc6c138a"
      },
      "source": [
        "# Save the results\n",
        "# do_it = False\n",
        "do_it = True\n",
        "if do_it:\n",
        "  tao_iim.dump_elem_rel(elem_df, rels_df, relt_df)"
      ],
      "id": "qQXlsF1-roDg",
      "execution_count": 67,
      "outputs": [
        {
          "output_type": "stream",
          "name": "stdout",
          "text": [
            "Don't forget to download results for further use!!\n"
          ]
        }
      ]
    },
    {
      "cell_type": "code",
      "metadata": {
        "id": "KOSHVKwzijLz"
      },
      "source": [
        ""
      ],
      "id": "KOSHVKwzijLz",
      "execution_count": null,
      "outputs": []
    }
  ]
}
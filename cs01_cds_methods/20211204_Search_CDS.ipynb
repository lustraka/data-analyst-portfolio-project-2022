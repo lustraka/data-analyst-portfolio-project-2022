{
  "nbformat": 4,
  "nbformat_minor": 5,
  "metadata": {
    "kernelspec": {
      "display_name": "Python 3",
      "language": "python",
      "name": "python3"
    },
    "language_info": {
      "codemirror_mode": {
        "name": "ipython",
        "version": 3
      },
      "file_extension": ".py",
      "mimetype": "text/x-python",
      "name": "python",
      "nbconvert_exporter": "python",
      "pygments_lexer": "ipython3",
      "version": "3.7.11"
    },
    "colab": {
      "name": "20211204_Search_CDS.ipynb",
      "provenance": [],
      "include_colab_link": true
    }
  },
  "cells": [
    {
      "cell_type": "markdown",
      "metadata": {
        "id": "view-in-github",
        "colab_type": "text"
      },
      "source": [
        "<a href=\"https://colab.research.google.com/github/lustraka/data-analyst-portfolio-project-2022/blob/main/cs01_cds_methods/20211204_Search_CDS.ipynb\" target=\"_parent\"><img src=\"https://colab.research.google.com/assets/colab-badge.svg\" alt=\"Open In Colab\"/></a>"
      ]
    },
    {
      "cell_type": "markdown",
      "metadata": {
        "id": "v7BeIucvZrme"
      },
      "source": [
        "# Search Critical Data Studies\n",
        "## Goal\n",
        "The key for the research of critical data studies methods is to find out newly published studies. How to do that?\n",
        "\n",
        "## Objective\n",
        "- Identify the most frequent words in titles of publicatins referenced by Kitchin 2021b.\n",
        "- Search web resources using these keywords.\n",
        "- Analyze results."
      ],
      "id": "v7BeIucvZrme"
    },
    {
      "cell_type": "code",
      "metadata": {
        "id": "nF9hQLbaathV"
      },
      "source": [
        "# Import dependencies\n",
        "import requests\n",
        "import pandas as pd\n",
        "import numpy as np\n",
        "import re\n",
        "from datetime import date\n",
        "import json\n",
        "import os\n",
        "import ast"
      ],
      "id": "nF9hQLbaathV",
      "execution_count": 1,
      "outputs": []
    },
    {
      "cell_type": "markdown",
      "metadata": {
        "id": "gN0N4rKna6SC"
      },
      "source": [
        "## Identify the most frequent words"
      ],
      "id": "gN0N4rKna6SC"
    },
    {
      "cell_type": "code",
      "metadata": {
        "id": "TFKMOE9dav3t",
        "outputId": "3932f5a0-c8a0-48cd-b03d-e4b574946b5c",
        "colab": {
          "base_uri": "https://localhost:8080/"
        }
      },
      "source": [
        "# Load the knowledge base\n",
        "\n",
        "# Import the knowledge base\n",
        "kb_path = 'https://raw.githubusercontent.com/lustraka/data-analyst-portfolio-project-2022/main/data/'\n",
        "kb_files = ['tao_iim.py', 'elem.txt', 'rels.csv', 'relt.csv']\n",
        "for kb_file in kb_files:\n",
        "  r = requests.get(kb_path+kb_file)\n",
        "  with open(kb_file, 'wb') as file:\n",
        "    file.write(r.content)\n",
        "\n",
        "import tao_iim\n",
        "\n",
        "# Initialize & update dataframes\n",
        "elem_df, rels_df, relt_df = tao_iim.load_elem_rel()"
      ],
      "id": "TFKMOE9dav3t",
      "execution_count": 2,
      "outputs": [
        {
          "output_type": "stream",
          "name": "stdout",
          "text": [
            "Shapes of loaded files:  [(111, 3), (226, 3), (4, 2)]\n"
          ]
        }
      ]
    },
    {
      "cell_type": "code",
      "metadata": {
        "id": "xCwYsLqdbGFk"
      },
      "source": [
        "from collections import Counter\n",
        "# Extract all titles in the knowledge base\n",
        "titles = elem_df.loc[elem_df.title.notna()].title.to_list()"
      ],
      "id": "xCwYsLqdbGFk",
      "execution_count": 7,
      "outputs": []
    },
    {
      "cell_type": "code",
      "metadata": {
        "id": "nHmMRLiNbLDc"
      },
      "source": [
        "# Take all words in lowercase\n",
        "words = ' '.join(titles).lower().split()"
      ],
      "id": "nHmMRLiNbLDc",
      "execution_count": 16,
      "outputs": []
    },
    {
      "cell_type": "code",
      "metadata": {
        "id": "Js7CineQcKn5"
      },
      "source": [
        "selected = [w.replace('.','').replace(',','') for w in words if re.match('[a-z]{4}', w)]"
      ],
      "id": "Js7CineQcKn5",
      "execution_count": 19,
      "outputs": []
    },
    {
      "cell_type": "code",
      "metadata": {
        "id": "CUhWljEEdltJ",
        "outputId": "092090ff-fbd2-4531-fe93-8cdcb87c3662",
        "colab": {
          "base_uri": "https://localhost:8080/"
        }
      },
      "source": [
        "Counter(selected).most_common(30)"
      ],
      "id": "CUhWljEEdltJ",
      "execution_count": 21,
      "outputs": [
        {
          "output_type": "execute_result",
          "data": {
            "text/plain": [
              "[('data', 65),\n",
              " ('university', 19),\n",
              " ('press', 19),\n",
              " ('society', 18),\n",
              " ('kitchin', 17),\n",
              " ('digital', 13),\n",
              " ('information', 11),\n",
              " ('december', 10),\n",
              " ('smart', 9),\n",
              " ('online', 8),\n",
              " ('manchester', 8),\n",
              " ('with', 7),\n",
              " ('social', 6),\n",
              " ('media', 6),\n",
              " ('london', 6),\n",
              " ('through', 6),\n",
              " ('nafus', 6),\n",
              " ('world', 6),\n",
              " ('geographies', 5),\n",
              " ('research', 5),\n",
              " ('spatial', 5),\n",
              " ('politics', 5),\n",
              " ('data’', 5),\n",
              " ('public', 5),\n",
              " ('case', 5),\n",
              " ('science', 5),\n",
              " ('human', 5),\n",
              " ('data:', 5),\n",
              " ('systems', 5),\n",
              " ('york', 5)]"
            ]
          },
          "metadata": {},
          "execution_count": 21
        }
      ]
    },
    {
      "cell_type": "code",
      "metadata": {
        "id": "Wk01j0FqfSgL"
      },
      "source": [
        ""
      ],
      "id": "Wk01j0FqfSgL",
      "execution_count": null,
      "outputs": []
    }
  ]
}
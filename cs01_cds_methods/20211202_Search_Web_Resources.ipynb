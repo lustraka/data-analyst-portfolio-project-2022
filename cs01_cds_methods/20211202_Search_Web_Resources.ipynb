{
  "nbformat": 4,
  "nbformat_minor": 5,
  "metadata": {
    "kernelspec": {
      "display_name": "Python 3",
      "language": "python",
      "name": "python3"
    },
    "language_info": {
      "codemirror_mode": {
        "name": "ipython",
        "version": 3
      },
      "file_extension": ".py",
      "mimetype": "text/x-python",
      "name": "python",
      "nbconvert_exporter": "python",
      "pygments_lexer": "ipython3",
      "version": "3.7.11"
    },
    "colab": {
      "name": "20211202_Search_Web_Resources.ipynb",
      "provenance": [],
      "include_colab_link": true
    }
  },
  "cells": [
    {
      "cell_type": "markdown",
      "metadata": {
        "id": "view-in-github",
        "colab_type": "text"
      },
      "source": [
        "<a href=\"https://colab.research.google.com/github/lustraka/data-analyst-portfolio-project-2022/blob/main/cs01_cds_methods/20211202_Search_Web_Resources.ipynb\" target=\"_parent\"><img src=\"https://colab.research.google.com/assets/colab-badge.svg\" alt=\"Open In Colab\"/></a>"
      ]
    },
    {
      "cell_type": "markdown",
      "metadata": {
        "id": "4mruFBLAQSrq"
      },
      "source": [
        "# Search Web Resources\n",
        "## Define\n",
        "### Outline requirments\n",
        "In order to *search web resources*,\n",
        "- design the structure of a web search database for storing and comparing automated web searches,\n",
        "- design and test functions for\n",
        "  - searching,\n",
        "  - comparing,\n",
        "  - reporting web resources,\n",
        "- design and test an ontology for discovering (minining) and storing domain knowledge,\n",
        "- populate system in order to compile 2021 annual report on CDS and their methods.\n",
        "\n",
        "### Reflext the previous code\n",
        "\n",
        "- Data_Analysis_Workouts > [20211111_Scrape_WebPages_Root.ipynb](https://github.com/lustraka/Data_Analysis_Workouts/blob/main/Wrangle_Data/Scrape_Google_Search/20211111_Scrape_WebPages_Root.ipynb)\n",
        "  - gather results of the google search (`goo_urls`)\n",
        "  - iterate over `goo_urls` to gather web resources (including the text of a web page if `status_code == 200`)\n",
        "  - create a dataframe with `columns=['id' ,'title', 'wp_url', 'status', 'status_ts', 'text', 'text_len'])`\n",
        "  - store dataframe to SQLite database (`SQLAlchemy`)\n",
        "- suitecrm > [20211126-WebScrape-Pytude.ipynb](https://github.com/lustraka/suitecrm/blob/main/iim/20211126-WebScrape-Pytude.ipynb) >> [Scrape_Google_Sandbox.md](https://github.com/lustraka/suitecrm/blob/main/iim/Scrape_Google_Sandbox.md)\n",
        "  - define `scrape_web(search, count)` function to return a dataframe with `columns=['url', 'site', 'title', 'rec_created']`\n",
        "  ```python\n",
        "  search = 'https://www.google.com/search?q=externí+hodnotitel'\n",
        "df = scrape_web(search, 100)\n",
        "  ```\n",
        "  - export search results to markdown\n",
        "\n",
        "### Design an initial data structure of `url_master.csv`\n",
        "\n",
        "Variable | Description\n",
        "- | -\n",
        "term | An unique idenitifier curated by hand.\n",
        "title | A title of the web page retrieved from the google search results.\n",
        "url | A URL of the web page retrieved from the google search.\n",
        "inn | An Internet node (hostname) extracted from the URL.\n",
        "accessed | A date of the web page access.\n",
        "search | The search string posted to the Google search page.\n",
        "\n",
        "### Define the `search_web(master, search, count)` function\n",
        "Use the Google search engine to find `count` responses to `search`.\n",
        "\n",
        "Params:\n",
        "- `master`: a master dataframe for identifying duplicates\n",
        "- `search`: search terms connected with `+`\n",
        "- `count`: required number of results, default is `40`; pages are retrieved in multiples of 10\n",
        "\n",
        "Returns:\n",
        "- a list with records with same columns as in `url_master`\n",
        "\n",
        "If a web resource is already in `url_master`, then `term` is filled with that value, otherwise it has the `url ` value."
      ],
      "id": "4mruFBLAQSrq"
    },
    {
      "cell_type": "code",
      "metadata": {
        "id": "ytgpotRkd-wd"
      },
      "source": [
        "# Import dependencies\n",
        "import requests\n",
        "from bs4 import BeautifulSoup\n",
        "import pandas as pd\n",
        "import numpy as np\n",
        "import re\n",
        "from datetime import date\n",
        "from urllib.error import HTTPError\n",
        "\n",
        "path = 'https://raw.githubusercontent.com/lustraka/data-analyst-portfolio-project-2022/main/data/web_searches/'\n",
        "\n",
        "# Define an auxiliary function\n",
        "def get_url(link):\n",
        "  \"\"\"Extract URL from a google search an <a> element\"\"\"\n",
        "  if link[:7] == '/url?q=':\n",
        "    url = re.search(r'q=(.*?)&', link).group(1)\n",
        "  else:\n",
        "    url = re.search(r'\\A(.*?)&', link).group(1)\n",
        "  return url\n",
        "\n",
        "# Define load_url_master function\n",
        "def load_url_master(name='url_master.csv'):\n",
        "  \"\"\"Load master file or initialize empty dataframe\"\"\"\n",
        "\n",
        "  try:\n",
        "        df = pd.read_csv(path+name)\n",
        "  except HTTPError as error:\n",
        "    print(f\"{error} >> empty master initialized.\")\n",
        "    df = pd.DataFrame(columns=['term', 'title', 'url', 'inn', 'accessed', 'search'])\n",
        "  \n",
        "  return df"
      ],
      "id": "ytgpotRkd-wd",
      "execution_count": 1,
      "outputs": []
    },
    {
      "cell_type": "code",
      "metadata": {
        "id": "gMB948THgBp8"
      },
      "source": [
        "# Define search_web() function\n",
        "def search_web(master, search, count=40, debug=False):\n",
        "  \"\"\"<fixme> from markdown cell\"\"\"\n",
        "\n",
        "  data = []\n",
        "  accessed = str(date.today())\n",
        "\n",
        "  for i in range(0, count, 10):\n",
        "    gsearch = 'https://www.google.com/search?q=' + search + '&start=' + str(i)\n",
        "    if debug:\n",
        "      print(f\"gsearch = {gsearch}\")\n",
        "    gpage = requests.get(gsearch)\n",
        "    if debug:\n",
        "      print(f\"gpage.status_code = {gpage.status_code}\")\n",
        "    gsoup = BeautifulSoup(gpage.content, 'html.parser')\n",
        "    h3_list = gsoup.find_all('h3')\n",
        "    if debug:\n",
        "      print(f\"len(h3_list) = {len(h3_list)}\")\n",
        "\n",
        "    # Continue only if there are some results\n",
        "    if len(h3_list) == 0:\n",
        "      break\n",
        "\n",
        "    for h3 in h3_list:\n",
        "      title = h3.text\n",
        "      if debug:\n",
        "        print(f\"\\th3.text = {h3.text} | h3.parent.attrs.keys() = {h3.parent.attrs.keys()}\")\n",
        "\n",
        "      # Skip the rest of loop if no url in h3.parent\n",
        "      if 'href' not in h3.parent.attrs.keys():\n",
        "        continue\n",
        "\n",
        "      url = get_url(h3.parent['href'])\n",
        "      inn = re.search('//(.*?)/', url).group(1)\n",
        "      \n",
        "      # Check the url in url_master\n",
        "      check = master.loc[master.url == url]\n",
        "\n",
        "      if check.shape[0] == 0:\n",
        "        term = 'url '\n",
        "      elif check.shape[0] == 1:\n",
        "        term = check.term.values[0]\n",
        "      else:\n",
        "        print(f\"Duplicted records for `{check.term.values[0]}` in `url_master`!!\")\n",
        "      \n",
        "      data.append([term, title, url, inn, accessed, search])\n",
        "\n",
        "    print(gpage.status_code, gsearch, len(h3_list))\n",
        "\n",
        "  return data"
      ],
      "id": "gMB948THgBp8",
      "execution_count": 2,
      "outputs": []
    },
    {
      "cell_type": "markdown",
      "metadata": {
        "id": "AfB7TRlBnzlq"
      },
      "source": [
        "## Search the web"
      ],
      "id": "AfB7TRlBnzlq"
    },
    {
      "cell_type": "code",
      "metadata": {
        "id": "AWZXvmJyoBt_"
      },
      "source": [
        "# Load an url_master file\n",
        "master = load_url_master()\n",
        "print(f\"master.shape = {master.shape}\")"
      ],
      "id": "AWZXvmJyoBt_",
      "execution_count": null,
      "outputs": []
    },
    {
      "cell_type": "code",
      "metadata": {
        "id": "bx2LKXVDkqyK",
        "colab": {
          "base_uri": "https://localhost:8080/"
        },
        "outputId": "15b79264-ece7-4a0a-ec42-0c4a4c44fd63"
      },
      "source": [
        "# Search the web resources\n",
        "search = 'kitchin+data+revolution'\n",
        "data = search_web(master, search, debug=False)\n",
        "data[-1:]"
      ],
      "id": "bx2LKXVDkqyK",
      "execution_count": 3,
      "outputs": [
        {
          "output_type": "stream",
          "name": "stdout",
          "text": [
            "master.shape = (19, 6)\n",
            "200 https://www.google.com/search?q=kitchin+data+revolution&start=0 12\n",
            "Duplicted records for `url Google Books search01` in `url_master`!!\n",
            "200 https://www.google.com/search?q=kitchin+data+revolution&start=10 10\n",
            "200 https://www.google.com/search?q=kitchin+data+revolution&start=20 10\n",
            "200 https://www.google.com/search?q=kitchin+data+revolution&start=30 10\n"
          ]
        },
        {
          "output_type": "execute_result",
          "data": {
            "text/plain": [
              "[['url ',\n",
              "  'Rob Kitchin - Google Scholar',\n",
              "  'https://scholar.google.com/citations%3Fuser%3DY_3-GBQAAAAJ%26hl%3Den',\n",
              "  'scholar.google.com',\n",
              "  '2021-12-02',\n",
              "  'kitchin+data+revolution']]"
            ]
          },
          "metadata": {},
          "execution_count": 3
        }
      ]
    },
    {
      "cell_type": "code",
      "metadata": {
        "id": "lOaCuuAGk0_x",
        "colab": {
          "base_uri": "https://localhost:8080/"
        },
        "outputId": "925c53de-7318-4287-9294-791c660f6c65"
      },
      "source": [
        "# Print already known records\n",
        "for row in [row for row in data if len(row[0]) > 4]:\n",
        "  print(row[0])\n",
        "  print(\"\\t\", row[3], \" | \", row[1])"
      ],
      "id": "lOaCuuAGk0_x",
      "execution_count": 4,
      "outputs": [
        {
          "output_type": "stream",
          "name": "stdout",
          "text": [
            "url Kitchin 2014 SagePub item\n",
            "\t uk.sagepub.com  |  The Data Revolution | SAGE Publications Ltd\n",
            "url Kitchin 2014 Amazon item\n",
            "\t methods.sagepub.com  |  Big Data, Open Data, Data Infrastructures & Their Consequences\n",
            "url Kitchin 2014 SagePub ResearchMethods item\n",
            "\t www.amazon.com  |  The Data Revolution: Big Data, Open Data, Data Infrastructures and ...\n",
            "url Kitchin 2014 TheCultureSociety bookreview\n",
            "\t www.theoryculturesociety.org  |  Review: Rob Kitchin, 'The Data Revolution' - Theory, Culture & Society\n",
            "url Google Books search00\n",
            "\t books.google.com  |  The Data Revolution: Big Data, Open Data, Data ... - Google Books\n",
            "url Rob Kitchin YouTube video00\n",
            "\t www.youtube.com  |  Rob Kitchin talks about big data, open data and the 'data revolution'\n",
            "url Kitchin 2014 bookwebsite\n",
            "\t thedatarevolutionbook.wordpress.com  |  The Data Revolution | A book about big data, open data, data ...\n",
            "url Kitchin 2021b GeographicalResearch bookreview\n",
            "\t onlinelibrary.wiley.com  |  The Data Revolution - Wiley Online Library\n",
            "url Kitchin 2014 JournalOfRegionalScience bookreview\n",
            "\t onlinelibrary.wiley.com  |  Sage Publications. 222+xvii. ISBN: 978‐1446287484, $100.\n",
            "url Kitchin 2014 GoodRead item\n",
            "\t www.goodreads.com  |  The Data Revolution: Big Data, Open Data, Data Infrastructure...\n",
            "url Kitchin 2021b Powells item\n",
            "\t www.powells.com  |  The Data Revolution - Hardcover: 9781529733761 - Powell's Books\n",
            "url Kitchin 2014 SurveillanceSociety bookreview\n",
            "\t ojs.library.queensu.ca  |  View of Review of Kitchin's 'The Data Revolution'\n",
            "url Kitchin booklist\n",
            "\t www.thriftbooks.com  |  List of books by author Rob Kitchin - ThriftBooks\n",
            "url Kitchin 2014 IrishTechNews interview bookreview\n",
            "\t irishtechnews.ie  |  The Data Revolution by Rob Kitchin, review and interview\n",
            "url Kitchin 2014 WhiteRose bookreview\n",
            "\t eprints.whiterose.ac.uk  |  [PDF] Book Review: The Data Revolution: Big Data, Open Data, Data ...\n",
            "url Rob Kitchin AcademicBooks website\n",
            "\t www.kitchin.org  |  Academic books | Rob Kitchin\n",
            "url Rob Kitchin AcademicBooks website\n",
            "\t www.kitchin.org  |  Academic books | Rob Kitchin\n"
          ]
        }
      ]
    },
    {
      "cell_type": "markdown",
      "metadata": {
        "id": "yaQyGfIOyLI1"
      },
      "source": [
        "## Review results\n",
        "\n",
        "- select only the new data (`forreview`)\n",
        "- save the new data to `url_review.csv` for a by-hand review and for the Colab > local > GitHub > Colab cycle\n",
        "- print and copy the new data to the `url_review.md` document and use this document to access web resources during analysis\n"
      ],
      "id": "yaQyGfIOyLI1"
    },
    {
      "cell_type": "code",
      "metadata": {
        "id": "quf43tuLs6s-"
      },
      "source": [
        "# Select only newly idenfied web resources\n",
        "forreview = [row for row in data if len(row[0]) == 4]"
      ],
      "id": "quf43tuLs6s-",
      "execution_count": 5,
      "outputs": []
    },
    {
      "cell_type": "code",
      "metadata": {
        "id": "7_3Fqcl-Cmb-"
      },
      "source": [
        "# Save data as CSV file\n",
        "pd.DataFrame(forreview, columns=master.columns).to_csv('url_review.csv', index=False)"
      ],
      "id": "7_3Fqcl-Cmb-",
      "execution_count": 6,
      "outputs": []
    },
    {
      "cell_type": "code",
      "metadata": {
        "id": "Q0WTsTIMC68M",
        "outputId": "c368291b-265e-4907-c801-75b7cc31ed39",
        "colab": {
          "base_uri": "https://localhost:8080/"
        }
      },
      "source": [
        "def print_md(data):\n",
        "  \"\"\"Print data for markdown document\"\"\"\n",
        "  print(f\"## Searched terms: `{data[0][5]}`\")\n",
        "  for row in data:\n",
        "    print(f\"- [{row[1]}]({row[2]}) (***`{row[3]}`** | {row[0]})\")\n",
        "\n",
        "# Copy data to a markdown file in GitHub\n",
        "print_md(forreview)"
      ],
      "id": "Q0WTsTIMC68M",
      "execution_count": 7,
      "outputs": [
        {
          "output_type": "stream",
          "name": "stdout",
          "text": [
            "## Searched terms: `kitchin+data+revolution`\n",
            "- [The Data Revolution: Big Data, Open Data, Data Infrastructures and ...](https://www.researchgate.net/publication/307894195_The_Data_Revolution_Big_Data_Open_Data_Data_Infrastructures_and_Their_Consequences_by_Rob_Kitchin_2014_Thousand_Oaks_California_Sage_Publications_222xvii_ISBN_978-1446287484_100) (***`www.researchgate.net`** | url )\n",
            "- [[PDF] data revolution - Building a Digital Portfolio](http://arthistory2015.doingdh.org/wp-content/uploads/sites/6/2015/06/Kitchin-Chapter1.pdf) (***`arthistory2015.doingdh.org`** | url )\n",
            "- [A Critical Analysis of Big Data, Open Data and Data Infrastructures](https://www.barnesandnoble.com/w/the-data-revolution-rob-kitchin/1139609906) (***`www.barnesandnoble.com`** | url )\n",
            "- [The Data Revolution - Rob Kitchin - Google Books](https://books.google.com/books/about/The_Data_Revolution.html%3Fid%3DhqdqrgEACAAJ) (***`books.google.com`** | url )\n",
            "- [The Data Revolution - Rob Kitchin - Google Books](https://books.google.com/books/about/The_Data_Revolution.html%3Fhl%3Dpt-BR%26id%3Dkp3ZoAEACAAJ) (***`books.google.com`** | url )\n",
            "- [The Data Revolution: A Critical Analysis of Big Data, Open Data and ...](https://books.google.com/books/about/The_Data_Revolution.html%3Fid%3D83U-EAAAQBAJ) (***`books.google.com`** | url )\n",
            "- [Book review: Kitchin, R. 2014. 'The Data Revolution - University of ...](https://openresearch.surrey.ac.uk/esploro/outputs/journalArticle/Book-review-Kitchin-R-2014-The-Data-Revolution-Big-Data-Open-Data-Data-Infrastructures-and-Their-Consequences--London-Sage240pp-Paperback-2299-Print-ISBN-9781446287484/99512987402346) (***`openresearch.surrey.ac.uk`** | url )\n",
            "- [The Data Revolution - Booktopia](https://www.booktopia.com.au/the-data-revolution-rob-kitchin/book/9781529733754.html) (***`www.booktopia.com.au`** | url )\n",
            "- [Rob Kitchin, The Data Revolution: Big Data, Open Data, Data ...](https://journals.openedition.org/lectures/16521) (***`journals.openedition.org`** | url )\n",
            "- [Sage Publications. 222+xvii. ISBN: 978-1446287484, $100](https://econpapers.repec.org/RePEc:bla:jregsc:v:56:y:2016:i:4:p:722-723) (***`econpapers.repec.org`** | url )\n",
            "- [The Data Revolution - Rob Kitchin - Häftad (9781446287484) | Bokus](https://www.bokus.com/bok/9781446287484/the-data-revolution/) (***`www.bokus.com`** | url )\n",
            "- [9781446287484 - The Data Revolution - Biblio.com](https://www.biblio.com/9781446287484) (***`www.biblio.com`** | url )\n",
            "- [The Data Revolution | 9781446287484 | Rob Kitchin | Boeken](https://www.bol.com/nl/nl/f/the-data-revolution/9200000026153771/) (***`www.bol.com`** | url )\n",
            "- [Rob Kitchin, The Data Revolution - ORBi lu](https://orbilu.uni.lu/handle/10993/34979) (***`orbilu.uni.lu`** | url )\n",
            "- [[PDF] THE DATA REVOLUTION](https://grf.bgu.ac.il/index.php/GRF/article/view/448/439) (***`grf.bgu.ac.il`** | url )\n",
            "- [Rob Kitchin - The Data Revolution - eBooks.com](https://www.ebooks.com/en-us/book/1712661/the-data-revolution/rob-kitchin/) (***`www.ebooks.com`** | url )\n",
            "- [Big Data, Open Data, Data Infrastructures and their Consequences ...](https://www.semanticscholar.org/paper/The-Data-Revolution%253A-Big-Data%252C-Open-Data%252C-Data-and-Benenson/b358ea5c48c0dd326117a4c0658e347f6a56e165) (***`www.semanticscholar.org`** | url )\n",
            "- [[PDF] The Data Revolution by Rob Kitchin | Perlego](https://www.perlego.com/book/860829/the-data-revolution-big-data-open-data-data-infrastructures-and-their-consequences-pdf) (***`www.perlego.com`** | url )\n",
            "- [Rob Kitchin's forthcoming The Data Revolution has a website, with ...](https://progressivegeographies.com/2014/05/26/rob-kitchins-forthcoming-the-data-revolution-has-a-website-with-bibliography/) (***`progressivegeographies.com`** | url )\n",
            "- [FR Kitchin, R. The Data Revolution Big Data, Open Data ... - Scribd](https://www.scribd.com/document/500413496/FR-Kitchin-R-The-data-revolution-big-data-open-data-data-infrastructures-and) (***`www.scribd.com`** | url )\n",
            "- [The Data Revolution : Rob Kitchin : 9781446287484 - Book ...](https://www.bookdepository.com/Data-Revolution-Rob-Kitchin/9781446287484) (***`www.bookdepository.com`** | url )\n",
            "- [A Critical Analysis of Big Data, Open Data and Data Infrastructures](https://www.awesomebooks.com/book/9781529733761/the-data-revolution-a-critical-analysis-of-big-data-open-data-and-data-infrastructures) (***`www.awesomebooks.com`** | url )\n",
            "- [Rob Kitchin - Google Scholar](https://scholar.google.com/citations%3Fuser%3DY_3-GBQAAAAJ%26hl%3Den) (***`scholar.google.com`** | url )\n"
          ]
        }
      ]
    },
    {
      "cell_type": "markdown",
      "metadata": {
        "id": "KEktuLpuXRLB"
      },
      "source": [
        "## Review data by hand now\n",
        "- fetch the local repository\n",
        "- download `url_review.csv` to the local repository\n",
        "- review the new web resources and fill their terms\n",
        "- save `url_review.csv` locally\n",
        "- push changes to the GitHub repository"
      ],
      "id": "KEktuLpuXRLB"
    },
    {
      "cell_type": "code",
      "metadata": {
        "id": "jNodUTvuZoko",
        "outputId": "3370b62b-9fbd-4d7e-a71c-2c12a6759ff5",
        "colab": {
          "base_uri": "https://localhost:8080/",
          "height": 143
        }
      },
      "source": [
        "# Check terms\n",
        "master.loc[master.term.apply(lambda s: 'google' in s.lower()), ['term', 'url']]"
      ],
      "id": "jNodUTvuZoko",
      "execution_count": 12,
      "outputs": [
        {
          "output_type": "execute_result",
          "data": {
            "text/html": [
              "<div>\n",
              "<style scoped>\n",
              "    .dataframe tbody tr th:only-of-type {\n",
              "        vertical-align: middle;\n",
              "    }\n",
              "\n",
              "    .dataframe tbody tr th {\n",
              "        vertical-align: top;\n",
              "    }\n",
              "\n",
              "    .dataframe thead th {\n",
              "        text-align: right;\n",
              "    }\n",
              "</style>\n",
              "<table border=\"1\" class=\"dataframe\">\n",
              "  <thead>\n",
              "    <tr style=\"text-align: right;\">\n",
              "      <th></th>\n",
              "      <th>term</th>\n",
              "      <th>url</th>\n",
              "    </tr>\n",
              "  </thead>\n",
              "  <tbody>\n",
              "    <tr>\n",
              "      <th>5</th>\n",
              "      <td>url Google Books search00</td>\n",
              "      <td>https://books.google.com/books/about/The_Data_...</td>\n",
              "    </tr>\n",
              "    <tr>\n",
              "      <th>6</th>\n",
              "      <td>url Google Books search01</td>\n",
              "      <td>https://books.google.com/books/about/The_Data_...</td>\n",
              "    </tr>\n",
              "    <tr>\n",
              "      <th>10</th>\n",
              "      <td>url Google Books search03</td>\n",
              "      <td>https://books.google.com/books/about/The_Data_...</td>\n",
              "    </tr>\n",
              "  </tbody>\n",
              "</table>\n",
              "</div>"
            ],
            "text/plain": [
              "                         term                                                url\n",
              "5   url Google Books search00  https://books.google.com/books/about/The_Data_...\n",
              "6   url Google Books search01  https://books.google.com/books/about/The_Data_...\n",
              "10  url Google Books search03  https://books.google.com/books/about/The_Data_..."
            ]
          },
          "metadata": {},
          "execution_count": 12
        }
      ]
    },
    {
      "cell_type": "markdown",
      "metadata": {
        "id": "Z8pM-JC9hxq-"
      },
      "source": [
        "## Append reviewed data to master\n",
        "- read `url_review.csv` (from the GitHub repository)\n",
        "- append rows to the master\n",
        "- check the master file"
      ],
      "id": "Z8pM-JC9hxq-"
    },
    {
      "cell_type": "code",
      "metadata": {
        "id": "-cceGjzJEfmN",
        "outputId": "2f22bc71-70b8-4f12-97c8-dd2440a86f88",
        "colab": {
          "base_uri": "https://localhost:8080/"
        }
      },
      "source": [
        "# Read reviewed data\n",
        "reviewed = pd.read_csv(path+'url_review.csv')\n",
        "reviewed.shape"
      ],
      "id": "-cceGjzJEfmN",
      "execution_count": 13,
      "outputs": [
        {
          "output_type": "execute_result",
          "data": {
            "text/plain": [
              "(23, 6)"
            ]
          },
          "metadata": {},
          "execution_count": 13
        }
      ]
    },
    {
      "cell_type": "code",
      "metadata": {
        "id": "V9o5xuPVO1iU",
        "outputId": "3c04104b-3647-4f44-a21c-085e1b4f70aa",
        "colab": {
          "base_uri": "https://localhost:8080/"
        }
      },
      "source": [
        "# Append reviewed row to master\n",
        "master = master.append(reviewed, ignore_index=True, verify_integrity=True)\n",
        "master.shape"
      ],
      "id": "V9o5xuPVO1iU",
      "execution_count": 14,
      "outputs": [
        {
          "output_type": "execute_result",
          "data": {
            "text/plain": [
              "(42, 6)"
            ]
          },
          "metadata": {},
          "execution_count": 14
        }
      ]
    },
    {
      "cell_type": "code",
      "metadata": {
        "id": "oT8xX-A0O5Rs",
        "outputId": "77d7e3a3-0051-4abb-b5be-69a53a0695b5",
        "colab": {
          "base_uri": "https://localhost:8080/"
        }
      },
      "source": [
        "master.duplicated(['term', 'url']).sum()"
      ],
      "id": "oT8xX-A0O5Rs",
      "execution_count": 15,
      "outputs": [
        {
          "output_type": "execute_result",
          "data": {
            "text/plain": [
              "0"
            ]
          },
          "metadata": {},
          "execution_count": 15
        }
      ]
    },
    {
      "cell_type": "markdown",
      "metadata": {
        "id": "xqdrmv3Nh4IV"
      },
      "source": [
        "## Save updated master `url_master`\n",
        "- save updated master `url_master`\n",
        "- download `url_master` to the local repository\n",
        "- push changes to the GitHub repository"
      ],
      "id": "xqdrmv3Nh4IV"
    },
    {
      "cell_type": "code",
      "metadata": {
        "id": "EPMVRoVZRFqr"
      },
      "source": [
        "# Save master as CSV file\n",
        "master.to_csv('url_master.csv', index=False)"
      ],
      "id": "EPMVRoVZRFqr",
      "execution_count": 16,
      "outputs": []
    },
    {
      "cell_type": "markdown",
      "metadata": {
        "id": "oGDR-4r0iVpV"
      },
      "source": [
        "## Analyze the master file"
      ],
      "id": "oGDR-4r0iVpV"
    },
    {
      "cell_type": "code",
      "metadata": {
        "id": "bKHGYlbERVCz",
        "outputId": "343d87bf-6df6-4b0a-fa2a-6f497c8a6a58",
        "colab": {
          "base_uri": "https://localhost:8080/",
          "height": 1000
        }
      },
      "source": [
        "master[['term','inn','title']].sort_values(by='term')"
      ],
      "id": "bKHGYlbERVCz",
      "execution_count": 18,
      "outputs": [
        {
          "output_type": "execute_result",
          "data": {
            "text/html": [
              "<div>\n",
              "<style scoped>\n",
              "    .dataframe tbody tr th:only-of-type {\n",
              "        vertical-align: middle;\n",
              "    }\n",
              "\n",
              "    .dataframe tbody tr th {\n",
              "        vertical-align: top;\n",
              "    }\n",
              "\n",
              "    .dataframe thead th {\n",
              "        text-align: right;\n",
              "    }\n",
              "</style>\n",
              "<table border=\"1\" class=\"dataframe\">\n",
              "  <thead>\n",
              "    <tr style=\"text-align: right;\">\n",
              "      <th></th>\n",
              "      <th>term</th>\n",
              "      <th>inn</th>\n",
              "      <th>title</th>\n",
              "    </tr>\n",
              "  </thead>\n",
              "  <tbody>\n",
              "    <tr>\n",
              "      <th>5</th>\n",
              "      <td>url Google Books search00</td>\n",
              "      <td>books.google.com</td>\n",
              "      <td>The Data Revolution: Big Data, Open Data, Data...</td>\n",
              "    </tr>\n",
              "    <tr>\n",
              "      <th>6</th>\n",
              "      <td>url Google Books search01</td>\n",
              "      <td>books.google.com</td>\n",
              "      <td>The Data Revolution - Rob Kitchin - Google Books</td>\n",
              "    </tr>\n",
              "    <tr>\n",
              "      <th>10</th>\n",
              "      <td>url Google Books search03</td>\n",
              "      <td>books.google.com</td>\n",
              "      <td>The Data Revolution - Rob Kitchin - Google Books</td>\n",
              "    </tr>\n",
              "    <tr>\n",
              "      <th>22</th>\n",
              "      <td>url Google Books search04</td>\n",
              "      <td>books.google.com</td>\n",
              "      <td>The Data Revolution - Rob Kitchin - Google Books</td>\n",
              "    </tr>\n",
              "    <tr>\n",
              "      <th>23</th>\n",
              "      <td>url Google Books search05</td>\n",
              "      <td>books.google.com</td>\n",
              "      <td>The Data Revolution - Rob Kitchin - Google Books</td>\n",
              "    </tr>\n",
              "    <tr>\n",
              "      <th>24</th>\n",
              "      <td>url Google Books search06</td>\n",
              "      <td>books.google.com</td>\n",
              "      <td>The Data Revolution: A Critical Analysis of Bi...</td>\n",
              "    </tr>\n",
              "    <tr>\n",
              "      <th>1</th>\n",
              "      <td>url Kitchin 2014 Amazon item</td>\n",
              "      <td>methods.sagepub.com</td>\n",
              "      <td>Big Data, Open Data, Data Infrastructures &amp; Th...</td>\n",
              "    </tr>\n",
              "    <tr>\n",
              "      <th>40</th>\n",
              "      <td>url Kitchin 2014 AwesomeBooks item</td>\n",
              "      <td>www.awesomebooks.com</td>\n",
              "      <td>A Critical Analysis of Big Data, Open Data and...</td>\n",
              "    </tr>\n",
              "    <tr>\n",
              "      <th>30</th>\n",
              "      <td>url Kitchin 2014 Biblio items</td>\n",
              "      <td>www.biblio.com</td>\n",
              "      <td>9781446287484 - The Data Revolution - Biblio.com</td>\n",
              "    </tr>\n",
              "    <tr>\n",
              "      <th>29</th>\n",
              "      <td>url Kitchin 2014 Bokus item</td>\n",
              "      <td>www.bokus.com</td>\n",
              "      <td>The Data Revolution - Rob Kitchin - Häftad (97...</td>\n",
              "    </tr>\n",
              "    <tr>\n",
              "      <th>31</th>\n",
              "      <td>url Kitchin 2014 BolCom item</td>\n",
              "      <td>www.bol.com</td>\n",
              "      <td>The Data Revolution | 9781446287484 | Rob Kitc...</td>\n",
              "    </tr>\n",
              "    <tr>\n",
              "      <th>39</th>\n",
              "      <td>url Kitchin 2014 BookDepository item</td>\n",
              "      <td>www.bookdepository.com</td>\n",
              "      <td>The Data Revolution : Rob Kitchin : 9781446287...</td>\n",
              "    </tr>\n",
              "    <tr>\n",
              "      <th>28</th>\n",
              "      <td>url Kitchin 2014 EconPaper reviewrecord</td>\n",
              "      <td>econpapers.repec.org</td>\n",
              "      <td>Sage Publications. 222+xvii. ISBN: 978-1446287...</td>\n",
              "    </tr>\n",
              "    <tr>\n",
              "      <th>33</th>\n",
              "      <td>url Kitchin 2014 GeographyResearchForum bookre...</td>\n",
              "      <td>grf.bgu.ac.il</td>\n",
              "      <td>[PDF] THE DATA REVOLUTION</td>\n",
              "    </tr>\n",
              "    <tr>\n",
              "      <th>13</th>\n",
              "      <td>url Kitchin 2014 GoodRead item</td>\n",
              "      <td>www.goodreads.com</td>\n",
              "      <td>The Data Revolution: Big Data, Open Data, Data...</td>\n",
              "    </tr>\n",
              "    <tr>\n",
              "      <th>16</th>\n",
              "      <td>url Kitchin 2014 IrishTechNews interview bookr...</td>\n",
              "      <td>irishtechnews.ie</td>\n",
              "      <td>The Data Revolution by Rob Kitchin, review and...</td>\n",
              "    </tr>\n",
              "    <tr>\n",
              "      <th>12</th>\n",
              "      <td>url Kitchin 2014 JournalOfRegionalScience book...</td>\n",
              "      <td>onlinelibrary.wiley.com</td>\n",
              "      <td>Sage Publications. 222+xvii. ISBN: 978‐1446287...</td>\n",
              "    </tr>\n",
              "    <tr>\n",
              "      <th>19</th>\n",
              "      <td>url Kitchin 2014 JournalOfRegionalScience book...</td>\n",
              "      <td>www.researchgate.net</td>\n",
              "      <td>The Data Revolution: Big Data, Open Data, Data...</td>\n",
              "    </tr>\n",
              "    <tr>\n",
              "      <th>27</th>\n",
              "      <td>url Kitchin 2014 LesComptesRendus bookreview</td>\n",
              "      <td>journals.openedition.org</td>\n",
              "      <td>Rob Kitchin, The Data Revolution: Big Data, Op...</td>\n",
              "    </tr>\n",
              "    <tr>\n",
              "      <th>32</th>\n",
              "      <td>url Kitchin 2014 ORBiLU reviewrecord</td>\n",
              "      <td>orbilu.uni.lu</td>\n",
              "      <td>Rob Kitchin, The Data Revolution - ORBi lu</td>\n",
              "    </tr>\n",
              "    <tr>\n",
              "      <th>36</th>\n",
              "      <td>url Kitchin 2014 Perlego item</td>\n",
              "      <td>www.perlego.com</td>\n",
              "      <td>[PDF] The Data Revolution by Rob Kitchin | Per...</td>\n",
              "    </tr>\n",
              "    <tr>\n",
              "      <th>37</th>\n",
              "      <td>url Kitchin 2014 ProgressiveGeographies bookre...</td>\n",
              "      <td>progressivegeographies.com</td>\n",
              "      <td>Rob Kitchin's forthcoming The Data Revolution ...</td>\n",
              "    </tr>\n",
              "    <tr>\n",
              "      <th>2</th>\n",
              "      <td>url Kitchin 2014 SagePub ResearchMethods item</td>\n",
              "      <td>www.amazon.com</td>\n",
              "      <td>The Data Revolution: Big Data, Open Data, Data...</td>\n",
              "    </tr>\n",
              "    <tr>\n",
              "      <th>0</th>\n",
              "      <td>url Kitchin 2014 SagePub item</td>\n",
              "      <td>uk.sagepub.com</td>\n",
              "      <td>The Data Revolution | SAGE Publications Ltd</td>\n",
              "    </tr>\n",
              "    <tr>\n",
              "      <th>38</th>\n",
              "      <td>url Kitchin 2014 Scibd rewiewrecord</td>\n",
              "      <td>www.scribd.com</td>\n",
              "      <td>FR Kitchin, R. The Data Revolution Big Data, O...</td>\n",
              "    </tr>\n",
              "    <tr>\n",
              "      <th>35</th>\n",
              "      <td>url Kitchin 2014 SemanticScholar paperrecord</td>\n",
              "      <td>www.semanticscholar.org</td>\n",
              "      <td>Big Data, Open Data, Data Infrastructures and ...</td>\n",
              "    </tr>\n",
              "    <tr>\n",
              "      <th>25</th>\n",
              "      <td>url Kitchin 2014 SurveillanceSociety bookreview</td>\n",
              "      <td>openresearch.surrey.ac.uk</td>\n",
              "      <td>Book review: Kitchin, R. 2014. 'The Data Revol...</td>\n",
              "    </tr>\n",
              "    <tr>\n",
              "      <th>14</th>\n",
              "      <td>url Kitchin 2014 SurveillanceSociety bookreview</td>\n",
              "      <td>ojs.library.queensu.ca</td>\n",
              "      <td>View of Review of Kitchin's 'The Data Revolution'</td>\n",
              "    </tr>\n",
              "    <tr>\n",
              "      <th>4</th>\n",
              "      <td>url Kitchin 2014 TheCultureSociety bookreview</td>\n",
              "      <td>www.theoryculturesociety.org</td>\n",
              "      <td>Review: Rob Kitchin, 'The Data Revolution' - T...</td>\n",
              "    </tr>\n",
              "    <tr>\n",
              "      <th>17</th>\n",
              "      <td>url Kitchin 2014 WhiteRose bookreview</td>\n",
              "      <td>eprints.whiterose.ac.uk</td>\n",
              "      <td>[PDF] Book Review: The Data Revolution: Big Da...</td>\n",
              "    </tr>\n",
              "    <tr>\n",
              "      <th>8</th>\n",
              "      <td>url Kitchin 2014 bookwebsite</td>\n",
              "      <td>thedatarevolutionbook.wordpress.com</td>\n",
              "      <td>The Data Revolution | A book about big data, o...</td>\n",
              "    </tr>\n",
              "    <tr>\n",
              "      <th>34</th>\n",
              "      <td>url Kitchin 2014 eBooks item</td>\n",
              "      <td>www.ebooks.com</td>\n",
              "      <td>Rob Kitchin - The Data Revolution - eBooks.com</td>\n",
              "    </tr>\n",
              "    <tr>\n",
              "      <th>20</th>\n",
              "      <td>url Kitchin 2014 pdf fragment</td>\n",
              "      <td>arthistory2015.doingdh.org</td>\n",
              "      <td>[PDF] data revolution - Building a Digital Por...</td>\n",
              "    </tr>\n",
              "    <tr>\n",
              "      <th>3</th>\n",
              "      <td>url Kitchin 2021b Amazon item</td>\n",
              "      <td>www.amazon.com</td>\n",
              "      <td>The Data Revolution: A Critical Analysis of Bi...</td>\n",
              "    </tr>\n",
              "    <tr>\n",
              "      <th>21</th>\n",
              "      <td>url Kitchin 2021b BarnesNoble item</td>\n",
              "      <td>www.barnesandnoble.com</td>\n",
              "      <td>A Critical Analysis of Big Data, Open Data and...</td>\n",
              "    </tr>\n",
              "    <tr>\n",
              "      <th>26</th>\n",
              "      <td>url Kitchin 2021b Booktopia item</td>\n",
              "      <td>www.booktopia.com.au</td>\n",
              "      <td>The Data Revolution - Booktopia</td>\n",
              "    </tr>\n",
              "    <tr>\n",
              "      <th>11</th>\n",
              "      <td>url Kitchin 2021b GeographicalResearch bookreview</td>\n",
              "      <td>onlinelibrary.wiley.com</td>\n",
              "      <td>The Data Revolution - Wiley Online Library</td>\n",
              "    </tr>\n",
              "    <tr>\n",
              "      <th>9</th>\n",
              "      <td>url Kitchin 2021b Powells item</td>\n",
              "      <td>www.powells.com</td>\n",
              "      <td>The Data Revolution - Hardcover: 9781529733761...</td>\n",
              "    </tr>\n",
              "    <tr>\n",
              "      <th>15</th>\n",
              "      <td>url Kitchin booklist</td>\n",
              "      <td>www.thriftbooks.com</td>\n",
              "      <td>List of books by author Rob Kitchin - ThriftBooks</td>\n",
              "    </tr>\n",
              "    <tr>\n",
              "      <th>18</th>\n",
              "      <td>url Rob Kitchin AcademicBooks website</td>\n",
              "      <td>www.kitchin.org</td>\n",
              "      <td>Academic books | Rob Kitchin</td>\n",
              "    </tr>\n",
              "    <tr>\n",
              "      <th>41</th>\n",
              "      <td>url Rob Kitchin GoogleScholar record</td>\n",
              "      <td>scholar.google.com</td>\n",
              "      <td>Rob Kitchin - Google Scholar</td>\n",
              "    </tr>\n",
              "    <tr>\n",
              "      <th>7</th>\n",
              "      <td>url Rob Kitchin YouTube video00</td>\n",
              "      <td>www.youtube.com</td>\n",
              "      <td>Rob Kitchin talks about big data, open data an...</td>\n",
              "    </tr>\n",
              "  </tbody>\n",
              "</table>\n",
              "</div>"
            ],
            "text/plain": [
              "                                                 term  ...                                              title\n",
              "5                           url Google Books search00  ...  The Data Revolution: Big Data, Open Data, Data...\n",
              "6                           url Google Books search01  ...   The Data Revolution - Rob Kitchin - Google Books\n",
              "10                          url Google Books search03  ...   The Data Revolution - Rob Kitchin - Google Books\n",
              "22                          url Google Books search04  ...   The Data Revolution - Rob Kitchin - Google Books\n",
              "23                          url Google Books search05  ...   The Data Revolution - Rob Kitchin - Google Books\n",
              "24                          url Google Books search06  ...  The Data Revolution: A Critical Analysis of Bi...\n",
              "1                        url Kitchin 2014 Amazon item  ...  Big Data, Open Data, Data Infrastructures & Th...\n",
              "40                 url Kitchin 2014 AwesomeBooks item  ...  A Critical Analysis of Big Data, Open Data and...\n",
              "30                      url Kitchin 2014 Biblio items  ...   9781446287484 - The Data Revolution - Biblio.com\n",
              "29                        url Kitchin 2014 Bokus item  ...  The Data Revolution - Rob Kitchin - Häftad (97...\n",
              "31                       url Kitchin 2014 BolCom item  ...  The Data Revolution | 9781446287484 | Rob Kitc...\n",
              "39               url Kitchin 2014 BookDepository item  ...  The Data Revolution : Rob Kitchin : 9781446287...\n",
              "28            url Kitchin 2014 EconPaper reviewrecord  ...  Sage Publications. 222+xvii. ISBN: 978-1446287...\n",
              "33  url Kitchin 2014 GeographyResearchForum bookre...  ...                          [PDF] THE DATA REVOLUTION\n",
              "13                     url Kitchin 2014 GoodRead item  ...  The Data Revolution: Big Data, Open Data, Data...\n",
              "16  url Kitchin 2014 IrishTechNews interview bookr...  ...  The Data Revolution by Rob Kitchin, review and...\n",
              "12  url Kitchin 2014 JournalOfRegionalScience book...  ...  Sage Publications. 222+xvii. ISBN: 978‐1446287...\n",
              "19  url Kitchin 2014 JournalOfRegionalScience book...  ...  The Data Revolution: Big Data, Open Data, Data...\n",
              "27       url Kitchin 2014 LesComptesRendus bookreview  ...  Rob Kitchin, The Data Revolution: Big Data, Op...\n",
              "32               url Kitchin 2014 ORBiLU reviewrecord  ...         Rob Kitchin, The Data Revolution - ORBi lu\n",
              "36                      url Kitchin 2014 Perlego item  ...  [PDF] The Data Revolution by Rob Kitchin | Per...\n",
              "37  url Kitchin 2014 ProgressiveGeographies bookre...  ...  Rob Kitchin's forthcoming The Data Revolution ...\n",
              "2       url Kitchin 2014 SagePub ResearchMethods item  ...  The Data Revolution: Big Data, Open Data, Data...\n",
              "0                       url Kitchin 2014 SagePub item  ...        The Data Revolution | SAGE Publications Ltd\n",
              "38                url Kitchin 2014 Scibd rewiewrecord  ...  FR Kitchin, R. The Data Revolution Big Data, O...\n",
              "35       url Kitchin 2014 SemanticScholar paperrecord  ...  Big Data, Open Data, Data Infrastructures and ...\n",
              "25    url Kitchin 2014 SurveillanceSociety bookreview  ...  Book review: Kitchin, R. 2014. 'The Data Revol...\n",
              "14    url Kitchin 2014 SurveillanceSociety bookreview  ...  View of Review of Kitchin's 'The Data Revolution'\n",
              "4       url Kitchin 2014 TheCultureSociety bookreview  ...  Review: Rob Kitchin, 'The Data Revolution' - T...\n",
              "17              url Kitchin 2014 WhiteRose bookreview  ...  [PDF] Book Review: The Data Revolution: Big Da...\n",
              "8                        url Kitchin 2014 bookwebsite  ...  The Data Revolution | A book about big data, o...\n",
              "34                       url Kitchin 2014 eBooks item  ...     Rob Kitchin - The Data Revolution - eBooks.com\n",
              "20                      url Kitchin 2014 pdf fragment  ...  [PDF] data revolution - Building a Digital Por...\n",
              "3                       url Kitchin 2021b Amazon item  ...  The Data Revolution: A Critical Analysis of Bi...\n",
              "21                 url Kitchin 2021b BarnesNoble item  ...  A Critical Analysis of Big Data, Open Data and...\n",
              "26                   url Kitchin 2021b Booktopia item  ...                    The Data Revolution - Booktopia\n",
              "11  url Kitchin 2021b GeographicalResearch bookreview  ...         The Data Revolution - Wiley Online Library\n",
              "9                      url Kitchin 2021b Powells item  ...  The Data Revolution - Hardcover: 9781529733761...\n",
              "15                               url Kitchin booklist  ...  List of books by author Rob Kitchin - ThriftBooks\n",
              "18              url Rob Kitchin AcademicBooks website  ...                       Academic books | Rob Kitchin\n",
              "41               url Rob Kitchin GoogleScholar record  ...                       Rob Kitchin - Google Scholar\n",
              "7                     url Rob Kitchin YouTube video00  ...  Rob Kitchin talks about big data, open data an...\n",
              "\n",
              "[42 rows x 3 columns]"
            ]
          },
          "metadata": {},
          "execution_count": 18
        }
      ]
    },
    {
      "cell_type": "code",
      "metadata": {
        "id": "Q4eg_N8Rir3L",
        "outputId": "1f222d7b-27a1-4551-84c5-2f9e39a34508",
        "colab": {
          "base_uri": "https://localhost:8080/",
          "height": 98
        }
      },
      "source": [
        "# Check duplicated terms\n",
        "master.loc[master.term.duplicated()]"
      ],
      "id": "Q4eg_N8Rir3L",
      "execution_count": 20,
      "outputs": [
        {
          "output_type": "execute_result",
          "data": {
            "text/html": [
              "<div>\n",
              "<style scoped>\n",
              "    .dataframe tbody tr th:only-of-type {\n",
              "        vertical-align: middle;\n",
              "    }\n",
              "\n",
              "    .dataframe tbody tr th {\n",
              "        vertical-align: top;\n",
              "    }\n",
              "\n",
              "    .dataframe thead th {\n",
              "        text-align: right;\n",
              "    }\n",
              "</style>\n",
              "<table border=\"1\" class=\"dataframe\">\n",
              "  <thead>\n",
              "    <tr style=\"text-align: right;\">\n",
              "      <th></th>\n",
              "      <th>term</th>\n",
              "      <th>title</th>\n",
              "      <th>url</th>\n",
              "      <th>inn</th>\n",
              "      <th>accessed</th>\n",
              "      <th>search</th>\n",
              "    </tr>\n",
              "  </thead>\n",
              "  <tbody>\n",
              "    <tr>\n",
              "      <th>25</th>\n",
              "      <td>url Kitchin 2014 SurveillanceSociety bookreview</td>\n",
              "      <td>Book review: Kitchin, R. 2014. 'The Data Revol...</td>\n",
              "      <td>https://openresearch.surrey.ac.uk/esploro/outp...</td>\n",
              "      <td>openresearch.surrey.ac.uk</td>\n",
              "      <td>2021-12-02</td>\n",
              "      <td>kitchin+data+revolution</td>\n",
              "    </tr>\n",
              "  </tbody>\n",
              "</table>\n",
              "</div>"
            ],
            "text/plain": [
              "                                               term  ...                   search\n",
              "25  url Kitchin 2014 SurveillanceSociety bookreview  ...  kitchin+data+revolution\n",
              "\n",
              "[1 rows x 6 columns]"
            ]
          },
          "metadata": {},
          "execution_count": 20
        }
      ]
    },
    {
      "cell_type": "code",
      "metadata": {
        "id": "KRJXck-9jLy9"
      },
      "source": [
        ""
      ],
      "id": "KRJXck-9jLy9",
      "execution_count": null,
      "outputs": []
    }
  ]
}
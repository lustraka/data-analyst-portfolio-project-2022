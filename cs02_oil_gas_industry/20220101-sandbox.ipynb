{
 "cells": [
  {
   "cell_type": "markdown",
   "metadata": {},
   "source": [
    "# Oil & Gas Industry Case Study\n",
    "Build a business knowledge database using web resources. Keep it short and simple.\n",
    "\n",
    "## Scrape Gasvessel D9.1 Table 9 stakeholders"
   ]
  },
  {
   "cell_type": "code",
   "execution_count": 1,
   "metadata": {},
   "outputs": [],
   "source": [
    "from pathlib import Path\n",
    "import pandas as pd"
   ]
  },
  {
   "cell_type": "markdown",
   "metadata": {},
   "source": [
    "This is a unique transformation:\n",
    "```python\n",
    "table = Path('gasvessel_d91_stakeholders.txt').read_text(encoding='utf-8').split('\\n')\n",
    "pd.DataFrame([row.split('|') for row in table], columns=['category','name','country','website']).applymap(str.strip).to_csv('gasvessel_d91_stakeholders.csv', index=False)\n",
    "```"
   ]
  },
  {
   "cell_type": "code",
   "execution_count": 2,
   "metadata": {},
   "outputs": [
    {
     "data": {
      "text/plain": [
       "(176, 4)"
      ]
     },
     "execution_count": 2,
     "metadata": {},
     "output_type": "execute_result"
    }
   ],
   "source": [
    "gvp_sth = pd.read_csv('dw/gasvessel_d91_stakeholders.csv')\n",
    "gvp_sth.shape"
   ]
  },
  {
   "cell_type": "code",
   "execution_count": 5,
   "metadata": {},
   "outputs": [
    {
     "data": {
      "text/plain": [
       "Oil & Gas Companies                    44\n",
       "Shipping industry                      36\n",
       "Media                                  27\n",
       "Interest & Networking organizations    19\n",
       "Ports                                  18\n",
       "Industrial clusters                    12\n",
       "Scientific & Research community         9\n",
       "Regulators                              8\n",
       "Policy makers                           2\n",
       "General Public                          1\n",
       "Name: category, dtype: int64"
      ]
     },
     "execution_count": 5,
     "metadata": {},
     "output_type": "execute_result"
    }
   ],
   "source": [
    "gvp_sth.category.value_counts()"
   ]
  },
  {
   "cell_type": "code",
   "execution_count": null,
   "metadata": {},
   "outputs": [],
   "source": []
  }
 ],
 "metadata": {
  "interpreter": {
   "hash": "ca367ec2123462f39d29b1cb00fbec81c42b60930943c35eba205ccbd8e96ce2"
  },
  "kernelspec": {
   "display_name": "Python 3.9.9 64-bit (windows store)",
   "language": "python",
   "name": "python3"
  },
  "language_info": {
   "codemirror_mode": {
    "name": "ipython",
    "version": 3
   },
   "file_extension": ".py",
   "mimetype": "text/x-python",
   "name": "python",
   "nbconvert_exporter": "python",
   "pygments_lexer": "ipython3",
   "version": "3.9.9"
  },
  "orig_nbformat": 4
 },
 "nbformat": 4,
 "nbformat_minor": 2
}
